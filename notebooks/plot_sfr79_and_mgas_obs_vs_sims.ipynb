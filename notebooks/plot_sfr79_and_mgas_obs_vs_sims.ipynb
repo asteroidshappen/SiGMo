{
 "cells": [
  {
   "cell_type": "markdown",
   "source": [
    "# Quick plotting for SFR79 from Observations and Simulations"
   ],
   "metadata": {
    "collapsed": false
   }
  },
  {
   "cell_type": "markdown",
   "source": [
    "#### <span style='color:blue'> Adapted to also include xCG individual data points in addition to binned-SDSS based grid of values! </span>"
   ],
   "metadata": {
    "collapsed": false,
    "pycharm": {
     "name": "#%% md\n"
    }
   }
  },
  {
   "cell_type": "markdown",
   "source": [
    "### Imports"
   ],
   "metadata": {
    "collapsed": false
   }
  },
  {
   "cell_type": "code",
   "execution_count": null,
   "outputs": [],
   "source": [
    "import numpy as np\n",
    "import pandas as pd\n",
    "from scipy import stats\n",
    "\n",
    "import yaml\n",
    "from pathlib import Path\n",
    "from datetime import datetime\n",
    "import warnings\n",
    "\n",
    "import matplotlib as mpl\n",
    "import matplotlib.pyplot as plt\n",
    "\n",
    "from tqdm.notebook import tqdm, trange\n",
    "\n",
    "import SiGMo as sgm"
   ],
   "metadata": {
    "collapsed": false,
    "pycharm": {
     "name": "#%%\n"
    }
   }
  },
  {
   "cell_type": "markdown",
   "source": [
    "### Compute SFR79 from SFR\n",
    "\n",
    "Generalised helper function, can be used for SDSS grid-style data and individual data points (in a 1-d grid). Computes the log SFR79 from the \"actual\" simulation SFR averages:\n",
    "\n",
    "$$\\mathrm{SFR79} = \\frac{\\mathrm{SFR}_\\mathrm{5 Myr}}{\\mathrm{SFR}_\\mathrm{800 Myr}}$$"
   ],
   "metadata": {
    "collapsed": false
   }
  },
  {
   "cell_type": "markdown",
   "source": [
    "### Define directories"
   ],
   "metadata": {
    "collapsed": false
   }
  },
  {
   "cell_type": "raw",
   "source": [
    "project_dir = Path.cwd().parent\n",
    "sfr79_dir = project_dir / 'data' / \"SFR79_grids\"\n",
    "\n",
    "\n",
    "# # SDSS-based simulations WITH sMIR_scaling updated AT EVERY TIMESTEP\n",
    "# # from z=2 to z=0 forwards runs (new, August 22)\n",
    "#\n",
    "# # off-MS sMIR scaling basefactor: 1\n",
    "# snp_dir_SDSSsim = project_dir / 'outputs' / '_tmp' / \"2022.XX.XX-XX.XX.XX\" / \"0_forward_from_z2.0_to_z0_dt1e-3_SFRoffset0.0_sMIR_scaling_basefactor1.0\"\n",
    "\n",
    "\n",
    "\n",
    "# GMS set-up simulations WITH sMIR_scaling updated AT EVERY TIMESTEP\n",
    "# from z=2 to z=0 forwards runs (new, August 22)\n",
    "\n",
    "# # on GMS, sMIR scaling basefactor 1\n",
    "# snp_dir_GMSsim = project_dir / 'outputs' / '_tmp' / \"2022.08.18-11.46.35\" / \"0_forward_from_z2.0_to_z0_dt1e-3_SFRoffset0.0_sMIR_scaling_basefactor1.0\"\n",
    "# # +0.3 dex off GMS, sMIR scaling basefactor 1\n",
    "# snp_dir_GMSsim = project_dir / 'outputs' / '_tmp' / \"2022.08.18-12.47.05\" / \"0_forward_from_z2.0_to_z0_dt1e-3_SFRoffset0.3_sMIR_scaling_basefactor1.0\"\n",
    "\n",
    "\n",
    "\n",
    "# GMS with GAUSSIAN SCATTER simulations WITH sMIR_scaling updated AT EVERY TIMESTEP\n",
    "# from z=2 to z=0 forwards runs (new, August 22)\n",
    "\n",
    "# # on/around GMS, sMIR scaling basefactor 1\n",
    "# snp_dir_GMSsim = project_dir / 'outputs' / '_tmp' / \"2022.08.24-00.30.36\" / \"0_forward_from_z2.0_to_z0_dt1e-3_SFRoffset0.0_sMIR_scaling_basefactor1.0\"\n",
    "# # on/around GMS, sMIR scaling basefactor 4\n",
    "# snp_dir_GMSsim = project_dir / 'outputs' / '_tmp' / \"2022.08.24-17.41.25\" / \"0_forward_from_z2.0_to_z0_dt1e-3_SFRoffset0.0_sMIR_scaling_basefactor4.0\"\n",
    "# # on/around GMS, sMIR scaling basefactor 10\n",
    "# snp_dir_GMSsim = project_dir / 'outputs' / '_tmp' / \"2022.08.24-02.36.56\" / \"0_forward_from_z2.0_to_z0_dt1e-3_SFRoffset0.0_sMIR_scaling_basefactor10.0\"\n",
    "# # on/around GMS, sMIR scaling basefactor 20\n",
    "# snp_dir_GMSsim = project_dir / 'outputs' / '_tmp' / \"2022.08.25-13.27.08\" / \"0_forward_from_z2.0_to_z0_dt1e-3_SFRoffset0.0_sMIR_scaling_basefactor20.0\"\n",
    "# # on/around GMS, sMIR scaling basefactor 40\n",
    "# snp_dir_GMSsim = project_dir / 'outputs' / '_tmp' / \"2022.08.24-18.16.37\" / \"0_forward_from_z2.0_to_z0_dt1e-3_SFRoffset0.0_sMIR_scaling_basefactor40.0\"\n",
    "# # on/around GMS, sMIR scaling basefactor 100\n",
    "# snp_dir_GMSsim = project_dir / 'outputs' / '_tmp' / \"2022.08.24-10.14.25\" / \"0_forward_from_z2.0_to_z0_dt1e-3_SFRoffset0.0_sMIR_scaling_basefactor100.0\"\n",
    "\n",
    "\n",
    "# Time-Resolution 10 TIMES!!!!\n",
    "# GMS with GAUSSIAN SCATTER simulations WITH sMIR_scaling updated AT EVERY TIMESTEP\n",
    "# from z=2 to z=0 forwards runs (new, August 22)\n",
    "\n",
    "# # on/around GMS, sMIR scaling basefactor 4 - ALL 100 GALAXIES\n",
    "# snp_dir_GMSsim = project_dir / 'outputs' / '_tmp' / \"2022.08.31-11.13.53\" / \"0_forward_from_z2.0_to_z0_dt1e-04_SFRoffset0.0_sMIR_scaling_basefactor4.0\"\n",
    "# # on/around GMS, sMIR scaling basefactor 40 - ALL 100 GALAXIES\n",
    "# snp_dir_GMSsim = project_dir / 'outputs' / '_tmp' / \"2022.08.26-17.56.17\" / \"0_forward_from_z2.0_to_z0_dt1e-04_SFRoffset0.0_sMIR_scaling_basefactor40.0\"\n",
    "# # on/around GMS, sMIR scaling basefactor 40 - BUT ONLY 10 GALAXIES\n",
    "# snp_dir_GMSsim = project_dir / 'outputs' / '_tmp' / \"2022.08.26-15.09.40\" / \"0_forward_from_z2.0_to_z0_dt1e-4_SFRoffset0.0_sMIR_scaling_basefactor40.0\"\n",
    "\n",
    "\n",
    "# SIGMA = 0.3\n",
    "# GMS with Gaussian Scatter of SIGMA = 0.3 simulations WITH sMIR_scaling updated AT EVERY TIMESTEP\n",
    "# from z=2 to z=0 forwards runs (new, September 22)\n",
    "\n",
    "# # on/around GMS, sMIR scaling basefactor 1\n",
    "# snp_dir_GMSsim = project_dir / 'outputs' / '_tmp' / \"2022.08.31-17.43.51\" / \"gms_gauss_from_z2.0_to_z0_dt1e-03_wtd1_sigma0.300_sMIR_scaling_basefactor1.0\"\n",
    "# # on/around GMS, sMIR scaling basefactor 4\n",
    "# snp_dir_GMSsim = project_dir / 'outputs' / '_tmp' / \"2022.08.31-18.33.47\" / \"gms_gauss_from_z2.0_to_z0_dt1e-03_wtd1_sigma0.300_sMIR_scaling_basefactor4.0\"\n",
    "# # on/around GMS, sMIR scaling basefactor 10\n",
    "# snp_dir_GMSsim = project_dir / 'outputs' / '_tmp' / \"2022.08.31-18.45.33\" / \"gms_gauss_from_z2.0_to_z0_dt1e-03_wtd1_sigma0.300_sMIR_scaling_basefactor10.0\"\n",
    "# # on/around GMS, sMIR scaling basefactor 20\n",
    "# snp_dir_GMSsim = project_dir / 'outputs' / '_tmp' / \"2022.08.31-18.58.06\" / \"gms_gauss_from_z2.0_to_z0_dt1e-03_wtd1_sigma0.300_sMIR_scaling_basefactor20.0\"\n",
    "# # on/around GMS, sMIR scaling basefactor 40\n",
    "# snp_dir_GMSsim = project_dir / 'outputs' / '_tmp' / \"2022.08.31-20.05.21\" / \"gms_gauss_from_z2.0_to_z0_dt1e-03_wtd1_sigma0.300_sMIR_scaling_basefactor40.0\"\n",
    "# # on/around GMS, sMIR scaling basefactor 100\n",
    "# snp_dir_GMSsim = project_dir / 'outputs' / '_tmp' / \"2022.08.31-20.21.12\" / \"gms_gauss_from_z2.0_to_z0_dt1e-03_wtd1_sigma0.300_sMIR_scaling_basefactor100.0\"\n",
    "\n",
    "\n",
    "# sMIR SCALING FROZEN\n",
    "# GMS with Gaussian Scatter of SIGMA = 0.3 simulations WITH sMIR_scaling FROZEN / NOT UPDATED at every timestep\n",
    "# from z=2 to z=0 forwards runs (new, September 22)\n",
    "\n",
    "# # on/around GMS, sMIR scaling basefactor 1\n",
    "# snp_dir_GMSsim = project_dir / 'outputs' / '_tmp' / \"2022.09.06-16.02.03\" / \"gms_gauss_from_z2.0_to_z0_dt1e-03_wtd1_sigma0.300_sMIR_scaling_basefactor1.0\"\n",
    "# # on/around GMS, sMIR scaling basefactor 4\n",
    "# snp_dir_GMSsim = project_dir / 'outputs' / '_tmp' / \"2022.09.06-16.12.04\" / \"gms_gauss_from_z2.0_to_z0_dt1e-03_wtd1_sigma0.300_sMIR_scaling_basefactor4.0\"\n",
    "# # on/around GMS, sMIR scaling basefactor 10\n",
    "# snp_dir_GMSsim = project_dir / 'outputs' / '_tmp' / \"2022.09.06-16.48.33\" / \"gms_gauss_from_z2.0_to_z0_dt1e-03_wtd1_sigma0.300_sMIR_scaling_basefactor10.0\"\n",
    "# # on/around GMS, sMIR scaling basefactor 20\n",
    "# snp_dir_GMSsim = project_dir / 'outputs' / '_tmp' / \"2022.09.06-16.56.12\" / \"gms_gauss_from_z2.0_to_z0_dt1e-03_wtd1_sigma0.300_sMIR_scaling_basefactor20.0\"\n",
    "# # on/around GMS, sMIR scaling basefactor 40\n",
    "# snp_dir_GMSsim = project_dir / 'outputs' / '_tmp' / \"2022.09.06-17.04.24\" / \"gms_gauss_from_z2.0_to_z0_dt1e-03_wtd1_sigma0.300_sMIR_scaling_basefactor40.0\"\n",
    "# # on/around GMS, sMIR scaling basefactor 100\n",
    "# snp_dir_GMSsim = project_dir / 'outputs' / '_tmp' / \"2022.09.06-17.12.49\" / \"gms_gauss_from_z2.0_to_z0_dt1e-03_wtd1_sigma0.300_sMIR_scaling_basefactor100.0\"\n",
    "\n",
    "\n",
    "\n",
    "# STELLAR-TO-HALO MASS SCATTER (sMIR SCALING STILL FROZEN)\n",
    "# Single on-GMS Mstar with Gaussian Scatter of SIGMA = 0.1 in Mhalo simulations (WITH sMIR_scaling FROZEN / NOT UPDATED at every timestep)\n",
    "# from z=2 to z=0 forwards runs (new, November 22)\n",
    "\n",
    "# # initial mstar=1e8, on GMS, sigma mhalo = 0.1 dex\n",
    "# snp_dir_GMSsim = project_dir / 'outputs' / '_tmp' / \"2022.11.17-12.41.28\" / \"gms_mhalo_single_from_z2.0_to_z0_dt1e-03_wtd1_mhalo_sigma0.100_mstar8.0\"\n",
    "# # initial mstar=1e8, on GMS, sigma mhalo = 1.0 dex\n",
    "# snp_dir_GMSsim = project_dir / 'outputs' / '_tmp' / \"2022.11.17-13.04.56\" / \"gms_mhalo_single_from_z2.0_to_z0_dt1e-03_wtd1_mhalo_sigma1.000_mstar8.0\"\n",
    "\n",
    "# # initial mstar=1e6, on GMS, sigma mhalo = 0.1 dex, 40 GALAXIES in the scatter\n",
    "# snp_dir_GMSsim = project_dir / 'outputs' / '_tmp' / \"2022.11.18-10.28.07\" / \"gms_mhalo_single_from_z2.0_to_z0_dt1e-03_wtd1_mhalo_sigma0.100_mstar9.0\"\n",
    "# # initial mstar=1e8, on GMS, sigma mhalo = 0.1 dex, 40 GALAXIES in the scatter\n",
    "# snp_dir_GMSsim = project_dir / 'outputs' / '_tmp' / \"2022.11.17-15.40.37\" / \"gms_mhalo_single_from_z2.0_to_z0_dt1e-03_wtd1_mhalo_sigma0.100_mstar8.0\"\n",
    "# # initial mstar=1e7, on GMS, sigma mhalo = 0.1 dex, 40 GALAXIES in the scatter\n",
    "# snp_dir_GMSsim = project_dir / 'outputs' / '_tmp' / \"2022.11.18-10.07.21\" / \"gms_mhalo_single_from_z2.0_to_z0_dt1e-03_wtd1_mhalo_sigma0.100_mstar7.0\"\n",
    "# # initial mstar=1e6, on GMS, sigma mhalo = 0.1 dex, 40 GALAXIES in the scatter\n",
    "# snp_dir_GMSsim = project_dir / 'outputs' / '_tmp' / \"2022.11.18-10.20.43\" / \"gms_mhalo_single_from_z2.0_to_z0_dt1e-03_wtd1_mhalo_sigma0.100_mstar6.0\"\n",
    "\n",
    "\n",
    "\n",
    "# STELLAR-TO-HALO MASS SCATTER (sMIR SCALING STILL FROZEN)\n",
    "# Uniform random on-GMS Mstar with Gaussian Scatter of SIGMA = 0.1 in Mhalo simulations (WITH sMIR_scaling FROZEN / NOT UPDATED at every timestep)\n",
    "# from z=2 to z=0 forwards runs (new, November 22)\n",
    "\n",
    "# # initial mstar between 1e6 and 1e9, on GMS, sigma mhalo = 0.1 dex, 100 gals\n",
    "# snp_dir_GMSsim = project_dir / 'outputs' / '_tmp' / \"2022.11.18-11.49.16\" / \"gms_mhalo_population_from_z2.0_to_z0_dt1e-03_wtd1_mhalo_sigma0.100_mstar6.0-9.0\"\n",
    "\n",
    "# # initial mstar between 1e6 and 1e9, on GMS, sigma mhalo = 0.1 dex, 1000 gals (ca. 14 GB!)\n",
    "# snp_dir_GMSsim = project_dir / 'outputs' / '_tmp' / \"2022.11.18-13.28.30\" / \"gms_mhalo_population_1000gals_from_z2.0_to_z0_dt1e-03_wtd1_mhalo_sigma0.100_mstar6.0-9.0\"\n",
    "\n",
    "# initial mstar between 1e6 and 1e9, on GMS, sigma mhalo = 0.2 dex, 1000 gals (ca. 14 GB!)\n",
    "snp_dir_GMSsim = project_dir / 'outputs' / '_tmp' / \"2022.11.28-11.50.58\" / \"gms_mhalo_population_1000gals_from_z2.0_to_z0_dt1e-03_wtd1_mhalo_sigma0.200_mstar6.0-9.0\"\n",
    "\n",
    "\n",
    "\n",
    "\n",
    "\n",
    "\n",
    "\n",
    "\n",
    "# ATTENTION! plotting directory is based on the xCG directory parent name/name here!\n",
    "plot_dir = project_dir / 'plots' / '_tmp' / snp_dir_GMSsim.parent.name / snp_dir_GMSsim.name   # plot dir has now same datetime name as output dir\n",
    "plot_dir.mkdir(exist_ok=True, parents=True)   # create plot dir only if necessary"
   ],
   "metadata": {
    "collapsed": false,
    "pycharm": {
     "name": "#%% raw\n"
    }
   }
  },
  {
   "cell_type": "markdown",
   "source": [
    "### Read (and make if necessary) directories according to analysis config file"
   ],
   "metadata": {
    "collapsed": false,
    "pycharm": {
     "name": "#%% md\n"
    }
   }
  },
  {
   "cell_type": "code",
   "execution_count": null,
   "outputs": [],
   "source": [
    "project_dir = Path.cwd().parent\n",
    "\n",
    "local_config = Path.cwd() / \"SiGMo_analysis_config_local.yml\"\n",
    "general_config = Path.cwd() / \"SiGMo_analysis_config.yml\"\n",
    "if local_config.is_file():\n",
    "    config = yaml.safe_load(open(local_config))\n",
    "elif general_config.is_file():\n",
    "    config = yaml.safe_load(open(general_config))\n",
    "else:\n",
    "    raise ValueError\n",
    "\n",
    "sfr79_dir = Path(config['paths']['sfr79_dir'])\n",
    "snp_dir_GMSsim = Path(config['paths']['snp_dir_GMSsim'])\n",
    "plot_dir = Path(config['paths']['plot_dir'])\n",
    "plot_dir.mkdir(exist_ok=True, parents=True)   # create plot dir only if necessary"
   ],
   "metadata": {
    "collapsed": false,
    "pycharm": {
     "name": "#%%\n"
    }
   }
  },
  {
   "cell_type": "markdown",
   "source": [
    "### try exponential formatting"
   ],
   "metadata": {
    "collapsed": false,
    "pycharm": {
     "name": "#%% md\n"
    }
   }
  },
  {
   "cell_type": "code",
   "execution_count": null,
   "outputs": [],
   "source": [
    "time_res = 3.e-4\n",
    "\n",
    "time_res_str = str(f'{time_res:.0e}')\n",
    "\n",
    "print(time_res_str)\n",
    "\n",
    "time_res_float_from_str = float(time_res_str)\n",
    "\n",
    "print(time_res_float_from_str)\n",
    "\n",
    "assert np.isclose(time_res, time_res_float_from_str, atol=time_res/100)"
   ],
   "metadata": {
    "collapsed": false,
    "pycharm": {
     "name": "#%%\n"
    }
   }
  },
  {
   "cell_type": "markdown",
   "source": [
    "### Read-in: Observational Data (SDSS and xCG)"
   ],
   "metadata": {
    "collapsed": false
   }
  },
  {
   "cell_type": "code",
   "execution_count": null,
   "outputs": [],
   "source": [
    "# reading observational results\n",
    "\n",
    "# SDSS\n",
    "sfr79_medians = np.loadtxt(str(sfr79_dir / \"SFR79_2dhist_medians.txt\"))\n",
    "mstar_mesh =  np.loadtxt(str(sfr79_dir / \"SFR79_2dhist_binedges_mstar_mesh.txt\"))\n",
    "sfr_mesh = np.loadtxt(str(sfr79_dir / \"SFR79_2dhist_binedges_sfr_mesh.txt\"))\n",
    "n_binned = np.loadtxt(str(sfr79_dir / \"SFR79_2dhist_binnumbers.txt\"))\n",
    "\n",
    "# removing low-number bins (if wanted, as before when setting up the simulation)\n",
    "# if not wanted: comment the next two lines out!\n",
    "n_binned_min = 40\n",
    "sfr79_medians = np.where(n_binned >= n_binned_min, sfr79_medians, np.nan)\n",
    "\n",
    "# xCG\n",
    "xCG_df = pd.read_csv(sfr79_dir / \"xCOLD_GASS_with_SDSS_SFR79_df.csv\")\n",
    "xCG_minimal_selector = ((xCG_df.LOGMSTAR > -900) & (xCG_df.LOGSFR_BEST > -900) & (xCG_df.LOGMH2 > - 900))\n",
    "xCG_gasdetect_selector = (xCG_df.FLAG_CO == 1)\n",
    "xCG_sfr79 = np.squeeze(xCG_df.loc[xCG_minimal_selector & xCG_gasdetect_selector, \"SFR79values\"].to_numpy())\n",
    "xCG_df_selected = xCG_df.loc[xCG_minimal_selector & xCG_gasdetect_selector]"
   ],
   "metadata": {
    "collapsed": false,
    "pycharm": {
     "name": "#%%\n"
    }
   }
  },
  {
   "cell_type": "markdown",
   "source": [
    "### Read in SDSS-based grid-like simulation data (that was created using binned SDSS data as ICs)"
   ],
   "metadata": {
    "collapsed": false
   }
  },
  {
   "cell_type": "raw",
   "source": [
    "# setting the snapshot type flag! False -> from one big Env snap; True -> from many indiv. snaps\n",
    "single_snapshots = False"
   ],
   "metadata": {
    "collapsed": false,
    "pycharm": {
     "name": "#%% raw\n"
    }
   }
  },
  {
   "cell_type": "raw",
   "source": [
    "# how many objects per timestep?\n",
    "n_envs = 1\n",
    "# assuming same mstar-sfr pairs in the sims as in the obs\n",
    "n_halos = len(sfr79_medians.flat) - len(sfr79_medians[np.where(np.isnan(sfr79_medians))].flat)\n",
    "n_gals = n_halos\n",
    "\n",
    "# reading simulation results (SDSS)\n",
    "env_grid_SDSSsim, halo_grid_SDSSsim, gal_grid_SDSSsim = sgm.read_all_snapshots_from_dir(snp_dir=snp_dir_SDSSsim,\n",
    "                                                                                        n_envs=n_envs,\n",
    "                                                                                        n_halos=n_halos,\n",
    "                                                                                        n_gals=n_gals,\n",
    "                                                                                        single_snapshots=single_snapshots)"
   ],
   "metadata": {
    "collapsed": false,
    "pycharm": {
     "name": "#%% raw\n"
    }
   }
  },
  {
   "cell_type": "raw",
   "source": [
    "# re-create/populate halo_grid and galaxy_grid (for FIRST Environment only) if necessary\n",
    "if not single_snapshots:\n",
    "    for t, env_snp in enumerate(tqdm(env_grid_SDSSsim[0])):  # HARDCODED to 1st Environment only!\n",
    "        for i_halo, halo in enumerate(env_snp.data['halos']):\n",
    "            halo_grid_SDSSsim[i_halo, t] = sgm.Snapshot(halo)\n",
    "            for i_gal, gal in enumerate(halo['galaxies']):\n",
    "                gal_grid_SDSSsim[i_halo, t] = sgm.Snapshot(gal)  # HARDCODED to 1 Galaxy per Halo!!"
   ],
   "metadata": {
    "collapsed": false,
    "pycharm": {
     "name": "#%% raw\n"
    }
   }
  },
  {
   "cell_type": "markdown",
   "source": [
    "### SDSS-based sims: calculate SFR79 from SFRs\n",
    "\n",
    "Compute the log SFR79 from the \"actual\" simulation SFR averages:\n",
    "\n",
    "$$\\mathrm{SFR79} = \\frac{\\mathrm{SFR}_\\mathrm{5 Myr}}{\\mathrm{SFR}_\\mathrm{800 Myr}}$$"
   ],
   "metadata": {
    "collapsed": false
   }
  },
  {
   "cell_type": "raw",
   "source": [
    "SFR79_grid_SDSSsim = sgm.compute_SFR79_from_SFR(gal_grid_SDSSsim)\n",
    "\n",
    "print(\"SFR79_grid_SDSSsim:\\n\", SFR79_grid_SDSSsim)"
   ],
   "metadata": {
    "collapsed": false,
    "pycharm": {
     "name": "#%% raw\n"
    }
   }
  },
  {
   "cell_type": "markdown",
   "source": [
    "### Read in GMS-based simulation data (that was created using individual galaxies along or off-set from the GMS as desired as ICs)"
   ],
   "metadata": {
    "collapsed": false
   }
  },
  {
   "cell_type": "code",
   "execution_count": null,
   "outputs": [],
   "source": [
    "# setting the snapshot type flag! False -> from one big Env snap; True -> from many indiv. snaps\n",
    "single_snapshots = False"
   ],
   "metadata": {
    "collapsed": false,
    "pycharm": {
     "name": "#%%# setting the snapshot type flag! False -> from one big Env snap; True -> from many indiv. snaps\n"
    }
   }
  },
  {
   "cell_type": "code",
   "execution_count": null,
   "outputs": [],
   "source": [
    "# how many objects per timestep?\n",
    "n_envs = 1\n",
    "# this is \"unknown\" unless looked up someplace else, but if 'None' will be determined from some Environment snapshot\n",
    "n_halos = None\n",
    "n_gals = None\n",
    "\n",
    "# reading simulation results (SDSS)\n",
    "env_grid_GMSsim, halo_grid_GMSsim, gal_grid_GMSsim = sgm.read_all_snapshots_from_dir(snp_dir=snp_dir_GMSsim,\n",
    "                                                                                     n_envs=n_envs,\n",
    "                                                                                     n_halos=n_halos,\n",
    "                                                                                     n_gals=n_gals,\n",
    "                                                                                     single_snapshots=single_snapshots)"
   ],
   "metadata": {
    "collapsed": false,
    "pycharm": {
     "name": "#%%\n"
    }
   }
  },
  {
   "cell_type": "code",
   "execution_count": null,
   "outputs": [],
   "source": [
    "# re-create/populate halo_grid and galaxy_grid (for FIRST Environment only) if necessary\n",
    "if not single_snapshots:\n",
    "    for t, env_snp in enumerate(tqdm(env_grid_GMSsim[0])):  # HARDCODED to 1st Environment only!\n",
    "        for i_halo, halo in enumerate(env_snp.data['halos']):\n",
    "            halo_grid_GMSsim[i_halo, t] = sgm.Snapshot(halo)\n",
    "            for i_gal, gal in enumerate(halo['galaxies']):\n",
    "                gal_grid_GMSsim[i_halo, t] = sgm.Snapshot(gal)  # HARDCODED to 1 Galaxy per Halo!!"
   ],
   "metadata": {
    "collapsed": false,
    "pycharm": {
     "name": "#%%\n"
    }
   }
  },
  {
   "cell_type": "markdown",
   "source": [
    "### GMS-based sims: calculate SFR79 from SFRs\n",
    "\n",
    "Compute the log SFR79 from the \"actual\" simulation SFR averages:\n",
    "\n",
    "$$\\mathrm{SFR79} = \\frac{\\mathrm{SFR}_\\mathrm{5 Myr}}{\\mathrm{SFR}_\\mathrm{800 Myr}}$$"
   ],
   "metadata": {
    "collapsed": false,
    "pycharm": {
     "name": "#%% md\n"
    }
   }
  },
  {
   "cell_type": "code",
   "source": [
    "SFR79_grid_GMSsim = sgm.compute_SFR79_from_SFR(gal_grid_GMSsim)\n",
    "\n",
    "print(\"SFR79_grid_GMSsim:\\n\", SFR79_grid_GMSsim)"
   ],
   "metadata": {
    "collapsed": false,
    "pycharm": {
     "name": "#%%SFR79_grid = compute_SFR79_from_SFR(gal_grid)\n"
    }
   },
   "execution_count": null,
   "outputs": []
  },
  {
   "cell_type": "markdown",
   "source": [
    "### **SFR79 from observations vs from simulations**"
   ],
   "metadata": {
    "collapsed": false
   }
  },
  {
   "cell_type": "raw",
   "source": [
    "# sort simulation results into an array of same shape as observational results\n",
    "mstar_lower = 10**mstar_mesh[:-1, :-1]\n",
    "mstar_upper = 10**mstar_mesh[1:, 1:]\n",
    "sfr_lower = 10**(sfr_mesh[:-1, :-1]) * 10**9  # multiply by 10**9 because of 'pre yr' to 'per Gyr' conversion\n",
    "sfr_upper = 10**(sfr_mesh[1:, 1:]) * 10**9  # multiply by 10**9 because of 'pre yr' to 'per Gyr' conversion\n",
    "\n",
    "sfr79_SDSSsim_grid = np.full_like(sfr79_medians, np.nan)\n",
    "# for (sfr79, gal) in zip(SFR79_grid[:, -1], gal_grid[:, -1]):  # special setting if you want the shape at the end\n",
    "for (sfr79, gal) in zip(SFR79_grid_SDSSsim[:, -1], gal_grid_SDSSsim[:, 0]):  # regular setting when you want the shape from the start\n",
    "    w_mstar_lower = mstar_lower < gal.data['mstar']\n",
    "    w_mstar_upper = mstar_upper > gal.data['mstar']\n",
    "    w_sfr_lower = sfr_lower < gal.data['SFR']\n",
    "    w_sfr_upper = sfr_upper > gal.data['SFR']\n",
    "\n",
    "    w_mstar = w_mstar_lower & w_mstar_upper\n",
    "    w_sfr = w_sfr_lower & w_sfr_upper\n",
    "\n",
    "    w = w_mstar & w_sfr\n",
    "\n",
    "    sfr79_SDSSsim_grid[w] = sfr79"
   ],
   "metadata": {
    "collapsed": false,
    "pycharm": {
     "name": "#%% raw\n"
    }
   }
  },
  {
   "cell_type": "raw",
   "source": [
    "# print some statistics (also displayed in plot)\n",
    "print(\"min log SFR79 from sims\", np.nanmin(sfr79_SDSSsim_grid))\n",
    "print(\"max log SFR79 from sims\", np.nanmax(sfr79_SDSSsim_grid))"
   ],
   "metadata": {
    "collapsed": false,
    "pycharm": {
     "name": "#%% raw\n"
    }
   }
  },
  {
   "cell_type": "raw",
   "source": [
    "# colormap/norm etc. for scatter plot itself\n",
    "sfr79_range = (-2, 2)\n",
    "cmap = mpl.cm.RdBu\n",
    "norm = mpl.colors.Normalize(vmin=sfr79_range[0], vmax=sfr79_range[1])\n",
    "mapper = mpl.cm.ScalarMappable(norm=norm, cmap=cmap)\n",
    "\n",
    "# set up figure and axes\n",
    "fig, (ax_obs, ax_sims, ax_cbar) = plt.subplots(1, 3,\n",
    "                                               gridspec_kw={\n",
    "                                                   'width_ratios': (9, 9, 1),\n",
    "                                                   'hspace': 0.05\n",
    "                                               },\n",
    "                                               figsize=(21, 9))\n",
    "\n",
    "# plot observational data\n",
    "im_obs = ax_obs.pcolormesh(mstar_mesh, sfr_mesh,\n",
    "                           sfr79_medians,\n",
    "                           cmap=cmap, norm=norm)\n",
    "\n",
    "# plot simulation data\n",
    "im_sims = ax_sims.pcolormesh(mstar_mesh, sfr_mesh,\n",
    "                             sfr79_SDSSsim_grid,\n",
    "                             cmap=cmap, norm=norm)\n",
    "\n",
    "# plot colorbar\n",
    "fig.colorbar(mpl.cm.ScalarMappable(norm=norm, cmap=cmap),\n",
    "             ax=ax_cbar,\n",
    "             fraction=0.8,\n",
    "             extend='both',\n",
    "             anchor=(0.0, 0.0),\n",
    "             label='log SFR79')\n",
    "\n",
    "# adding the Galaxy Main Sequence on top (Saintonge+2016, Eq. 5)\n",
    "GMS_x = np.linspace(start=np.min(mstar_mesh),\n",
    "                    stop=np.max(mstar_mesh),\n",
    "                    num=1000,\n",
    "                    endpoint=True)\n",
    "for ax in [ax_obs, ax_sims]:\n",
    "    ax.plot(GMS_x, sgm.GMS_Saintonge2016(GMS_x),\n",
    "            color='xkcd:magenta', ls=':')\n",
    "\n",
    "# remove unnecessary axes\n",
    "ax_cbar.remove()\n",
    "\n",
    "# figure labelling etc\n",
    "for ax in [ax_obs, ax_sims]:\n",
    "    ax.set_xlabel(r'log $M_\\star$ [$M_\\odot$]')\n",
    "    ax.set_ylabel(r'log SFR [$M_\\odot \\, yr^{-1}$]')\n",
    "ax_sims.text(0.95, 0.05,\n",
    "             f\"min(log SFR79) = {np.nanmin(sfr79_SDSSsim_grid):.3f}\\n\"\n",
    "             f\"max(log SFR79) = {np.nanmax(sfr79_SDSSsim_grid):.3f}\",\n",
    "             transform=ax_sims.transAxes,\n",
    "             va='bottom', ha='right')"
   ],
   "metadata": {
    "collapsed": false,
    "pycharm": {
     "name": "#%% raw\n"
    }
   }
  },
  {
   "cell_type": "raw",
   "source": [
    "# add xCG observational and simulation SFR79\n",
    "\n",
    "# first: check that SFR79 arrays from sim and obs are SAME LENGTH!\n",
    "assert len(xCG_sfr79) == len(SFR79_grid_GMSsim[:, -1])\n",
    "\n",
    "# define which data to plot\n",
    "gal_grid = gal_grid_GMSsim\n",
    "halo_grid = halo_grid_GMSsim\n",
    "env_grid = env_grid_GMSsim\n",
    "\n",
    "# which snp is to be used for mstar-SFR values (aka position on the plot)?\n",
    "which_snp = 0  # intial mstar, SFR\n",
    "\n",
    "which_objects = range(0, len(gal_grid), 1)\n",
    "x_data = []\n",
    "y_data = []\n",
    "c_data_obs = []\n",
    "c_data_sim = []\n",
    "c_colours_obs = []\n",
    "c_colours_sim = []\n",
    "for i in tqdm(which_objects):\n",
    "    x_data.append([np.log10(gal_grid[i, which_snp].data['mstar'])])\n",
    "    y_data.append([np.log10(gal_grid[i, which_snp].data['SFR']) - 9.])  # -9. is for conversion from /Gyr to /yr\n",
    "    c_data_obs.append(xCG_sfr79[i])\n",
    "    c_data_sim.append(SFR79_grid_GMSsim[i, -1])\n",
    "    c_colours_obs.append(mapper.to_rgba(xCG_sfr79[i]))\n",
    "    c_colours_sim.append(mapper.to_rgba(SFR79_grid_GMSsim[i, -1]))\n",
    "\n",
    "# plotting the xCG obs data points\n",
    "ax_obs.scatter(x=x_data, y=y_data, c=c_colours_obs, cmap=cmap, norm=norm, edgecolors='xkcd:light grey')\n",
    "\n",
    "# plotting the xCG sim data points\n",
    "ax_sims.scatter(x=x_data, y=y_data, c=c_colours_sim, cmap=cmap, norm=norm, edgecolors='xkcd:light grey')"
   ],
   "metadata": {
    "collapsed": false,
    "pycharm": {
     "name": "#%% raw\n"
    }
   }
  },
  {
   "cell_type": "raw",
   "source": [
    "# save heat-map plot to disk\n",
    "fig.savefig(plot_dir / f'SFR79_obs_vs_sims_{datetime.now().strftime(\"%Y.%m.%d-%H.%M.%S\")}.png')"
   ],
   "metadata": {
    "collapsed": false,
    "pycharm": {
     "name": "#%% raw\n"
    }
   }
  },
  {
   "cell_type": "markdown",
   "source": [
    "### SDSS binned obs SFR79 with individual GMS sims"
   ],
   "metadata": {
    "collapsed": false,
    "pycharm": {
     "name": "#%% md\n"
    }
   }
  },
  {
   "cell_type": "code",
   "execution_count": null,
   "outputs": [],
   "source": [
    "# calculate the mgas values (from Saintonge+22 relation) for SDSS bins\n",
    "mstar_grid = (mstar_mesh[:-1, :-1] + mstar_mesh[1:, 1:]) / 2.\n",
    "sfr_grid = (sfr_mesh[:-1, :-1] + sfr_mesh[1:, 1:]) / 2.\n",
    "ssfr_grid = sfr_grid - mstar_grid\n",
    "mgas_grid = sgm.calculate_mgas_mstar_from_sSFR_Saintonge2022(sSFR=ssfr_grid, log_values=True) + mstar_grid\n",
    "# remove values for mgas where there's no SDSS bins (in sfr79_medians)\n",
    "mgas_grid[np.isnan(sfr79_medians)] = np.nan\n",
    "\n",
    "\n",
    "# colormap/norm etc. for SFR79 plot\n",
    "sfr79_range = (-2, 2)\n",
    "cmap_sfr79 = mpl.cm.RdBu\n",
    "norm_sfr79 = mpl.colors.Normalize(vmin=sfr79_range[0], vmax=sfr79_range[1])\n",
    "mapper_sfr79 = mpl.cm.ScalarMappable(norm=norm_sfr79, cmap=cmap_sfr79)\n",
    "\n",
    "\n",
    "# colormap/norm etc. for MGAS plot\n",
    "cmap_mgas = mpl.cm.Greens\n",
    "norm_mgas = mpl.colors.Normalize(vmin=np.nanmin(mgas_grid), vmax=np.nanmax(mgas_grid))\n",
    "mapper_mgas = mpl.cm.ScalarMappable(norm=norm_mgas, cmap=cmap_mgas)\n",
    "\n",
    "\n",
    "\n",
    "# set up figure and axes\n",
    "# fig, (ax_sfr79, ax_sfr79_cbar) = plt.subplots(\n",
    "fig, ((ax_sfr79, ax_sfr79_cbar, ax_mgas, ax_mgas_cbar),\n",
    "      (ax_sfr79_xCG, ax_sfr79_cbar_xCG, ax_mgas_xCG, ax_mgas_cbar_xCG)) = plt.subplots(\n",
    "#     1, 2,\n",
    "#     1, 4,\n",
    "    2, 4,\n",
    "    gridspec_kw={\n",
    "       # 'width_ratios': (18, 1.2),\n",
    "       'width_ratios': (18, 1.2, 18, 1.2),\n",
    "        'height_ratios': (1, 1),\n",
    "       'hspace': 0.05\n",
    "    },\n",
    "    # figsize=(7.2, 5.5),\n",
    "    # figsize=(7.2*1.9, 5.5),\n",
    "    figsize=(7.2*1.9, 5.5*1.9),\n",
    "    # tight_layout=True\n",
    "    constrained_layout=True\n",
    ")\n",
    "\n",
    "\n",
    "# ==========================\n",
    "\n",
    "# collecting data to plot\n",
    "\n",
    "# # first: check that SFR79 arrays from sim and obs are SAME LENGTH!\n",
    "# assert len(xCG_sfr79) == len(SFR79_grid_GMSsim[:, -1])\n",
    "\n",
    "# define which data to plot\n",
    "gal_grid = gal_grid_GMSsim\n",
    "halo_grid = halo_grid_GMSsim\n",
    "env_grid = env_grid_GMSsim\n",
    "\n",
    "# which snp is to be used for mstar-SFR values (aka position on the plot)?\n",
    "# which_snp = 0  # intial mstar, SFR\n",
    "which_snp = -1  # final mstar, SFR\n",
    "# which_snp = int(0.0 * len(gal_grid[0]))  # somewhere in-between mstar, SFR\n",
    "\n",
    "which_objects = range(0, len(gal_grid), 1)\n",
    "x_data = []\n",
    "y_data = []\n",
    "# sfr79_data_obs = []\n",
    "sfr79_data_sim = []\n",
    "# sfr79_colours_obs = []\n",
    "sfr79_colours_sim = []\n",
    "# mgas_data_obs = []\n",
    "mgas_data_sim = []\n",
    "# mgas_colours_obs = []\n",
    "mgas_colours_sim = []\n",
    "for i in tqdm(which_objects):\n",
    "    # x and y coords of GMS sims\n",
    "    x_data.append(np.log10(gal_grid[i, which_snp].data['mstar']))\n",
    "    y_data.append(np.log10(gal_grid[i, which_snp].data['SFR']) - 9.)  # -9. is for conversion from /Gyr to /yr\n",
    "\n",
    "    # sfr79_data_obs.append(xCG_sfr79[i])\n",
    "    sfr79_data_sim.append(SFR79_grid_GMSsim[i, -1])\n",
    "    # sfr79_colours_obs.append(mapper_sfr79.to_rgba(xCG_sfr79[i]))\n",
    "    sfr79_colours_sim.append(mapper_sfr79.to_rgba(SFR79_grid_GMSsim[i, -1]))\n",
    "\n",
    "    # mgas_data_obs.append(xCG_sfr79[i])\n",
    "    mgas_data_sim.append(np.log10(gal_grid[i, which_snp].data['mgas']))\n",
    "    # mgas_colours_obs.append(mapper_mgas.to_rgba(xCG_sfr79[i]))\n",
    "    mgas_colours_sim.append(mapper_mgas.to_rgba(np.log10(gal_grid[i, which_snp].data['mgas'])))\n",
    "\n",
    "# convert lists to arrays\n",
    "x_data = np.array(x_data)\n",
    "y_data = np.array(y_data)\n",
    "sfr79_data_sim = np.array(sfr79_data_sim)\n",
    "sfr79_colours_sim = np.array(sfr79_colours_sim)\n",
    "mgas_data_sim = np.array(mgas_data_sim)\n",
    "mgas_colours_sim = np.array(mgas_data_sim)\n",
    "\n",
    "# for xCOLD GASS detections\n",
    "which_objects = range(0, len(xCG_df_selected), 1)\n",
    "x_data_xCG = []\n",
    "y_data_xCG = []\n",
    "sfr79_data_obs = []\n",
    "sfr79_colours_obs = []\n",
    "mgas_data_obs = []\n",
    "mgas_colours_obs = []\n",
    "for i in tqdm(which_objects):\n",
    "    # x and y coords of GMS sims\n",
    "    x_data_xCG.append(xCG_df_selected.iloc[i][\"LOGMSTAR\"])\n",
    "    y_data_xCG.append(xCG_df_selected.iloc[i][\"LOGSFR_BEST\"])  # already in units per yr\n",
    "\n",
    "    sfr79_data_obs.append(xCG_sfr79[i])\n",
    "    sfr79_colours_obs.append(mapper_sfr79.to_rgba(xCG_sfr79[i]))\n",
    "\n",
    "    mgas_data_obs.append(xCG_df_selected.iloc[i][\"LOGMH2\"])\n",
    "    mgas_colours_obs.append(mapper_mgas.to_rgba(xCG_df_selected.iloc[i][\"LOGMH2\"]))\n",
    "\n",
    "# convert lists to arrays\n",
    "x_data_xCG = np.array(x_data_xCG)\n",
    "y_data_xCG = np.array(y_data_xCG)\n",
    "sfr79_data_obs = np.array(sfr79_data_obs)\n",
    "sfr79_colours_obs = np.array(sfr79_colours_obs)\n",
    "mgas_data_obs = np.array(mgas_data_obs)\n",
    "mgas_colours_obs = np.array(mgas_colours_obs)\n",
    "\n",
    "\n",
    "\n",
    "# ========================\n",
    "\n",
    "\n",
    "# SFR79 from SDSS\n",
    "\n",
    "\n",
    "# plot observational SFR79 data\n",
    "im_sfr79_obs = ax_sfr79.pcolormesh(\n",
    "    mstar_mesh, sfr_mesh,\n",
    "    sfr79_medians,\n",
    "    cmap=cmap_sfr79,\n",
    "    norm=norm_sfr79,\n",
    "    label=\"observational SFR79: SDSS\",\n",
    ")\n",
    "\n",
    "\n",
    "# plot colorbar\n",
    "fig.colorbar(mpl.cm.ScalarMappable(norm=norm_sfr79, cmap=cmap_sfr79),\n",
    "             cax=ax_sfr79_cbar,\n",
    "             fraction=0.8,\n",
    "             extend='both',\n",
    "             # anchor=(0.0, 0.0),\n",
    "             label='log SFR79')\n",
    "\n",
    "\n",
    "\n",
    "# ================================\n",
    "\n",
    "\n",
    "\n",
    "# MGAS plots (RHS)\n",
    "\n",
    "\n",
    "# plot observational SFR79 data\n",
    "im_mgas_obs = ax_mgas.pcolormesh(\n",
    "    mstar_mesh, sfr_mesh,\n",
    "    mgas_grid,\n",
    "    cmap=cmap_mgas,\n",
    "    norm=norm_mgas,\n",
    "    label=\"observational SFR79: SDSS\",\n",
    ")\n",
    "\n",
    "# plot colorbar\n",
    "fig.colorbar(mpl.cm.ScalarMappable(norm=norm_mgas, cmap=cmap_mgas),\n",
    "             cax=ax_mgas_cbar,\n",
    "             fraction=0.8,\n",
    "             extend='both',\n",
    "             # anchor=(0.0, 0.0),\n",
    "             label=r'log $M_\\mathrm{gas}$ [$M_\\odot$]')\n",
    "\n",
    "\n",
    "\n",
    "\n",
    "\n",
    "\n",
    "# =======================\n",
    "\n",
    "# SF79 xCOLD GASS (lower LHS)\n",
    "\n",
    "\n",
    "\n",
    "# plot observational SFR79 data\n",
    "im_sfr79_obs_xCG = ax_sfr79_xCG.scatter(\n",
    "    x=x_data_xCG,\n",
    "    y=y_data_xCG,\n",
    "    c=sfr79_colours_obs,\n",
    "    s=(mpl.rcParams['lines.markersize']*1.5)**2,\n",
    "    cmap=cmap_sfr79,\n",
    "    norm=norm_sfr79,\n",
    "    # edgecolors='xkcd:white'\n",
    ")\n",
    "\n",
    "\n",
    "# plot colorbar\n",
    "fig.colorbar(mpl.cm.ScalarMappable(norm=norm_sfr79, cmap=cmap_sfr79),\n",
    "             cax=ax_sfr79_cbar_xCG,\n",
    "             fraction=0.8,\n",
    "             extend='both',\n",
    "             # anchor=(0.0, 0.0),\n",
    "             label='log SFR79')\n",
    "\n",
    "\n",
    "\n",
    "# =======================\n",
    "\n",
    "# MGAS xCOLD GASS (lower RHS)\n",
    "\n",
    "\n",
    "\n",
    "# plot observational SFR79 data\n",
    "im_mgas_obs_xCG = ax_mgas_xCG.scatter(\n",
    "    x=x_data_xCG,\n",
    "    y=y_data_xCG,\n",
    "    c=mgas_colours_obs,\n",
    "    s=(mpl.rcParams['lines.markersize']*1.5)**2,\n",
    "    cmap=cmap_mgas,\n",
    "    norm=norm_mgas,\n",
    "    # edgecolors='xkcd:white'\n",
    ")\n",
    "\n",
    "\n",
    "# plot colorbar\n",
    "fig.colorbar(mpl.cm.ScalarMappable(norm=norm_mgas, cmap=cmap_mgas),\n",
    "             cax=ax_mgas_cbar_xCG,\n",
    "             fraction=0.8,\n",
    "             extend='both',\n",
    "             # anchor=(0.0, 0.0),\n",
    "             label=r'log $M_\\mathrm{gas}$ [$M_\\odot$]')\n",
    "\n",
    "\n",
    "\n",
    "# ========================\n",
    "\n",
    "\n",
    "# adding the Galaxy Main Sequence on top (Saintonge+2016, Eq. 5) <-- changed that to Saintonge+2022\n",
    "GMS_x = np.linspace(start=np.min(mstar_mesh),\n",
    "                    stop=np.max(mstar_mesh),\n",
    "                    num=1000,\n",
    "                    endpoint=True)\n",
    "for ax in [ax_sfr79, ax_mgas, ax_sfr79_xCG, ax_mgas_xCG]:\n",
    "    handle_GMS = ax.plot(GMS_x, sgm.GMS_Saintonge2022(GMS_x, log=True),\n",
    "                         color='xkcd:magenta', ls='--', label=\"GMS: Saintonge & Catinella (2022)\")\n",
    "\n",
    "# remove unnecessary axes\n",
    "# ax_sfr79_cbar.remove()\n",
    "\n",
    "# figure labelling etc\n",
    "for ax in [ax_sfr79, ax_mgas, ax_sfr79_xCG, ax_mgas_xCG]:\n",
    "    ax.set_xlabel(r'log $M_\\star$ [$M_\\odot$]')\n",
    "    ax.set_ylabel(r'log SFR [$M_\\odot \\, yr^{-1}$]')\n",
    "    ax.set(xlim=(8.45, 11.6), ylim=(-2.3, 1.8))\n",
    "    ax.tick_params(axis='both', which='both', direction='in', bottom=True, top=True, left=True, right=True)\n",
    "\n",
    "# ax_sfr79.text(0.95, 0.05,\n",
    "#              f\"min(log SFR79) = {np.nanmin(sfr79_SDSSsim_grid):.3f}\\n\"\n",
    "#              f\"max(log SFR79) = {np.nanmax(sfr79_SDSSsim_grid):.3f}\",\n",
    "#              transform=ax_sfr79.transAxes,\n",
    "#              va='bottom', ha='right')\n",
    "\n",
    "\n",
    "\n",
    "\n",
    "# =========\n",
    "\n",
    "\n",
    "# add GMS simulation SFR79\n",
    "\n",
    "# # # first: check that SFR79 arrays from sim and obs are SAME LENGTH!\n",
    "# # assert len(xCG_sfr79) == len(SFR79_grid_GMSsim[:, -1])\n",
    "#\n",
    "# # define which data to plot\n",
    "# gal_grid = gal_grid_GMSsim\n",
    "# halo_grid = halo_grid_GMSsim\n",
    "# env_grid = env_grid_GMSsim\n",
    "#\n",
    "# # which snp is to be used for mstar-SFR values (aka position on the plot)?\n",
    "# # which_snp = 0  # intial mstar, SFR\n",
    "# which_snp = -1  # final mstar, SFR\n",
    "# # which_snp = int(0.0 * len(gal_grid[0]))  # somewhere in-between mstar, SFR\n",
    "#\n",
    "# which_objects = range(0, len(gal_grid), 1)\n",
    "# x_data = []\n",
    "# y_data = []\n",
    "# # sfr79_data_obs = []\n",
    "# sfr79_data_sim = []\n",
    "# # sfr79_colours_obs = []\n",
    "# sfr79_colours_sim = []\n",
    "# # mgas_data_obs = []\n",
    "# mgas_data_sim = []\n",
    "# # mgas_colours_obs = []\n",
    "# mgas_colours_sim = []\n",
    "# for i in tqdm(which_objects):\n",
    "#     x_data.append([np.log10(gal_grid[i, which_snp].data['mstar'])])\n",
    "#     y_data.append([np.log10(gal_grid[i, which_snp].data['SFR']) - 9.])  # -9. is for conversion from /Gyr to /yr\n",
    "#\n",
    "#     # sfr79_data_obs.append(xCG_sfr79[i])\n",
    "#     sfr79_data_sim.append(SFR79_grid_GMSsim[i, -1])\n",
    "#     # sfr79_colours_obs.append(mapper_sfr79.to_rgba(xCG_sfr79[i]))\n",
    "#     sfr79_colours_sim.append(mapper_sfr79.to_rgba(SFR79_grid_GMSsim[i, -1]))\n",
    "#\n",
    "#     # mgas_data_obs.append(xCG_sfr79[i])\n",
    "#     mgas_data_sim.append([np.log10(gal_grid[i, which_snp].data['mgas'])])\n",
    "#     # mgas_colours_obs.append(mapper_mgas.to_rgba(xCG_sfr79[i]))\n",
    "#     mgas_colours_sim.append(mapper_mgas.to_rgba([np.log10(gal_grid[i, which_snp].data['mgas'])]))\n",
    "\n",
    "\n",
    "\n",
    "# plotting the GMS sim data points\n",
    "for _ax, _c, _cmap, _norm, _data in zip([ax_sfr79, ax_mgas, ax_sfr79_xCG, ax_mgas_xCG], [sfr79_colours_sim, mgas_colours_sim]*2, [cmap_sfr79, cmap_mgas]*2, [norm_sfr79, norm_mgas]*2, [sfr79_data_sim, mgas_data_sim]*2):\n",
    "    handle_scatter = _ax.scatter(\n",
    "        x=x_data,\n",
    "        y=y_data,\n",
    "        s=(mpl.rcParams['lines.markersize']*2)**2,\n",
    "        c=_c,\n",
    "        cmap=_cmap,\n",
    "        norm=_norm,\n",
    "        # edgecolors='xkcd:light grey',\n",
    "        edgecolors='xkcd:dark grey',\n",
    "        label=\"simulated SFR79: based on GMS\",\n",
    "        zorder=10,\n",
    "    )\n",
    "\n",
    "    # add annotations?\n",
    "    annotate_flag = False\n",
    "    if annotate_flag:\n",
    "        x_offset = 0.1\n",
    "        y_offset = -0.1\n",
    "        for i, _txt in enumerate(_data):\n",
    "            _txt = _txt[0] if isinstance(_txt, list) else _txt\n",
    "            _ax.annotate(f\"{_txt:.3f}\", (x_data[i] + x_offset, y_data[i] + y_offset))\n",
    "\n",
    "\n",
    "# make the legend markers for scatter plot\n",
    "handle_scatter_custom = (\n",
    "    # mpl.lines.Line2D([0], [0], color=cmap_sfr79(0.1), ls='', marker='o', markeredgecolor=handle_scatter._edgecolors[0], markersize=np.sqrt(handle_scatter._sizes[0])),\n",
    "    mpl.lines.Line2D([0], [0], color=cmap_sfr79(.75), ls='', marker='o', markeredgecolor=handle_scatter._edgecolors[0], markersize=np.sqrt(handle_scatter._sizes[0])),\n",
    "    mpl.lines.Line2D([0], [0], color=cmap_sfr79(.5), ls='', marker='o', markeredgecolor=handle_scatter._edgecolors[0], markersize=np.sqrt(handle_scatter._sizes[0])),\n",
    "    mpl.lines.Line2D([0], [0], color=cmap_sfr79(.25), ls='', marker='o', markeredgecolor=handle_scatter._edgecolors[0], markersize=np.sqrt(handle_scatter._sizes[0])),\n",
    "    # mpl.lines.Line2D([0], [0], color=cmap_sfr79(0.9), ls='', marker='o', markeredgecolor=handle_scatter._edgecolors[0], markersize=np.sqrt(handle_scatter._sizes[0])),\n",
    ")\n",
    "\n",
    "handle_pcolormesh_custom =(\n",
    "    # mpl.patches.Patch(facecolor=cmap_sfr79(0.25)),\n",
    "    # mpl.lines.Line2D([0], [0], color=cmap_sfr79(.75), ls='', marker='s', markersize=0.9*np.sqrt(handle_scatter._sizes[0])),\n",
    "    mpl.lines.Line2D([0], [0], color=cmap_sfr79(.65), ls='', marker='s', markersize=np.sqrt(handle_scatter._sizes[0])),\n",
    "    # mpl.lines.Line2D([0], [0], color=cmap_sfr79(.5), ls='', marker='s', markersize=0.9*np.sqrt(handle_scatter._sizes[0])),\n",
    "    mpl.lines.Line2D([0], [0], color=cmap_sfr79(.45), ls='', marker='s', markersize=np.sqrt(handle_scatter._sizes[0])),\n",
    "    # mpl.lines.Line2D([0], [0], color=cmap_sfr79(.25), ls='', marker='s', markersize=0.9*np.sqrt(handle_scatter._sizes[0])),\n",
    "    # mpl.lines.Line2D([0], [0], color=cmap_sfr79(.7), ls='', marker='s', markersize=1.25*np.sqrt(handle_scatter._sizes[0])),\n",
    ")\n",
    "\n",
    "handle_GMS_custom = (\n",
    "    mpl.lines.Line2D([0], [0], color=handle_GMS[0]._color, linestyle=handle_GMS[0]._linestyle)\n",
    ")\n",
    "\n",
    "\n",
    "ax_sfr79.legend(\n",
    "    [handle_pcolormesh_custom, handle_scatter_custom, handle_GMS_custom],\n",
    "    [(im_sfr79_obs._label), (handle_scatter._label), (handle_GMS[0]._label)],\n",
    "    handler_map={tuple: mpl.legend_handler.HandlerTuple(ndivide=None)},\n",
    "    # loc='upper left',\n",
    "    loc='lower right',\n",
    "    # handlelength=1,\n",
    "    # handleheight=1,\n",
    "    framealpha=0.87,\n",
    ")\n"
   ],
   "metadata": {
    "collapsed": false,
    "pycharm": {
     "name": "#%%\n"
    }
   }
  },
  {
   "cell_type": "code",
   "execution_count": null,
   "outputs": [],
   "source": [
    "# save heat-map plot to disk\n",
    "fig.savefig(plot_dir / f'SFR79_SDSSobs_vs_GMSsims_{datetime.now().strftime(\"%Y.%m.%d-%H.%M.%S\")}.png', dpi=300)"
   ],
   "metadata": {
    "collapsed": false,
    "pycharm": {
     "name": "#%%\n"
    }
   }
  },
  {
   "cell_type": "markdown",
   "source": [
    "### Deviation of Sims from xCG Obs"
   ],
   "metadata": {
    "collapsed": false,
    "pycharm": {
     "name": "#%% md\n"
    }
   }
  },
  {
   "cell_type": "code",
   "execution_count": null,
   "outputs": [],
   "source": [
    "fig, (ax_sfr79, ax_mgas, ax_n_cb) = plt.subplots(\n",
    "    1, 3,\n",
    "    gridspec_kw={\n",
    "        'width_ratios': (18, 18, 1.2),\n",
    "        'height_ratios': (1,),\n",
    "        'hspace': 0.05\n",
    "    },\n",
    "    # figsize=(7.2*1.9*0.7, 5.5*0.7),\n",
    "    figsize=(7.2*2.0*0.7, 5.5*0.7),\n",
    "    constrained_layout=True\n",
    ")\n",
    "\n",
    "\n",
    "_proxim = 0.15   # in dex\n",
    "_proxim_mode = \"rect\"\n",
    "\n",
    "_sampling = False   # whether the comparison is done with all nearby xCG galaxies or just a subsample drawn from it\n",
    "_sampling_rng = np.random.default_rng(1234567)\n",
    "_n_sample = 5\n",
    "\n",
    "_bootstrapping = True   # if we want a bootstrap error sampling\n",
    "_bootstrap_n = 50   # number of sets/random draws, NOT number of items per draw/set\n",
    "_bootstrap_delta_sfr79_median_l = []\n",
    "_bootstrap_delta_sfr79_mad_l = []\n",
    "_bootstrap_delta_mgas_median_l = []\n",
    "_bootstrap_delta_mgas_mad_l = []\n",
    "\n",
    "_delta_sfr79_l = []\n",
    "_delta_mgas_l = []\n",
    "_mstar_l = []\n",
    "_n_l = []\n",
    "for (_x, _y, _sfr79, _mgas) in zip(x_data, y_data, sfr79_data_sim, mgas_data_sim):\n",
    "    if _proxim_mode.casefold().startswith(\"rect\"):\n",
    "        _closeto = ((x_data_xCG >= (_x - _proxim)) & (x_data_xCG <= (_x + _proxim)) &   # rectangle for compare (in log space)\n",
    "                    (y_data_xCG >= (_y - _proxim)) & (y_data_xCG <= (_y + _proxim)))\n",
    "    elif _proxim_mode.casefold().startswith(\"circ\"):\n",
    "        _closeto = (((x_data_xCG - _x)**2 + (y_data_xCG - _y)**2) <= _proxim**2)   # circular comparison (in log space)\n",
    "    else:\n",
    "        print(f\"Wrong keyword for selection of mode of proximity (_proxim_mode): '{_proxim_mode}'\")\n",
    "        raise ValueError\n",
    "\n",
    "    if _sampling:\n",
    "\n",
    "        _n = np.sum(_closeto)\n",
    "        _n = np.min((_n, _n_sample))\n",
    "\n",
    "        _closevals_sfr79 = xCG_df_selected.loc[_closeto, \"SFR79values\"].sample(n=_n, replace=False)\n",
    "        _closevals_sfr79_median = np.median(_closevals_sfr79)\n",
    "        _delta_sfr79 = _sfr79 - _closevals_sfr79_median\n",
    "\n",
    "        print(\"median obs. SFR79:\", _closevals_sfr79_median, f\" (from {_n} detections)\")\n",
    "        print(\"Δ SFR79:\", _delta_sfr79)\n",
    "\n",
    "        _closevals_mgas = xCG_df_selected.loc[_closeto, \"LOGMH2\"].sample(n=_n, replace=False)\n",
    "        _closevals_mgas_median = np.median(_closevals_mgas)\n",
    "        _delta_mgas = _mgas - _closevals_mgas_median\n",
    "\n",
    "        print(\"median obs. Mgas:\", _closevals_mgas_median, f\" (from {_n} detections)\")\n",
    "        print(\"Δ Mgas:\", _delta_mgas)\n",
    "\n",
    "        print()\n",
    "\n",
    "    else:\n",
    "\n",
    "        _closevals_sfr79 = xCG_df_selected.loc[_closeto, \"SFR79values\"]\n",
    "        _closevals_sfr79_median = np.median(_closevals_sfr79)\n",
    "        _delta_sfr79 = _sfr79 - _closevals_sfr79_median\n",
    "\n",
    "        _n = len(_closevals_sfr79)\n",
    "\n",
    "        print(\"median obs. SFR79:\", _closevals_sfr79_median, f\" (from {_n} detections)\")\n",
    "        print(\"Δ SFR79:\", _delta_sfr79)\n",
    "\n",
    "        _closevals_mgas = xCG_df_selected.loc[_closeto, \"LOGMH2\"]\n",
    "        _closevals_mgas_median = np.median(_closevals_mgas)\n",
    "        _delta_mgas = _mgas - _closevals_mgas_median\n",
    "\n",
    "        print(\"median obs. Mgas:\", _closevals_mgas_median, f\" (from {_n} detections)\")\n",
    "        print(\"Δ Mgas:\", _delta_mgas)\n",
    "\n",
    "        print()\n",
    "\n",
    "    if _bootstrapping:\n",
    "        _subsample_delta_sfr79_l = []\n",
    "        _subsample_delta_mgas_l = []\n",
    "\n",
    "        for _i in range(_bootstrap_n):\n",
    "\n",
    "            _subsample_sfr79 = xCG_df_selected.loc[_closeto, \"SFR79values\"].sample(frac=1, replace=True)\n",
    "            _subsample_sfr79_median = np.median(_subsample_sfr79)\n",
    "            _subsample_delta_sfr79 = _sfr79 - _subsample_sfr79_median\n",
    "\n",
    "            _subsample_mgas = xCG_df_selected.loc[_closeto, \"LOGMH2\"].sample(frac=1, replace=True)\n",
    "            _subsample_mgas_median = np.median(_subsample_mgas)\n",
    "            _subsample_delta_mgas = _mgas - _subsample_mgas_median\n",
    "\n",
    "            _subsample_delta_sfr79_l.append(_subsample_delta_sfr79)\n",
    "            _subsample_delta_mgas_l.append(_subsample_delta_mgas)\n",
    "\n",
    "        _bootstrap_delta_sfr79_median = np.median(_subsample_delta_sfr79_l)\n",
    "        _bootstrap_delta_sfr79_mad = stats.median_abs_deviation(_subsample_delta_sfr79_l, scale=1)\n",
    "        _bootstrap_delta_sfr79_median_l.append(_bootstrap_delta_sfr79_median)\n",
    "        _bootstrap_delta_sfr79_mad_l.append(_bootstrap_delta_sfr79_mad)\n",
    "        print(\"median Δ SFR79:\", _bootstrap_delta_sfr79_median)\n",
    "        print(\"MAD of Δ SFR79:\", _bootstrap_delta_sfr79_mad)\n",
    "\n",
    "        _bootstrap_delta_mgas_median = np.median(_subsample_delta_mgas_l)\n",
    "        _bootstrap_delta_mgas_mad = stats.median_abs_deviation(_subsample_delta_mgas_l, scale=1)\n",
    "        _bootstrap_delta_mgas_median_l.append(_bootstrap_delta_mgas_median)\n",
    "        _bootstrap_delta_mgas_mad_l.append(_bootstrap_delta_mgas_mad)\n",
    "        print(\"median Δ Mgas:\", _bootstrap_delta_mgas_median)\n",
    "        print(\"MAD of Δ Mgas:\", _bootstrap_delta_mgas_mad)\n",
    "        print()\n",
    "\n",
    "    _delta_sfr79_l.append(_delta_sfr79)\n",
    "    _delta_mgas_l.append(_delta_mgas)\n",
    "    _mstar_l.append(_x)\n",
    "    _n_l.append(_n)\n",
    "\n",
    "    # ax_sfr79.plot(_x, _delta_sfr79, marker='o')\n",
    "    # ax_mgas.plot(_x, _delta_mgas, marker='o')\n",
    "\n",
    "\n",
    "\n",
    "# colormap/norm etc. for SFR79 plot\n",
    "n_range = (np.nanmin(_n_l), np.nanmax(_n_l))\n",
    "cmap_n = mpl.cm.Oranges\n",
    "norm_n = mpl.colors.Normalize(vmin=n_range[0], vmax=n_range[1])\n",
    "mapper_n = mpl.cm.ScalarMappable(norm=norm_n, cmap=cmap_n)\n",
    "\n",
    "\n",
    "ax_sfr79.scatter(_mstar_l, _delta_sfr79_l, c=_n_l, cmap=cmap_n, norm=norm_n)\n",
    "ax_mgas.scatter(_mstar_l, _delta_mgas_l, c=_n_l, cmap=cmap_n, norm=norm_n)\n",
    "\n",
    "if _bootstrapping:\n",
    "    ax_sfr79.errorbar(\n",
    "        _mstar_l,\n",
    "        _delta_sfr79_l,\n",
    "        yerr=_bootstrap_delta_sfr79_mad_l,\n",
    "        fmt='none',\n",
    "        ls='',\n",
    "        ecolor=\"xkcd:greyish teal\",\n",
    "        alpha=0.3,\n",
    "        capsize=mpl.rcParams['lines.markersize'],\n",
    "        zorder=-10\n",
    "    )\n",
    "    ax_mgas.errorbar(\n",
    "        _mstar_l,\n",
    "        _delta_mgas_l,\n",
    "        yerr=_bootstrap_delta_mgas_mad_l,\n",
    "        fmt='none',\n",
    "        ls='',\n",
    "        ecolor=\"xkcd:greyish teal\",\n",
    "        alpha=0.3,\n",
    "        capsize=mpl.rcParams['lines.markersize'],\n",
    "        zorder=-10\n",
    "    )\n",
    "\n",
    "\n",
    "for _ax in [ax_sfr79, ax_mgas]:\n",
    "    _ax.axhline(0., color=\"xkcd:light teal\", ls=\"--\")\n",
    "\n",
    "\n",
    "# plot colorbar\n",
    "fig.colorbar(mpl.cm.ScalarMappable(norm=norm_n, cmap=cmap_n),\n",
    "             cax=ax_n_cb,\n",
    "             fraction=0.8,\n",
    "             extend='both',\n",
    "             # anchor=(0.0, 0.0),\n",
    "             label=r'N (comparison partners in xCG)')\n",
    "\n",
    "\n",
    "# figure labelling etc\n",
    "for _ax, _ylabel in zip(\n",
    "        [ax_sfr79, ax_mgas],\n",
    "        [r'$\\Delta$ SFR79', r'$\\Delta$ $M_\\mathrm{gas}$']\n",
    "):\n",
    "    _ax.set_xlabel(r'log $M_\\star$ [$M_\\odot$]')\n",
    "    _ax.set_ylabel(_ylabel)\n",
    "    # _ax.set(xlim=(8.45, 11.6), ylim=(-2.3, 1.8))\n",
    "    _ax.tick_params(axis='both', which='both', direction='in', bottom=True, top=True, left=True, right=True)\n"
   ],
   "metadata": {
    "collapsed": false,
    "pycharm": {
     "name": "#%%\n"
    }
   }
  },
  {
   "cell_type": "code",
   "execution_count": null,
   "outputs": [],
   "source": [
    "# save delta plots to disk\n",
    "fig.savefig(plot_dir / f'SFR79_Mgas_sims_vs_xCG_obs_within_{_proxim}dex_{_proxim_mode}_{f\"sampling{_n_sample}_\" if _sampling else \"\"}{f\"with_bootstrap_errs_\" if _bootstrapping else \"\"}{datetime.now().strftime(\"%Y.%m.%d-%H.%M.%S\")}.png', dpi=300)"
   ],
   "metadata": {
    "collapsed": false,
    "pycharm": {
     "name": "#%%\n"
    }
   }
  },
  {
   "cell_type": "markdown",
   "source": [
    "### Fit final Sims data points (to get relation and scatter)"
   ],
   "metadata": {
    "collapsed": false,
    "pycharm": {
     "name": "#%% md\n"
    }
   }
  },
  {
   "cell_type": "code",
   "execution_count": null,
   "outputs": [],
   "source": [
    "# fit the sim data (recover relation similar to GMS?)\n",
    "fit_degree = 1\n",
    "# fit_range_x = [6, 10]\n",
    "# fit_range_x = [6, 9.2]\n",
    "fit_range_x = [-np.inf, np.inf]\n",
    "\n",
    "\n",
    "# how many galaxies are out of bounds? (infinity or nan)\n",
    "print(\"Number of out-of-bounds objects:\", len(x_data) - np.sum(np.isfinite(x_data)))\n",
    "# assert that that's the same for SFR and Mstar\n",
    "assert np.all(np.isfinite(x_data) == np.isfinite(y_data))\n",
    "\n",
    "\n",
    "# set filter/selector for sim data\n",
    "data_select = np.isfinite(x_data) & (x_data < 15) & (y_data < 10)\n",
    "x_data_select = x_data[data_select]\n",
    "y_data_select = y_data[data_select]\n",
    "# set filter/selector for the fitting (can be narrower to exclude certain regions)\n",
    "fit_select = (x_data_select > fit_range_x[0]) & (x_data_select < fit_range_x[1])\n",
    "\n",
    "\n",
    "# if we want colour-coding\n",
    "which_snp = 0\n",
    "# which_snp = -1\n",
    "c_data = []\n",
    "for i in range(0, len(gal_grid), 1):\n",
    "    _mstar = np.log10(gal_grid[i, which_snp].data['mstar'])\n",
    "    _sfr = np.log10(gal_grid[i, which_snp].data['SFR']) - 9     # conversion from Gyr^-1 to yr^-1\n",
    "    _z = gal_grid[i, which_snp].data['z']\n",
    "    _sfr_on_gms = sgm.GMS_Leslie2020(mstar=_mstar, z=_z, log=True)\n",
    "    c_data.append(_sfr - _sfr_on_gms)\n",
    "c_data = np.array(c_data)\n",
    "c_data_select = c_data[data_select]\n",
    "\n",
    "\n",
    "# colour mapping\n",
    "delta_sfr_range_minmax = np.max([np.nanmin(c_data), np.nanmax(c_data)])\n",
    "delta_sfr_range = [-delta_sfr_range_minmax, delta_sfr_range_minmax]\n",
    "# delta_sfr_range = [np.nanmin(c_data), np.nanmax(c_data)]\n",
    "# cmap_delta_sfr = mpl.cm.PiYG\n",
    "cmap_delta_sfr = mpl.cm.PuOr_r\n",
    "norm_delta_sfr = mpl.colors.Normalize(vmin=delta_sfr_range[0], vmax=delta_sfr_range[1])\n",
    "mapper_delta_sfr = mpl.cm.ScalarMappable(norm=norm_delta_sfr, cmap=cmap_delta_sfr)\n",
    "\n",
    "\n",
    "# fit\n",
    "p_fit = np.polynomial.Polynomial.fit(x_data_select[fit_select], y_data_select[fit_select], deg=fit_degree)\n",
    "\n",
    "delta_sfr = np.array(y_data_select) - p_fit(np.array(x_data_select))\n",
    "delta_sfr_sigma = np.std(delta_sfr)\n",
    "\n",
    "\n",
    "fig, (ax, ax_cbar) = plt.subplots(1, 2,\n",
    "                                  figsize=(7.2, 5.5),\n",
    "                                  gridspec_kw={\n",
    "                                      'width_ratios': (18, 1.2),\n",
    "                                      'height_ratios': (1,),\n",
    "                                      'hspace': 0.05\n",
    "                                  },\n",
    "                                  constrained_layout=True\n",
    "                                  )\n",
    "x_lin = np.linspace(np.nanmin(x_data_select), np.nanmax(x_data_select), num=1000)\n",
    "\n",
    "ax.plot(x_lin, sgm.GMS_Leslie2020(mstar=x_lin, z=0, log=True), color='xkcd:green', label=f'Leslie+20 GMS at z=0')\n",
    "ax.plot(x_lin, p_fit(x_lin), color='xkcd:dark red', label=f'{\"Linear\" if fit_degree == 1 else f\"{fit_degree}-order\"} fit to simulations (σ={delta_sfr_sigma:.3f})', ls=\"--\")\n",
    "ax.scatter(x_data_xCG, y_data_xCG, c='xkcd:light grey', label='xCOLD GASS with gas detections')\n",
    "ax.scatter(x_data_select, y_data_select,\n",
    "           c=mapper_delta_sfr.to_rgba(c_data_select),\n",
    "           label=f'Simulated galaxies ({len(x_data_select)}/{len(x_data)})',\n",
    "           edgecolors='xkcd:grey',\n",
    "           s=mpl.rcParams['lines.markersize'] ** 2 * 1.7,\n",
    "           linewidths=mpl.rcParams[\"lines.linewidth\"] * 0.3\n",
    "           )\n",
    "\n",
    "\n",
    "# colour bar\n",
    "fig.colorbar(mappable=mapper_delta_sfr,\n",
    "             cax=ax_cbar,\n",
    "             fraction=0.8,\n",
    "             # extend='both',\n",
    "             # anchor=(0.0, 0.0),\n",
    "             label=f'ΔSFR from GMS at z={_z:.1f} [dex]')\n",
    "\n",
    "\n",
    "ax.set_xlabel(r'log $M_\\mathrm{star}$ [$M_\\odot$]')\n",
    "ax.set_ylabel(r'log $SFR$ [$M_\\odot$ yr$^{-1}$]')\n",
    "ax.tick_params(axis='both', which='both', direction='in', bottom=True, top=True, left=True, right=True)\n",
    "ax.legend()"
   ],
   "metadata": {
    "collapsed": false,
    "pycharm": {
     "name": "#%%\n"
    }
   }
  },
  {
   "cell_type": "code",
   "execution_count": null,
   "outputs": [],
   "source": [
    "# save fit plot to disk\n",
    "fig.savefig(plot_dir / f'Fit_and_Std_sims_vs_xCG_obs_{datetime.now().strftime(\"%Y.%m.%d-%H.%M.%S\")}.png', dpi=300)"
   ],
   "metadata": {
    "collapsed": false,
    "pycharm": {
     "name": "#%%\n"
    }
   }
  },
  {
   "cell_type": "markdown",
   "source": [
    "### M_halo analysis"
   ],
   "metadata": {
    "collapsed": false,
    "pycharm": {
     "name": "#%% md\n"
    }
   }
  },
  {
   "cell_type": "markdown",
   "source": [
    "### Fit final Sims data points (to get relation and scatter)"
   ],
   "metadata": {
    "collapsed": false
   }
  },
  {
   "cell_type": "code",
   "execution_count": null,
   "outputs": [],
   "source": [
    "# fit the sim data (recover relation similar to GMS?)\n",
    "fit_degree = 1\n",
    "# fit_range_x = [6, 10]\n",
    "# fit_range_x = [6, 9.2]\n",
    "fit_range_x = [-np.inf, np.inf]\n",
    "\n",
    "\n",
    "# how many galaxies are out of bounds? (infinity or nan)\n",
    "print(\"Number of out-of-bounds objects:\", len(x_data) - np.sum(np.isfinite(x_data)))\n",
    "# assert that that's the same for SFR and Mstar\n",
    "assert np.all(np.isfinite(x_data) == np.isfinite(y_data))\n",
    "\n",
    "\n",
    "# set filter/selector for sim data\n",
    "data_select = np.isfinite(x_data) & (x_data < 15) & (y_data < 10)\n",
    "x_data_select = x_data[data_select]\n",
    "y_data_select = y_data[data_select]\n",
    "# set filter/selector for the fitting (can be narrower to exclude certain regions)\n",
    "fit_select = (x_data_select > fit_range_x[0]) & (x_data_select < fit_range_x[1])\n",
    "\n",
    "\n",
    "# if we want colour-coding\n",
    "which_snp = 0\n",
    "# which_snp = -1\n",
    "c_data = []\n",
    "for i in range(0, len(gal_grid), 1):\n",
    "    _mhalo = np.log10(halo_grid[i, which_snp].data['mtot'])\n",
    "    _mstar = np.log10(gal_grid[i, which_snp].data['mstar'])\n",
    "    # _sfr = np.log10(gal_grid[i, which_snp].data['SFR']) - 9     # conversion from Gyr^-1 to yr^-1\n",
    "    _z = gal_grid[i, which_snp].data['z']\n",
    "    # _sfr_on_gms = sgm.GMS_Leslie2020(mstar=_mstar, z=_z, log=True)\n",
    "    _mhalo_noscatter = np.log10(sgm.iter_mhalo_from_mstar(10.**_mstar, z=_z, try_lookup=False, interpolate=True))\n",
    "    c_data.append(_mhalo - _mhalo_noscatter)\n",
    "    # c_data.append(_sfr - _sfr_on_gms)\n",
    "c_data = np.array(c_data)\n",
    "c_data_select = c_data[data_select]\n",
    "\n",
    "\n",
    "# colour mapping\n",
    "mhalo_scatter_range_minmax = np.max([np.nanmin(c_data), np.nanmax(c_data)])\n",
    "mhalo_scatter_range = [-mhalo_scatter_range_minmax, mhalo_scatter_range_minmax]\n",
    "# mhalo_scatter_range = [np.nanmin(c_data), np.nanmax(c_data)]\n",
    "print(mhalo_scatter_range)\n",
    "# delta_sfr_range = [np.nanmin(c_data), np.nanmax(c_data)]\n",
    "cmap_mhalo_scatter = mpl.cm.PiYG_r\n",
    "# cmap_mhalo_scatter = mpl.cm.PuOr_r\n",
    "norm_mhalo_scatter = mpl.colors.Normalize(vmin=mhalo_scatter_range[0], vmax=mhalo_scatter_range[1])\n",
    "mapper_mhalo_scatter = mpl.cm.ScalarMappable(norm=norm_mhalo_scatter, cmap=cmap_mhalo_scatter)\n",
    "\n",
    "\n",
    "# fit\n",
    "p_fit = np.polynomial.Polynomial.fit(x_data_select[fit_select], y_data_select[fit_select], deg=fit_degree)\n",
    "\n",
    "delta_sfr = np.array(y_data_select) - p_fit(np.array(x_data_select))\n",
    "delta_sfr_sigma = np.std(delta_sfr)\n",
    "\n",
    "\n",
    "fig, (ax, ax_cbar) = plt.subplots(1, 2,\n",
    "                                  figsize=(7.2, 5.5),\n",
    "                                  gridspec_kw={\n",
    "                                      'width_ratios': (18, 1.2),\n",
    "                                      'height_ratios': (1,),\n",
    "                                      'hspace': 0.05\n",
    "                                  },\n",
    "                                  constrained_layout=True\n",
    "                                  )\n",
    "x_lin = np.linspace(np.nanmin(x_data_select), np.nanmax(x_data_select), num=1000)\n",
    "\n",
    "ax.plot(x_lin, sgm.GMS_Leslie2020(mstar=x_lin, z=0, log=True), color='xkcd:green', label=f'Leslie+20 GMS at z=0')\n",
    "ax.plot(x_lin, p_fit(x_lin), color='xkcd:dark red', label=f'{\"Linear\" if fit_degree == 1 else f\"{fit_degree}-order\"} fit to simulations (σ={delta_sfr_sigma:.3f})', ls=\"--\")\n",
    "ax.scatter(x_data_xCG, y_data_xCG, c='xkcd:light grey', label='xCOLD GASS with gas detections')\n",
    "ax.scatter(x_data_select, y_data_select,\n",
    "           c=mapper_mhalo_scatter.to_rgba(c_data_select),\n",
    "           label=f'Simulated galaxies ({len(x_data_select)}/{len(x_data)})',\n",
    "           edgecolors='xkcd:grey',\n",
    "           s=mpl.rcParams['lines.markersize'] ** 2 * 1.7,\n",
    "           linewidths=mpl.rcParams[\"lines.linewidth\"] * 0.3\n",
    "           )\n",
    "\n",
    "\n",
    "# colour bar\n",
    "fig.colorbar(mappable=mapper_mhalo_scatter,\n",
    "             cax=ax_cbar,\n",
    "             fraction=0.8,\n",
    "             # extend='both',\n",
    "             # anchor=(0.0, 0.0),\n",
    "             # label=r'log $M_\\mathrm{halo}$ [$M_\\odot$]' + f' at z={_z:.1f}')\n",
    "             label=r'$\\Delta \\; M_\\mathrm{halo}$ from Moster+2010 SHMR' + f' at z={_z:.1f} [dex]')\n",
    "\n",
    "\n",
    "ax.set_xlabel(r'log $M_\\mathrm{star}$ [$M_\\odot$]')\n",
    "ax.set_ylabel(r'log $SFR$ [$M_\\odot$ yr$^{-1}$]')\n",
    "ax.tick_params(axis='both', which='both', direction='in', bottom=True, top=True, left=True, right=True)\n",
    "ax.legend()"
   ],
   "metadata": {
    "collapsed": false,
    "pycharm": {
     "name": "#%%\n"
    }
   }
  },
  {
   "cell_type": "code",
   "execution_count": null,
   "outputs": [],
   "source": [
    "# save fit plot to disk\n",
    "fig.savefig(plot_dir / f'Fit_and_Std_sims_vs_xCG_obs_{datetime.now().strftime(\"%Y.%m.%d-%H.%M.%S\")}.png', dpi=300)"
   ],
   "metadata": {
    "collapsed": false,
    "pycharm": {
     "name": "#%%\n"
    }
   }
  },
  {
   "cell_type": "code",
   "execution_count": null,
   "outputs": [],
   "source": [],
   "metadata": {
    "collapsed": false,
    "pycharm": {
     "name": "#%%\n"
    }
   }
  },
  {
   "cell_type": "markdown",
   "source": [
    "### Short-term fluctuations analysis"
   ],
   "metadata": {
    "collapsed": false
   }
  },
  {
   "cell_type": "markdown",
   "source": [
    "### Fit final Sims data points (to get relation and scatter)"
   ],
   "metadata": {
    "collapsed": false
   }
  },
  {
   "cell_type": "code",
   "execution_count": null,
   "outputs": [],
   "source": [
    "# fit the sim data (recover relation similar to GMS?)\n",
    "fit_degree = 1\n",
    "# fit_range_x = [6, 10]\n",
    "# fit_range_x = [6, 9.2]\n",
    "fit_range_x = [-np.inf, np.inf]\n",
    "\n",
    "\n",
    "# how many galaxies are out of bounds? (infinity or nan)\n",
    "print(\"Number of out-of-bounds objects:\", len(x_data) - np.sum(np.isfinite(x_data)))\n",
    "# assert that that's the same for SFR and Mstar\n",
    "assert np.all(np.isfinite(x_data) == np.isfinite(y_data))\n",
    "\n",
    "\n",
    "# set filter/selector for sim data\n",
    "data_select = np.isfinite(x_data) & (x_data < 15) & (y_data < 10)\n",
    "x_data_select = x_data[data_select]\n",
    "y_data_select = y_data[data_select]\n",
    "# set filter/selector for the fitting (can be narrower to exclude certain regions)\n",
    "fit_select = (x_data_select > fit_range_x[0]) & (x_data_select < fit_range_x[1])\n",
    "\n",
    "\n",
    "# if we want colour-coding\n",
    "which_snp = 0\n",
    "# which_snp = -1\n",
    "c_data = []\n",
    "for i in range(0, len(gal_grid), 1):\n",
    "    _sMIR_scaling = halo_grid[i, which_snp].data['sMIR_scaling']\n",
    "    c_data.append(_sMIR_scaling)\n",
    "    # c_data.append(_sfr - _sfr_on_gms)\n",
    "c_data = np.array(c_data)\n",
    "c_data_select = c_data[data_select]\n",
    "\n",
    "\n",
    "# colour mapping\n",
    "# scatter_range_minmax = np.max([np.nanmin(c_data), np.nanmax(c_data)])\n",
    "# scatter_range = [-scatter_range_minmax, scatter_range_minmax]\n",
    "scatter_range = [np.nanmin(c_data), np.nanmax(c_data)]\n",
    "print(scatter_range)\n",
    "# delta_sfr_range = [np.nanmin(c_data), np.nanmax(c_data)]\n",
    "cmap_scatter = mpl.cm.BrBG\n",
    "# cmap_scatter = mpl.cm.PuOr_r\n",
    "norm_scatter = mpl.colors.Normalize(vmin=scatter_range[0], vmax=scatter_range[1])\n",
    "mapper_scatter = mpl.cm.ScalarMappable(norm=norm_scatter, cmap=cmap_scatter)\n",
    "\n",
    "\n",
    "# fit\n",
    "p_fit = np.polynomial.Polynomial.fit(x_data_select[fit_select], y_data_select[fit_select], deg=fit_degree)\n",
    "\n",
    "delta_sfr = np.array(y_data_select) - p_fit(np.array(x_data_select))\n",
    "delta_sfr_sigma = np.std(delta_sfr)\n",
    "\n",
    "\n",
    "fig, (ax, ax_cbar) = plt.subplots(1, 2,\n",
    "                                  figsize=(7.2, 5.5),\n",
    "                                  gridspec_kw={\n",
    "                                      'width_ratios': (18, 1.2),\n",
    "                                      'height_ratios': (1,),\n",
    "                                      'hspace': 0.05\n",
    "                                  },\n",
    "                                  constrained_layout=True\n",
    "                                  )\n",
    "x_lin = np.linspace(np.nanmin(x_data_select), np.nanmax(x_data_select), num=1000)\n",
    "\n",
    "ax.plot(x_lin, sgm.GMS_Leslie2020(mstar=x_lin, z=0, log=True), color='xkcd:green', label=f'Leslie+20 GMS at z=0')\n",
    "ax.plot(x_lin, p_fit(x_lin), color='xkcd:dark red', label=f'{\"Linear\" if fit_degree == 1 else f\"{fit_degree}-order\"} fit to simulations (σ={delta_sfr_sigma:.3f})', ls=\"--\")\n",
    "ax.scatter(x_data_xCG, y_data_xCG, c='xkcd:light grey', label='xCOLD GASS with gas detections')\n",
    "ax.scatter(x_data_select, y_data_select,\n",
    "           c=mapper_scatter.to_rgba(c_data_select),\n",
    "           label=f'Simulated galaxies ({len(x_data_select)}/{len(x_data)})',\n",
    "           edgecolors='xkcd:grey',\n",
    "           s=mpl.rcParams['lines.markersize'] ** 2 * 1.7,\n",
    "           linewidths=mpl.rcParams[\"lines.linewidth\"] * 0.3\n",
    "           )\n",
    "\n",
    "\n",
    "# colour bar\n",
    "fig.colorbar(mappable=mapper_scatter,\n",
    "             cax=ax_cbar,\n",
    "             fraction=0.8,\n",
    "             # extend='both',\n",
    "             # anchor=(0.0, 0.0),\n",
    "             # label=r'log $M_\\mathrm{halo}$ [$M_\\odot$]' + f' at z={_z:.1f}')\n",
    "             label=r'Current sMIR scaling factor' + f' at z={_z:.1f}')\n",
    "\n",
    "\n",
    "ax.set_xlabel(r'log $M_\\mathrm{star}$ [$M_\\odot$]')\n",
    "ax.set_ylabel(r'log $SFR$ [$M_\\odot$ yr$^{-1}$]')\n",
    "ax.tick_params(axis='both', which='both', direction='in', bottom=True, top=True, left=True, right=True)\n",
    "ax.legend()"
   ],
   "metadata": {
    "collapsed": false,
    "pycharm": {
     "name": "#%%\n"
    }
   }
  },
  {
   "cell_type": "code",
   "execution_count": null,
   "outputs": [],
   "source": [
    "# save fit plot to disk\n",
    "fig.savefig(plot_dir / f'Fit_and_Std_sims_vs_xCG_obs_{datetime.now().strftime(\"%Y.%m.%d-%H.%M.%S\")}.png', dpi=300)"
   ],
   "metadata": {
    "collapsed": false,
    "pycharm": {
     "name": "#%%\n"
    }
   }
  },
  {
   "cell_type": "markdown",
   "source": [
    "### proto-type setting up Gaussian around GMS ICs"
   ],
   "metadata": {
    "collapsed": false,
    "pycharm": {
     "name": "#%% md\n"
    }
   }
  },
  {
   "cell_type": "code",
   "execution_count": null,
   "outputs": [],
   "source": [
    "from numpy.random import default_rng\n",
    "from scipy.stats import median_abs_deviation\n",
    "\n",
    "# initiate random number generator\n",
    "rng = default_rng(12345)\n",
    "_n = 100\n",
    "_z = 2.\n",
    "\n",
    "# uniform random dist in Mstar\n",
    "_mstar_min = 6.\n",
    "_mstar_max = 10.\n",
    "\n",
    "_mstar_vals = rng.uniform(low=_mstar_min,\n",
    "                          high=_mstar_max,\n",
    "                          size=_n)\n",
    "\n",
    "# gaussian dist in SFR\n",
    "_sfr_mean = 0\n",
    "_sfr_width = 0.3    # here: 3 sigma\n",
    "_sfr_sigma = _sfr_width/3.\n",
    "\n",
    "_sfr_vals = rng.normal(loc=_sfr_mean,\n",
    "                  scale=_sfr_sigma,\n",
    "                  size=_n)\n",
    "\n",
    "print('min:', np.min(_sfr_vals), '  max:', np.max(_sfr_vals))\n",
    "print('mean:', np.mean(_sfr_vals), '  std:', np.std(_sfr_vals))\n",
    "print('median:', np.median(_sfr_vals), '  MAD:', median_abs_deviation(_sfr_vals))\n",
    "print(_sfr_vals)\n",
    "\n",
    "\n",
    "# transformed\n",
    "_gms = sgm.GMS_Leslie2020(_mstar_vals, z=_z, log=True)\n",
    "_sfr_vals_tranf = _sfr_vals + _gms"
   ],
   "metadata": {
    "collapsed": false,
    "pycharm": {
     "name": "#%%\n"
    }
   }
  },
  {
   "cell_type": "code",
   "execution_count": null,
   "outputs": [],
   "source": [
    "fig, ax = plt.subplots(1, 2, figsize=(12, 5))\n",
    "\n",
    "ax[0].axhline(_sfr_mean, ls='--', color='xkcd:green', zorder=-1, label=f'In: mean={_sfr_mean:.3f}, std={_sfr_sigma:.3f}')\n",
    "ax[0].scatter(_mstar_vals, _sfr_vals, label=f'Out: mean={np.mean(_sfr_vals):.3f}, std={np.std(_sfr_vals):.3f}, N={_n}')\n",
    "\n",
    "_mstar_lin = np.linspace(_mstar_min, _mstar_max, 1000)\n",
    "ax[1].plot(_mstar_lin, sgm.GMS_Leslie2020(mstar=_mstar_lin, z=_z, log=True), ls='--', color='xkcd:green', zorder=-1, label=f'Leslie+20 GMS at z={_z}')\n",
    "ax[1].scatter(_mstar_vals, _sfr_vals_tranf, label=f'Transformed to GMS')\n",
    "\n",
    "for _ax in ax:\n",
    "    _ax.set_xlabel(r'log $M_\\mathrm{star}$ [$M_\\odot$]')\n",
    "    _ax.set_ylabel(r'log $SFR$ [$M_\\odot$ yr$^{-1}$]')\n",
    "    _ax.tick_params(axis='both', which='both', direction='in', bottom=True, top=True, left=True, right=True)\n",
    "    _ax.legend()\n",
    "\n",
    "# ax[1].text(x=0.08, y=0.88, s=f'z = {_z}', transform=ax[1].transAxes)"
   ],
   "metadata": {
    "collapsed": false,
    "pycharm": {
     "name": "#%%\n"
    }
   }
  },
  {
   "cell_type": "code",
   "execution_count": null,
   "outputs": [],
   "source": [
    "# save heat-map plot to disk\n",
    "fig.savefig(plot_dir / f'Generate_Distribution_around_GMS_{datetime.now().strftime(\"%Y.%m.%d-%H.%M.%S\")}.png', dpi=300)"
   ],
   "metadata": {
    "collapsed": false,
    "pycharm": {
     "name": "#%%\n"
    }
   }
  },
  {
   "cell_type": "markdown",
   "source": [
    "### **select galaxies/halos: plot quantities and differences for individual param combinations over time**"
   ],
   "metadata": {
    "collapsed": false
   }
  },
  {
   "cell_type": "code",
   "execution_count": null,
   "outputs": [],
   "source": [
    "# define which data to plot\n",
    "gal_grid = gal_grid_GMSsim\n",
    "\n",
    "# define what to plot\n",
    "x_type = 'lookbacktime'\n",
    "y_type = 'SFR'\n",
    "# which_objects = [0, 100, 200, 300, 400, 500, 600, 700, 800]\n",
    "# which_objects = [0, 50, 100, 150, 200, 250, 300]\n",
    "# which_objects = [0, 50, 100, 150, 200, 250, -1]\n",
    "\n",
    "N_gg = len(gal_grid)\n",
    "N_graphs = 7\n",
    "if N_gg > N_graphs:\n",
    "    which_objects = [int(i/(N_graphs - 1) * (N_gg - 1)) for i in range(N_graphs)]\n",
    "else:\n",
    "    which_objects = [range(N_gg)]\n",
    "print(f\"plotting halos with indices {', '.join(str(i) for i in which_objects)}\")\n",
    "\n",
    "# grab plotting data\n",
    "x_data = []\n",
    "y_data = []\n",
    "label_l = []\n",
    "for i in tqdm(which_objects):\n",
    "    x_data.append([gal.data[x_type] for gal in gal_grid[i][:]])\n",
    "    y_data.append([gal.data[y_type] for gal in gal_grid[i][:]])\n",
    "    # y_data.append([halo.data[y_type] for halo in halo_grid[i][:]])\n",
    "    label_l.append(r\"$\\mathrm{M}_\\star$\" + f\"= {gal_grid[i, 0].data['mstar']:.2e} \\t SFR = {gal_grid[i, 0].data['SFR'] / 10 ** 9:.2e}\")\n",
    "\n",
    "# initialise plot\n",
    "fig, ax = plt.subplots(nrows=2, figsize=(9, 9), constrained_layout=True)\n",
    "\n",
    "# plot actual values\n",
    "for i, (x, y, label) in enumerate(zip(x_data, y_data, label_l)):\n",
    "    ax[0].plot(x, y, label=label)\n",
    "\n",
    "\n",
    "# plot one quantity like SFR79\n",
    "for i, label in zip(which_objects, label_l):\n",
    "    ax[1].plot(i, SFR79_grid_GMSsim[i, -1], 'o', label=label)\n",
    "\n",
    "# additional fig and axes config\n",
    "fig.suptitle(f'{y_type}: comparing {len(which_objects)} simulated galaxies', fontsize=16)\n",
    "\n",
    "ax[0].invert_xaxis()\n",
    "ax[0].set_xlabel(x_type)\n",
    "ax[0].set_yscale('log')\n",
    "ax[0].set_ylabel(y_type)\n",
    "\n",
    "ax[1].set_xlabel('simulation number (arb. index)')\n",
    "ax[1].set_ylabel(f'log SFR79')\n",
    "\n",
    "ax[1].legend()\n",
    "\n",
    "# save to disk\n",
    "fig.savefig(plot_dir / f'comparing_{y_type}_of_{len(which_objects)}_simulated_galaxies'\n",
    "                       f'_{datetime.now().strftime(\"%Y.%m.%d-%H.%M.%S\")}.png')"
   ],
   "metadata": {
    "collapsed": false,
    "pycharm": {
     "name": "#%%\n"
    }
   }
  },
  {
   "cell_type": "markdown",
   "source": [
    "### **all galaxies/halos: plot quantities and differences for individual param combinations over time**"
   ],
   "metadata": {
    "collapsed": false
   }
  },
  {
   "cell_type": "code",
   "execution_count": null,
   "outputs": [],
   "source": [
    "# # define which data to plot\n",
    "# gal_grid = gal_grid_xCGsim\n",
    "# halo_grid = halo_grid_xCGsim\n",
    "# env_grid = env_grid_xCGsim\n",
    "# SFR79_grid = SFR79_grid_xCGsim\n",
    "\n",
    "# # define which data to plot\n",
    "# gal_grid = gal_grid_SDSSsim\n",
    "# halo_grid = halo_grid_SDSSsim\n",
    "# env_grid = env_grid_SDSSsim\n",
    "# SFR79_grid = SFR79_grid_SDSSsim\n",
    "\n",
    "# define which data to plot\n",
    "gal_grid = gal_grid_GMSsim\n",
    "halo_grid = halo_grid_GMSsim\n",
    "env_grid = env_grid_GMSsim\n",
    "SFR79_grid = SFR79_grid_GMSsim\n",
    "\n",
    "# define what to plot\n",
    "x_type = 'lookbacktime'\n",
    "y_type = 'SFR'\n",
    "# y_type = 'sMIR_scaling'\n",
    "# c_type = 'mtot'\n",
    "# c_type = 'mtot_over_mstar'\n",
    "c_type = 'mtot_over_mgas'\n",
    "c_snp = 0\n",
    "# c_snp = -1\n",
    "c_alpha = 0.25\n",
    "which_objects = range(0, len(gal_grid), 1)\n",
    "\n",
    "# grab plotting data\n",
    "x_data = []\n",
    "y_data = []\n",
    "c_data = []\n",
    "label_l = []\n",
    "for i in tqdm(which_objects):\n",
    "    x_data.append([gal.data[x_type] for gal in gal_grid[i][:]])\n",
    "    y_data.append([gal.data[y_type] for gal in gal_grid[i][:]])\n",
    "    # y_data.append([halo.data[y_type] for halo in halo_grid[i][:]])\n",
    "    if gal_grid[i][c_snp].data['mgas'] == 0 and halo_grid[i][c_snp].data['mtot'] != 0:\n",
    "        _c_data_i = [np.nan]\n",
    "    else:\n",
    "        _c_data_i = [halo_grid[i][c_snp].data['mtot'] / gal_grid[i][c_snp].data['mgas']]\n",
    "    # c_data.append([halo_grid[i][c_snp].data[c_type]])\n",
    "    c_data.append(_c_data_i)\n",
    "    label_l.append(r\"$\\mathrm{M}_\\star$\" + f\"= {gal_grid[i, 0].data['mstar']:.2e} \\t SFR = {gal_grid[i, 0].data['SFR'] / 10 ** 9:.2e}\")\n",
    "\n",
    "\n",
    "# normalise the colour data to make colour the data according to it (e.g. total halo mass mtot)\n",
    "c_data_range = (np.nanmin(c_data), np.nanmax(c_data))\n",
    "cmap = mpl.cm.viridis_r\n",
    "norm = mpl.colors.LogNorm(vmin=c_data_range[0], vmax=c_data_range[1])\n",
    "mapper = mpl.cm.ScalarMappable(norm=norm, cmap=cmap)\n",
    "\n",
    "\n",
    "# initialise plot\n",
    "fig, ax = plt.subplots(nrows=2, figsize=(9, 9), constrained_layout=True)\n",
    "\n",
    "# plot actual values\n",
    "for i, (x, y, c, label) in enumerate(zip(x_data, y_data, c_data, label_l)):\n",
    "    c_mapped = mapper.to_rgba(c)\n",
    "    c_mapped[:, -1] = c_alpha\n",
    "    ax[0].plot(x, y, c=c_mapped, label=label)\n",
    "\n",
    "\n",
    "# plot one quantity like SFR79\n",
    "for i, c, label in zip(which_objects, c_data, label_l):\n",
    "    c_mapped = mapper.to_rgba(c)\n",
    "    c_mapped[:, -1] = c_alpha\n",
    "    # ax[1].plot(c_data[i], SFR79_grid_xCGsim[i, -1], c=c_mapped, marker='o', label=label)\n",
    "    ax[1].plot(c_data[i], SFR79_grid[i, -1], c=c_mapped, marker='o', label=label)\n",
    "\n",
    "\n",
    "# additional fig and axes config\n",
    "fig.suptitle(f'{y_type}: comparing {len(which_objects)} simulated galaxies', fontsize=16)\n",
    "\n",
    "\n",
    "ax[0].invert_xaxis()\n",
    "ax[0].set_xlabel(x_type)\n",
    "ax[0].set_yscale('log')\n",
    "ax[0].set_ylabel(y_type)\n",
    "\n",
    "ax[1].set_xscale('log')\n",
    "ax[1].set_xlabel(c_type)\n",
    "ax[1].set_ylabel(f'log SFR79')\n",
    "ax[1].text(0.95, 0.05,\n",
    "           f\"{c_type} at lookbacktime = {env_grid[0, c_snp].data['lookbacktime']:.3f}\",\n",
    "           transform=ax[1].transAxes,\n",
    "           va='bottom', ha='right')\n"
   ],
   "metadata": {
    "collapsed": false,
    "pycharm": {
     "name": "#%%\n"
    }
   }
  },
  {
   "cell_type": "code",
   "execution_count": null,
   "outputs": [],
   "source": [
    "# save to disk\n",
    "fig.savefig(plot_dir / f'comparing_{y_type}_of_{len(which_objects)}_simulated_galaxies'\n",
    "                       f'_{datetime.now().strftime(\"%Y.%m.%d-%H.%M.%S\")}.png')"
   ],
   "metadata": {
    "collapsed": false,
    "pycharm": {
     "name": "#%%\n"
    }
   }
  },
  {
   "cell_type": "markdown",
   "source": [
    "### Residuals between xCG SFR79 from observations and from simulations"
   ],
   "metadata": {
    "collapsed": false
   }
  },
  {
   "cell_type": "code",
   "execution_count": null,
   "outputs": [],
   "source": [
    "xCG_df"
   ],
   "metadata": {
    "collapsed": false,
    "pycharm": {
     "name": "#%%\n"
    }
   }
  },
  {
   "cell_type": "code",
   "execution_count": null,
   "outputs": [],
   "source": [
    "x_data_a = np.array(x_data)\n",
    "y_data_a = np.array(y_data)\n",
    "c_data_obs_a = np.array(c_data_obs)\n",
    "c_data_sim_a = np.array(c_data_sim)\n",
    "\n",
    "xCG_gas_mass_fraction = np.squeeze(xCG_df.loc[xCG_minimal_selector & xCG_gasdetect_selector, \"gas_mass_fraction\"].to_numpy())\n",
    "xCG_SFRexcessGMS = np.squeeze(xCG_df.loc[xCG_minimal_selector & xCG_gasdetect_selector, \"SFRexcessGMS\"].to_numpy())\n",
    "xCG_median_SFR79_in_bin = np.squeeze(xCG_df.loc[xCG_minimal_selector & xCG_gasdetect_selector, \"median_SFR79_in_bin\"].to_numpy())\n"
   ],
   "metadata": {
    "collapsed": false,
    "pycharm": {
     "name": "#%%\n"
    }
   }
  },
  {
   "cell_type": "code",
   "execution_count": null,
   "outputs": [],
   "source": [
    "fig, ax = plt.subplots(2, 1, figsize=(12, 12), constrained_layout=True)\n",
    "\n",
    "c_data_plot_a = c_data_obs_a - c_data_sim_a\n",
    "\n",
    "cmap = mpl.cm.viridis\n",
    "norm = mpl.colors.Normalize(vmin=min(xCG_SFRexcessGMS), vmax=max(xCG_SFRexcessGMS))\n",
    "mapper = mpl.cm.ScalarMappable(norm=norm, cmap=cmap)\n",
    "ax[0].scatter(xCG_gas_mass_fraction, c_data_plot_a, c=xCG_SFRexcessGMS, cmap=cmap, norm=norm, marker='o', s=50)\n",
    "ax[0].set_xlabel(\"Gas Mass Fraction $\\log(M_\\mathrm{H2} \\; / \\; M_{\\star})$\")\n",
    "fig.colorbar(mapper, ax=ax[0], label=r\"Δ SFR [dex] above/below GMS\")\n",
    "# poly fit\n",
    "exp_fit = np.polyfit(x=xCG_gas_mass_fraction, y=c_data_plot_a, deg=1)\n",
    "p = np.poly1d(exp_fit)\n",
    "x_lin = np.linspace(min(xCG_gas_mass_fraction), max(xCG_gas_mass_fraction), 1000)\n",
    "ax[0].plot(x_lin, p(x_lin), zorder=-10, c='xkcd:grey', ls='--')\n",
    "\n",
    "cmap = mpl.cm.magma\n",
    "norm = mpl.colors.Normalize(vmin=min(xCG_gas_mass_fraction), vmax=max(xCG_gas_mass_fraction))\n",
    "mapper = mpl.cm.ScalarMappable(norm=norm, cmap=cmap)\n",
    "ax[1].scatter(xCG_SFRexcessGMS, c_data_plot_a, c=xCG_gas_mass_fraction, cmap=mpl.cm.magma, marker='o', s=50)\n",
    "ax[1].set_xlabel(r\"Δ SFR [dex] above/below GMS\")\n",
    "fig.colorbar(mapper, ax=ax[1], label=\"Gas Mass Fraction $\\log(M_\\mathrm{H2} \\; / \\; M_{\\star})$\")\n",
    "# poly fit\n",
    "exp_fit = np.polyfit(x=xCG_SFRexcessGMS, y=c_data_plot_a, deg=1)\n",
    "p = np.poly1d(exp_fit)\n",
    "x_lin = np.linspace(min(xCG_SFRexcessGMS), max(xCG_SFRexcessGMS), 1000)\n",
    "ax[1].plot(x_lin, p(x_lin), zorder=-10, c='xkcd:grey', ls='--')\n",
    "\n",
    "ylim_vals = (None, 2.6)\n",
    "for ax_i in ax:\n",
    "    ax_i.set_ylabel(r'log(SFR79$_\\mathrm{obs}$) - log(SFR79$_\\mathrm{sim}$)')\n",
    "    ax_i.set_ylim(*ylim_vals)\n",
    "    out_of_plot = 0\n",
    "    out_of_plot_up = 0\n",
    "    out_of_plot_down = 0\n",
    "    if not ylim_vals[0] is None:\n",
    "        if np.any(c_data_plot_a < ylim_vals[0]):\n",
    "            out_of_plot_down = np.sum(c_data_plot_a < ylim_vals[0])\n",
    "            out_of_plot += out_of_plot_down\n",
    "    if not ylim_vals[1] is None:\n",
    "        if np.any(c_data_plot_a > ylim_vals[1]):\n",
    "            out_of_plot_up = np.sum(c_data_plot_a > ylim_vals[1])\n",
    "            out_of_plot += out_of_plot_up\n",
    "    ax_i.text(0.03, 0.94,\n",
    "              (f\"data points out of plot: {out_of_plot} ({out_of_plot_up}\" +\n",
    "               r'$\\uparrow$ + ' + f\"{out_of_plot_down}\" + r'$\\downarrow$)'),\n",
    "              transform=ax_i.transAxes,\n",
    "              va='top', ha='left')"
   ],
   "metadata": {
    "collapsed": false,
    "pycharm": {
     "name": "#%%\n"
    }
   }
  },
  {
   "cell_type": "code",
   "execution_count": null,
   "outputs": [],
   "source": [
    "# save residuals plot to disk\n",
    "fig.savefig(plot_dir / f'residuals_SFR79_obs_vs_sims_{datetime.now().strftime(\"%Y.%m.%d-%H.%M.%S\")}.png')"
   ],
   "metadata": {
    "collapsed": false,
    "pycharm": {
     "name": "#%%\n"
    }
   }
  },
  {
   "cell_type": "code",
   "execution_count": null,
   "outputs": [],
   "source": [
    "fig, ax = plt.subplots(figsize=(12, 9), constrained_layout=True)\n",
    "\n",
    "sfr79_range = (-2, 2)\n",
    "cmap = mpl.cm.RdBu\n",
    "norm = mpl.colors.Normalize(vmin=sfr79_range[0], vmax=sfr79_range[1])\n",
    "mapper = mpl.cm.ScalarMappable(norm=norm, cmap=cmap)\n",
    "\n",
    "ax.scatter(xCG_gas_mass_fraction, xCG_SFRexcessGMS, c=c_data_obs_a, cmap=cmap, norm=norm, marker='o', edgecolor='xkcd:grey', s=50)\n",
    "fig.colorbar(mapper, ax=ax, label=r\"log SFR79 (obs)\", extend='both')\n",
    "# ax.set_facecolor('xkcd:grey')\n",
    "\n",
    "# poly fit\n",
    "exp_fit = np.polyfit(x=xCG_gas_mass_fraction, y=xCG_SFRexcessGMS, deg=1)\n",
    "p = np.poly1d(exp_fit)\n",
    "x_lin = np.linspace(min(xCG_gas_mass_fraction), max(xCG_gas_mass_fraction), 1000)\n",
    "ax.plot(x_lin, p(x_lin), zorder=-10, c='xkcd:grey', ls='--')\n",
    "\n",
    "# formatting to figure\n",
    "ax.set_xlabel(\"Gas Mass Fraction $\\log(M_\\mathrm{H2} \\; / \\; M_{\\star})$\")\n",
    "ax.set_ylabel(r\"Δ SFR [dex] above/below GMS\")"
   ],
   "metadata": {
    "collapsed": false,
    "pycharm": {
     "name": "#%%\n"
    }
   }
  },
  {
   "cell_type": "code",
   "execution_count": null,
   "outputs": [],
   "source": [
    "# save residuals plot to disk\n",
    "fig.savefig(plot_dir / f'correlation_gasmassfrac_to_deltaSFR_cc_SFR79obs_{datetime.now().strftime(\"%Y.%m.%d-%H.%M.%S\")}.png')"
   ],
   "metadata": {
    "collapsed": false,
    "pycharm": {
     "name": "#%%\n"
    }
   }
  },
  {
   "cell_type": "code",
   "execution_count": null,
   "outputs": [],
   "source": [],
   "metadata": {
    "collapsed": false,
    "pycharm": {
     "name": "#%%\n"
    }
   }
  }
 ],
 "metadata": {
  "kernelspec": {
   "display_name": "Python 3",
   "language": "python",
   "name": "python3"
  },
  "language_info": {
   "codemirror_mode": {
    "name": "ipython",
    "version": 2
   },
   "file_extension": ".py",
   "mimetype": "text/x-python",
   "name": "python",
   "nbconvert_exporter": "python",
   "pygments_lexer": "ipython2",
   "version": "2.7.6"
  }
 },
 "nbformat": 4,
 "nbformat_minor": 0
}