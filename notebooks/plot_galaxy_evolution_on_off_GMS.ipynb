{
 "cells": [
  {
   "cell_type": "markdown",
   "source": [
    "# Plotting SFR Tracks of Galaxy Evolution\n",
    "\n",
    "Used to plot the time evolution of the star-formation rate (SFR) for galaxies lying on the star-forming galaxy main sequence (SF GMS), or off by a certain number of dex – typically 1 dex."
   ],
   "metadata": {
    "collapsed": false,
    "pycharm": {
     "name": "#%% md\n"
    }
   }
  },
  {
   "cell_type": "code",
   "execution_count": null,
   "metadata": {
    "collapsed": true
   },
   "outputs": [],
   "source": [
    "import numpy as np\n",
    "import pandas as pd\n",
    "\n",
    "from pathlib import Path\n",
    "from datetime import datetime\n",
    "import warnings\n",
    "\n",
    "import matplotlib as mpl\n",
    "import matplotlib.pyplot as plt\n",
    "\n",
    "from tqdm.notebook import tqdm, trange\n",
    "\n",
    "import SiGMo as sgm"
   ]
  },
  {
   "cell_type": "code",
   "execution_count": null,
   "outputs": [],
   "source": [
    "project_dir = Path.cwd().parent\n",
    "sfr79_dir = project_dir / 'data' / \"SFR79_grids\"\n",
    "# snp_dir_GMS_sim = project_dir / 'outputs' / '_tmp' / \"2022.04.13-17.13.09\" / \"0_forward_from_z0.0729411607551602_1Gyr_dt1e-3\"\n",
    "# snp_dir_GMSp1_sim = project_dir / 'outputs' / '_tmp' / \"2022.04.13-17.55.31\" / \"0_forward_from_z0.0729411607551602_1Gyr_dt1e-3_SFRoffset1.0\"\n",
    "# snp_dir_GMSm1_sim = project_dir / 'outputs' / '_tmp' / \"2022.04.13-17.57.35\" / \"0_forward_from_z0.0729411607551602_1Gyr_dt1e-3_SFRoffset-1.0\"\n",
    "\n",
    "# z=2..0\n",
    "# snp_dir_GMS_sim = project_dir / 'outputs' / '_tmp' / \"2022.04.19-19.30.50\" / \"0_forward_from_z2.0_to_z0_dt1e-3_SFRoffset0.0\"\n",
    "# z=1..0\n",
    "# snp_dir_GMS_sim = project_dir / 'outputs' / '_tmp' / \"2022.04.19-19.39.39\" / \"0_forward_from_z1.0_to_z0_dt1e-3_SFRoffset0.0\"\n",
    "\n",
    "# z=2..0 with lower fgal=0.3\n",
    "# snp_dir_GMS_sim = project_dir / 'outputs' / '_tmp' / \"2022.04.19-19.58.48\" / \"0_forward_from_z2.0_to_z0_dt1e-3_SFRoffset0.0\"\n",
    "\n",
    "# z=2..0 with higher fgal=0.5\n",
    "# snp_dir_GMS_sim = project_dir / 'outputs' / '_tmp' / \"2022.04.19-20.09.21\" / \"0_forward_from_z2.0_to_z0_dt1e-3_SFRoffset0.0\"\n",
    "\n",
    "\n",
    "# on, above, below GMS, z=2...0\n",
    "\n",
    "# on GMS\n",
    "# snp_dir_GMS_sim = project_dir / 'outputs' / '_tmp' / \"2022.04.19-19.30.50\" / \"0_forward_from_z2.0_to_z0_dt1e-3_SFRoffset0.0\"\n",
    "# 1 dex above GMS\n",
    "# snp_dir_GMS_sim = project_dir / 'outputs' / '_tmp' / \"2022.05.05-17.10.32\" / \"0_forward_from_z2.0_to_z0_dt1e-3_SFRoffset1.0\"\n",
    "# 1 dex below GMS\n",
    "# snp_dir_GMS_sim = project_dir / 'outputs' / '_tmp' / \"2022.05.05-17.20.25\" / \"0_forward_from_z2.0_to_z0_dt1e-3_SFRoffset-1.0\"\n",
    "\n",
    "# on GMS, from z=6...0\n",
    "snp_dir_GMS_sim = project_dir / 'outputs' / '_tmp' / \"2022.05.05-17.37.05\" / \"0_forward_from_z6.0_to_z0_dt1e-3_SFRoffset0.0\"\n",
    "\n",
    "# ATTENTION! plotting directory is based on the (on-) GMS directory parent name/name here!\n",
    "plot_dir = project_dir / 'plots' / '_tmp' / snp_dir_GMS_sim.parent.name / snp_dir_GMS_sim.name   # plot dir has now same datetime name as output dir\n",
    "plot_dir.mkdir(exist_ok=True, parents=True)   # create plot dir only if necessary"
   ],
   "metadata": {
    "collapsed": false,
    "pycharm": {
     "name": "#%%\n"
    }
   }
  },
  {
   "cell_type": "markdown",
   "source": [
    "### Read in"
   ],
   "metadata": {
    "collapsed": false,
    "pycharm": {
     "name": "#%% md\n"
    }
   }
  },
  {
   "cell_type": "code",
   "execution_count": null,
   "outputs": [],
   "source": [
    "single_snapshots = False\n",
    "\n",
    "# how many objects per timestep?\n",
    "n_envs = 1\n",
    "# this is \"unknown\" unless looked up someplace else, but if 'None' will be determined from some Environment snapshot\n",
    "n_halos = None\n",
    "n_gals = None\n",
    "\n",
    "# reading simulation results (SDSS)\n",
    "env_grid_GMS_sim, halo_grid_GMS_sim, gal_grid_GMS_sim = sgm.read_all_snapshots_from_dir(snp_dir=snp_dir_GMS_sim,  # this is where you can plug in different offsets or on-GMS runs\n",
    "                                                                                        n_envs=n_envs,\n",
    "                                                                                        n_halos=n_halos,\n",
    "                                                                                        n_gals=n_gals,\n",
    "                                                                                        single_snapshots=single_snapshots)"
   ],
   "metadata": {
    "collapsed": false,
    "pycharm": {
     "name": "#%%\n"
    }
   }
  },
  {
   "cell_type": "code",
   "execution_count": null,
   "outputs": [],
   "source": [
    "# re-create/populate halo_grid and galaxy_grid (for FIRST Environment only) if necessary\n",
    "if not single_snapshots:\n",
    "    for t, env_snp in enumerate(tqdm(env_grid_GMS_sim[0])):  # HARDCODED to 1st Environment only!\n",
    "        for i_halo, halo in enumerate(env_snp.data['halos']):\n",
    "            halo_grid_GMS_sim[i_halo, t] = sgm.Snapshot(halo)\n",
    "            for i_gal, gal in enumerate(halo['galaxies']):\n",
    "                gal_grid_GMS_sim[i_halo, t] = sgm.Snapshot(gal)  # HARDCODED to 1 Galaxy per Halo!!"
   ],
   "metadata": {
    "collapsed": false,
    "pycharm": {
     "name": "#%%\n"
    }
   }
  },
  {
   "cell_type": "markdown",
   "source": [
    "### Plotting"
   ],
   "metadata": {
    "collapsed": false,
    "pycharm": {
     "name": "#%% md\n"
    }
   }
  },
  {
   "cell_type": "code",
   "execution_count": null,
   "outputs": [],
   "source": [
    "# define which data to plot\n",
    "gal_grid = gal_grid_GMS_sim\n",
    "halo_grid = halo_grid_GMS_sim\n",
    "env_grid = env_grid_GMS_sim\n",
    "\n",
    "# define what to plot\n",
    "x_type = 'mstar'\n",
    "x_type_name = r'log $M_*$'\n",
    "x_type_unit = r'$M_\\odot$'\n",
    "\n",
    "y_type = 'SFR'\n",
    "y_type_name = r'log $SFR$'\n",
    "y_type_unit = r'$M_\\odot yr^{-1}$'\n",
    "\n",
    "c_type = 'mtot'\n",
    "c_type_name = r'$M_{halo}$'\n",
    "c_type_unit = r'$M_\\odot$'\n",
    "c_snp = 0\n",
    "# c_snp = -1\n",
    "c_alpha = 0.75\n",
    "which_objects = range(0, len(gal_grid), 1)\n",
    "\n",
    "# grab plotting data\n",
    "x_data = []\n",
    "y_data = []\n",
    "c_data = []\n",
    "label_l = []\n",
    "for i in tqdm(which_objects):\n",
    "    x_data.append([np.log10(gal.data[x_type]) for gal in gal_grid[i][:]])\n",
    "    y_data.append([np.log10(gal.data[y_type]) - 9. for gal in gal_grid[i][:]])\n",
    "    # y_data.append([halo.data[y_type] for halo in halo_grid[i][:]])\n",
    "    # if gal_grid[i][c_snp].data['mgas'] == 0 and halo_grid[i][c_snp].data['mtot'] != 0:\n",
    "    #     _c_data_i = [np.nan]\n",
    "    # else:\n",
    "    #     _c_data_i = [halo_grid[i][c_snp].data['mtot'] / gal_grid[i][c_snp].data['mgas']]\n",
    "    c_data.append([halo_grid[i][c_snp].data[c_type]])\n",
    "    # c_data.append(_c_data_i)\n",
    "    label_l.append(r\"$\\mathrm{M}_\\star$\" + f\"= {gal_grid[i, 0].data['mstar']:.2e} \\t SFR = {gal_grid[i, 0].data['SFR'] / 10 ** 9:.2e}\")\n",
    "\n",
    "\n",
    "# normalise the colour data to make colour the data according to it (e.g. total halo mass mtot)\n",
    "c_data_range = (np.nanmin(c_data), np.nanmax(c_data))\n",
    "cmap = mpl.cm.viridis_r\n",
    "norm = mpl.colors.LogNorm(vmin=c_data_range[0], vmax=c_data_range[1])\n",
    "mapper = mpl.cm.ScalarMappable(norm=norm, cmap=cmap)\n",
    "\n",
    "\n",
    "# grab all redshifts\n",
    "z_list = [gal.data['z'] for gal in gal_grid[0][:]]\n",
    "\n",
    "\n",
    "# initialise plot\n",
    "fig, ax = plt.subplots(figsize=(9.5, 6), constrained_layout=True)\n",
    "\n",
    "# plot GMS Leslie+2020\n",
    "z_start = env_grid[0, 0].data['z']\n",
    "z_end = env_grid[0, -1].data['z']\n",
    "lbt_start = env_grid[0, 0].data['lookbacktime']\n",
    "lbt_end = env_grid[0, -1].data['lookbacktime']\n",
    "\n",
    "xlin = np.linspace(x_data[0][0], x_data[-1][0], 500)\n",
    "ax.plot(xlin, sgm.GMS_Leslie2020(xlin, z=z_start, log=True), ls='-.', marker='', color='xkcd:turquoise',\n",
    "        label=f\"{lbt_start:.2f} Gyr ago (z={z_start:.1f})\")\n",
    "ax.plot(xlin, sgm.GMS_Leslie2020(xlin, z=z_end, log=True), ls=':', marker='', color='xkcd:turquoise',\n",
    "        label=f\"{lbt_end:.2f} Gyr ago (z={z_end:.1f})\")\n",
    "\n",
    "\n",
    "\n",
    "# plot lines at same redshift\n",
    "# redshifts_plot_l = [2, 1.5, 1., 0.5, 0.]\n",
    "redshifts_plot_l = [6., 5., 4., 3., 2., 1., 0.]\n",
    "for redshift in redshifts_plot_l:\n",
    "    z_i = sgm.find_nearest_index(z_list, redshift)\n",
    "    z_line_x = [gal_x[z_i] for gal_x in x_data]\n",
    "    z_line_y = [gal_y[z_i] for gal_y in y_data]\n",
    "    ax.plot(z_line_x, z_line_y, ls='--', color='xkcd:magenta', alpha=0.5)\n",
    "\n",
    "\n",
    "# plot actual values\n",
    "for i, (x, y, c, label) in enumerate(zip(x_data, y_data, c_data, label_l)):\n",
    "    c_mapped = mapper.to_rgba(c)\n",
    "    c_mapped[:, -1] = c_alpha\n",
    "    ax.plot(x, y, c=c_mapped, ls='-')\n",
    "    # ax.plot(x[-1], y[-1], c=c_mapped, marker='o')\n",
    "\n",
    "\n",
    "# add colour bar\n",
    "fig.colorbar(mapper, ax=ax, label=f\"{c_type_name} [{c_type_unit}] at z = {env_grid[0, c_snp].data['z']:.2f}\")\n",
    "\n",
    "\n",
    "# # plot one quantity like SFR79\n",
    "# for i, c, label in zip(which_objects, c_data, label_l):\n",
    "#     c_mapped = mapper.to_rgba(c)\n",
    "#     c_mapped[:, -1] = c_alpha\n",
    "#     ax[1].plot(c_data[i], SFR79_grid_xCGsim[i, -1], c=c_mapped, marker='o', label=label)\n",
    "\n",
    "\n",
    "# additional fig and axes config\n",
    "fig.suptitle(f'Tracing {len(which_objects)} simulated galaxies from z={z_start:.1f} to z={z_end:.1f}', fontsize=16)\n",
    "\n",
    "\n",
    "ax.set_xlabel(f\"{x_type_name} [{x_type_unit}]\")\n",
    "# ax.set_yscale('log')\n",
    "ax.set_ylabel(f\"{y_type_name} [{y_type_unit}]\")\n",
    "\n",
    "\n",
    "# this is not good, only necessary b/c of exceptionally high values\n",
    "ax.set_xlim(4.5, 20)\n",
    "ax.set_ylim(-5, 12)\n",
    "\n",
    "\n",
    "ax.legend(title=\"Leslie+2020 Galaxy Main Sequence:\")\n",
    "\n",
    "# ax.text(0.95, 0.05,\n",
    "#        f\"Colour-coded by {c_type_name} at lookbacktime = {env_grid[0, c_snp].data['lookbacktime']:.2f} Gyr\",\n",
    "#        transform=ax.transAxes,\n",
    "#        va='bottom', ha='right')\n",
    "\n",
    "ax.text(0.95, 0.05,\n",
    "       f\"Galaxy accretion fraction: {gal_grid[0, 0].data['fgal']}\",\n",
    "       transform=ax.transAxes,\n",
    "       va='bottom', ha='right')"
   ],
   "metadata": {
    "collapsed": false,
    "pycharm": {
     "name": "#%%\n"
    }
   }
  },
  {
   "cell_type": "code",
   "execution_count": null,
   "outputs": [],
   "source": [
    "# save plot to disk\n",
    "\n",
    "GMS_keyword = ''\n",
    "# GMS_keyword = 'p1'\n",
    "# GMS_keyword = 'm1'\n",
    "\n",
    "fig.savefig(plot_dir / f\"SFRevolution_{y_type}_vs_{x_type}_GMS{GMS_keyword}_sim_\"\n",
    "                       f\"from_z{z_start}_to_z{z_end}_\"\n",
    "                       f\"{datetime.now().strftime('%Y.%m.%d-%H.%M.%S')}.png\")"
   ],
   "metadata": {
    "collapsed": false,
    "pycharm": {
     "name": "#%%\n"
    }
   }
  },
  {
   "cell_type": "markdown",
   "source": [
    "### Plot ΔSFR offset/residuals of simulated galaxies from Leslie GMS over different redshifts"
   ],
   "metadata": {
    "collapsed": false,
    "pycharm": {
     "name": "#%% md\n"
    }
   }
  },
  {
   "cell_type": "code",
   "execution_count": null,
   "outputs": [],
   "source": [
    "# initialise plot\n",
    "fig, ax = plt.subplots(figsize=(9.5, 6), constrained_layout=True)\n",
    "\n",
    "\n",
    "# compute ΔSFR values\n",
    "delta_sfr = []\n",
    "for x_gal, y_gal in tqdm(zip(x_data, y_data), total=len(x_data)):\n",
    "    delta_sfr.append([y - sgm.GMS_Leslie2020(x, z, True) for x, y, z in zip(x_gal, y_gal, z_list)])  # also take z list\n",
    "\n",
    "\n",
    "# plot lines at same redshift\n",
    "# redshifts_plot_l = [2, 1.5, 1., 0.5, 0.]\n",
    "redshifts_plot_l = [6., 5., 4., 3., 2., 1., 0.]\n",
    "for redshift in redshifts_plot_l:\n",
    "    z_i = sgm.find_nearest_index(z_list, redshift)\n",
    "    z_line_x = [gal_x[z_i] for gal_x in x_data]\n",
    "    z_line_y = [gal_y[z_i] for gal_y in delta_sfr]\n",
    "    ax.plot(z_line_x, z_line_y, ls='--', color='xkcd:magenta', alpha=0.5)\n",
    "\n",
    "\n",
    "# plot actual values\n",
    "for i, (x, y, c) in enumerate(zip(x_data, delta_sfr, c_data)):\n",
    "    c_mapped = mapper.to_rgba(c)\n",
    "    c_mapped[:, -1] = c_alpha\n",
    "    ax.plot(x, y, c=c_mapped, ls='-')\n",
    "\n",
    "# add colour bar\n",
    "fig.colorbar(mapper, ax=ax, label=f\"{c_type_name} [{c_type_unit}] at z = {env_grid[0, c_snp].data['z']:.2f}\")\n",
    "\n",
    "\n",
    "# additional fig and axes config\n",
    "fig.suptitle(f'ΔSFR for {len(which_objects)} simulated galaxies from z={z_start:.1f} to z={z_end:.1f}', fontsize=16)\n",
    "\n",
    "ax.set_xlabel(r'log $M_*$ [$M_\\odot$]')\n",
    "ax.set_ylabel(r'$\\Delta$ SFR [dex]')\n",
    "\n",
    "# this is not good, only necessary b/c of exceptionally high values\n",
    "ax.set_xlim(4.5, 20)\n",
    "ax.set_ylim(-1, 11)\n"
   ],
   "metadata": {
    "collapsed": false,
    "pycharm": {
     "name": "#%%\n"
    }
   }
  },
  {
   "cell_type": "code",
   "execution_count": null,
   "outputs": [],
   "source": [
    "# save plot to disk\n",
    "\n",
    "GMS_keyword = ''\n",
    "# GMS_keyword = 'p1'\n",
    "# GMS_keyword = 'm1'\n",
    "\n",
    "fig.savefig(plot_dir / f\"Delta_SFRevolution_vs_{x_type}_GMS{GMS_keyword}_sim_\"\n",
    "                       f\"from_z{z_start}_to_z{z_end}_\"\n",
    "                       f\"{datetime.now().strftime('%Y.%m.%d-%H.%M.%S')}.png\")"
   ],
   "metadata": {
    "collapsed": false,
    "pycharm": {
     "name": "#%%\n"
    }
   }
  },
  {
   "cell_type": "code",
   "execution_count": null,
   "outputs": [],
   "source": [],
   "metadata": {
    "collapsed": false,
    "pycharm": {
     "name": "#%%\n"
    }
   }
  },
  {
   "cell_type": "code",
   "execution_count": null,
   "outputs": [],
   "source": [],
   "metadata": {
    "collapsed": false,
    "pycharm": {
     "name": "#%%\n"
    }
   }
  }
 ],
 "metadata": {
  "kernelspec": {
   "display_name": "Python 3",
   "language": "python",
   "name": "python3"
  },
  "language_info": {
   "codemirror_mode": {
    "name": "ipython",
    "version": 2
   },
   "file_extension": ".py",
   "mimetype": "text/x-python",
   "name": "python",
   "nbconvert_exporter": "python",
   "pygments_lexer": "ipython2",
   "version": "2.7.6"
  }
 },
 "nbformat": 4,
 "nbformat_minor": 0
}