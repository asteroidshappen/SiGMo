{
 "cells": [
  {
   "cell_type": "markdown",
   "source": [
    "# Plotting SFR Tracks of Galaxy Evolution\n",
    "\n",
    "Used to plot the time evolution of the star-formation rate (SFR) for galaxies lying on the star-forming galaxy main sequence (SF GMS), or off by a certain number of dex – typically 1 dex."
   ],
   "metadata": {
    "collapsed": false,
    "pycharm": {
     "name": "#%% md\n"
    }
   }
  },
  {
   "cell_type": "code",
   "execution_count": null,
   "metadata": {
    "collapsed": true
   },
   "outputs": [],
   "source": [
    "import numpy as np\n",
    "import pandas as pd\n",
    "\n",
    "from pathlib import Path\n",
    "from datetime import datetime\n",
    "import warnings\n",
    "\n",
    "import matplotlib as mpl\n",
    "import matplotlib.pyplot as plt\n",
    "\n",
    "from tqdm.notebook import tqdm, trange\n",
    "\n",
    "import SiGMo as sgm"
   ]
  },
  {
   "cell_type": "code",
   "execution_count": null,
   "outputs": [],
   "source": [
    "project_dir = Path.cwd().parent\n",
    "sfr79_dir = project_dir / 'data' / \"SFR79_grids\"\n",
    "snp_dir_GMS_sim = project_dir / 'outputs' / '_tmp' / \"2022.04.13-17.13.09\" / \"0_forward_from_z0.0729411607551602_1Gyr_dt1e-3\"\n",
    "snp_dir_GMSp1_sim = project_dir / 'outputs' / '_tmp' / \"2022.04.13-17.55.31\" / \"0_forward_from_z0.0729411607551602_1Gyr_dt1e-3_SFRoffset1.0\"\n",
    "snp_dir_GMSm1_sim = project_dir / 'outputs' / '_tmp' / \"2022.04.13-17.57.35\" / \"0_forward_from_z0.0729411607551602_1Gyr_dt1e-3_SFRoffset-1.0\"\n",
    "# ATTENTION! plotting directory is based on the (on-) GMS directory parent name/name here!\n",
    "plot_dir = project_dir / 'plots' / '_tmp' / snp_dir_GMS_sim.parent.name / snp_dir_GMS_sim.name   # plot dir has now same datetime name as output dir\n",
    "plot_dir.mkdir(exist_ok=True, parents=True)   # create plot dir only if necessary"
   ],
   "metadata": {
    "collapsed": false,
    "pycharm": {
     "name": "#%%\n"
    }
   }
  },
  {
   "cell_type": "markdown",
   "source": [
    "### Read in"
   ],
   "metadata": {
    "collapsed": false,
    "pycharm": {
     "name": "#%% md\n"
    }
   }
  },
  {
   "cell_type": "code",
   "execution_count": null,
   "outputs": [],
   "source": [
    "single_snapshots = False\n",
    "\n",
    "# how many objects per timestep?\n",
    "n_envs = 1\n",
    "# this is \"unknown\" unless looked up someplace else, but if 'None' will be determined from some Environment snapshot\n",
    "n_halos = None\n",
    "n_gals = None\n",
    "\n",
    "# reading simulation results (SDSS)\n",
    "env_grid_GMS_sim, halo_grid_GMS_sim, gal_grid_GMS_sim = sgm.read_all_snapshots_from_dir(snp_dir=snp_dir_GMSm1_sim,  # this is where you can plug in different offsets or on-GMS runs\n",
    "                                                                                        n_envs=n_envs,\n",
    "                                                                                        n_halos=n_halos,\n",
    "                                                                                        n_gals=n_gals,\n",
    "                                                                                        single_snapshots=single_snapshots)"
   ],
   "metadata": {
    "collapsed": false,
    "pycharm": {
     "name": "#%%\n"
    }
   }
  },
  {
   "cell_type": "code",
   "execution_count": null,
   "outputs": [],
   "source": [
    "# re-create/populate halo_grid and galaxy_grid (for FIRST Environment only) if necessary\n",
    "if not single_snapshots:\n",
    "    for t, env_snp in enumerate(tqdm(env_grid_GMS_sim[0])):  # HARDCODED to 1st Environment only!\n",
    "        for i_halo, halo in enumerate(env_snp.data['halos']):\n",
    "            halo_grid_GMS_sim[i_halo, t] = sgm.Snapshot(halo)\n",
    "            for i_gal, gal in enumerate(halo['galaxies']):\n",
    "                gal_grid_GMS_sim[i_halo, t] = sgm.Snapshot(gal)  # HARDCODED to 1 Galaxy per Halo!!"
   ],
   "metadata": {
    "collapsed": false,
    "pycharm": {
     "name": "#%%\n"
    }
   }
  },
  {
   "cell_type": "markdown",
   "source": [
    "### Plotting"
   ],
   "metadata": {
    "collapsed": false,
    "pycharm": {
     "name": "#%% md\n"
    }
   }
  },
  {
   "cell_type": "code",
   "execution_count": null,
   "outputs": [],
   "source": [
    "# define which data to plot\n",
    "gal_grid = gal_grid_GMS_sim\n",
    "halo_grid = halo_grid_GMS_sim\n",
    "env_grid = env_grid_GMS_sim\n",
    "\n",
    "# define what to plot\n",
    "x_type = 'mstar'\n",
    "y_type = 'SFR'\n",
    "c_type = 'mtot'\n",
    "c_snp = 0\n",
    "# c_snp = -1\n",
    "c_alpha = 0.75\n",
    "which_objects = range(0, len(gal_grid), 1)\n",
    "\n",
    "# grab plotting data\n",
    "x_data = []\n",
    "y_data = []\n",
    "c_data = []\n",
    "label_l = []\n",
    "for i in tqdm(which_objects):\n",
    "    x_data.append([np.log10(gal.data[x_type]) for gal in gal_grid[i][:]])\n",
    "    y_data.append([np.log10(gal.data[y_type]) - 9. for gal in gal_grid[i][:]])\n",
    "    # y_data.append([halo.data[y_type] for halo in halo_grid[i][:]])\n",
    "    # if gal_grid[i][c_snp].data['mgas'] == 0 and halo_grid[i][c_snp].data['mtot'] != 0:\n",
    "    #     _c_data_i = [np.nan]\n",
    "    # else:\n",
    "    #     _c_data_i = [halo_grid[i][c_snp].data['mtot'] / gal_grid[i][c_snp].data['mgas']]\n",
    "    c_data.append([halo_grid[i][c_snp].data[c_type]])\n",
    "    # c_data.append(_c_data_i)\n",
    "    label_l.append(r\"$\\mathrm{M}_\\star$\" + f\"= {gal_grid[i, 0].data['mstar']:.2e} \\t SFR = {gal_grid[i, 0].data['SFR'] / 10 ** 9:.2e}\")\n",
    "\n",
    "\n",
    "# normalise the colour data to make colour the data according to it (e.g. total halo mass mtot)\n",
    "c_data_range = (np.nanmin(c_data), np.nanmax(c_data))\n",
    "cmap = mpl.cm.viridis_r\n",
    "norm = mpl.colors.LogNorm(vmin=c_data_range[0], vmax=c_data_range[1])\n",
    "mapper = mpl.cm.ScalarMappable(norm=norm, cmap=cmap)\n",
    "\n",
    "\n",
    "# initialise plot\n",
    "fig, ax = plt.subplots(figsize=(8, 6), constrained_layout=True)\n",
    "\n",
    "# plot GMS Leslie+2020\n",
    "z_start = env_grid[0, 0].data['z']\n",
    "z_end = env_grid[0, -1].data['z']\n",
    "lbt_start = env_grid[0, 0].data['lookbacktime']\n",
    "lbt_end = env_grid[0, -1].data['lookbacktime']\n",
    "\n",
    "xlin = np.linspace(x_data[0][0], x_data[-1][0], 500)\n",
    "ax.plot(xlin, sgm.GMS_Leslie2020(xlin, z=z_start, log=True), ls='--', marker='', color='xkcd:turquoise',\n",
    "        label=f\"{lbt_start:.2f} Gyr ago (z={z_start:.4f})\")\n",
    "ax.plot(xlin, sgm.GMS_Leslie2020(xlin, z=z_end, log=True), ls=':', marker='', color='xkcd:turquoise',\n",
    "        label=f\"{lbt_end:.2f} Gyr ago (z={z_end:.4f})\")\n",
    "\n",
    "\n",
    "# plot actual values\n",
    "for i, (x, y, c, label) in enumerate(zip(x_data, y_data, c_data, label_l)):\n",
    "    c_mapped = mapper.to_rgba(c)\n",
    "    c_mapped[:, -1] = c_alpha\n",
    "    # ax.plot(x, y, c=c_mapped, label=label)\n",
    "    ax.plot(x, y, c=c_mapped)\n",
    "    ax.plot(x[-1], y[-1], c=c_mapped, marker='o')\n",
    "\n",
    "\n",
    "# # plot one quantity like SFR79\n",
    "# for i, c, label in zip(which_objects, c_data, label_l):\n",
    "#     c_mapped = mapper.to_rgba(c)\n",
    "#     c_mapped[:, -1] = c_alpha\n",
    "#     ax[1].plot(c_data[i], SFR79_grid_xCGsim[i, -1], c=c_mapped, marker='o', label=label)\n",
    "\n",
    "\n",
    "# additional fig and axes config\n",
    "fig.suptitle(f'{y_type} vs {x_type}: comparing {len(which_objects)} simulated galaxies', fontsize=16)\n",
    "\n",
    "\n",
    "ax.set_xlabel(x_type)\n",
    "# ax.set_yscale('log')\n",
    "ax.set_ylabel(y_type)\n",
    "\n",
    "ax.legend(title=\"Leslie+2020 Galaxy Main Sequence:\")\n",
    "\n",
    "ax.text(0.95, 0.05,\n",
    "       f\"Colour-coded by {c_type} at lookbacktime = {env_grid[0, c_snp].data['lookbacktime']:.2f} Gyr\",\n",
    "       transform=ax.transAxes,\n",
    "       va='bottom', ha='right')"
   ],
   "metadata": {
    "collapsed": false,
    "pycharm": {
     "name": "#%%\n"
    }
   }
  },
  {
   "cell_type": "code",
   "execution_count": null,
   "outputs": [],
   "source": [
    "# save plot to disk\n",
    "\n",
    "# GMS_keyword = ''\n",
    "# GMS_keyword = 'p1'\n",
    "GMS_keyword = 'm1'\n",
    "\n",
    "fig.savefig(plot_dir / f\"SFRevolution_GMS{GMS_keyword}_sim_\"\n",
    "                       f\"from_{env_grid[0, c_snp].data['lookbacktime']:.2f}Gyr_\"\n",
    "                       f\"{datetime.now().strftime('%Y.%m.%d-%H.%M.%S')}.png\")"
   ],
   "metadata": {
    "collapsed": false,
    "pycharm": {
     "name": "#%%\n"
    }
   }
  },
  {
   "cell_type": "code",
   "execution_count": null,
   "outputs": [],
   "source": [],
   "metadata": {
    "collapsed": false,
    "pycharm": {
     "name": "#%%\n"
    }
   }
  }
 ],
 "metadata": {
  "kernelspec": {
   "display_name": "Python 3",
   "language": "python",
   "name": "python3"
  },
  "language_info": {
   "codemirror_mode": {
    "name": "ipython",
    "version": 2
   },
   "file_extension": ".py",
   "mimetype": "text/x-python",
   "name": "python",
   "nbconvert_exporter": "python",
   "pygments_lexer": "ipython2",
   "version": "2.7.6"
  }
 },
 "nbformat": 4,
 "nbformat_minor": 0
}