{
 "cells": [
  {
   "cell_type": "markdown",
   "source": [
    "# Quick plotting for SFR79 from Observations and Simulations"
   ],
   "metadata": {
    "collapsed": false
   }
  },
  {
   "cell_type": "markdown",
   "source": [
    "#### <span style='color:blue'> Adapted to also include xCG individual data points in addition to binned-SDSS based grid of values! </span>"
   ],
   "metadata": {
    "collapsed": false,
    "pycharm": {
     "name": "#%% md\n"
    }
   }
  },
  {
   "cell_type": "markdown",
   "source": [
    "### Imports"
   ],
   "metadata": {
    "collapsed": false
   }
  },
  {
   "cell_type": "code",
   "execution_count": null,
   "outputs": [],
   "source": [
    "import numpy as np\n",
    "import pandas as pd\n",
    "\n",
    "from pathlib import Path\n",
    "from datetime import datetime\n",
    "import warnings\n",
    "\n",
    "import matplotlib as mpl\n",
    "import matplotlib.pyplot as plt\n",
    "\n",
    "from tqdm.notebook import tqdm, trange\n",
    "\n",
    "import SiGMo as sgm"
   ],
   "metadata": {
    "collapsed": false,
    "pycharm": {
     "name": "#%%\n"
    }
   }
  },
  {
   "cell_type": "markdown",
   "source": [
    "### Defining Star-forming Galaxy Main Sequence\n",
    "\n",
    "Follows the definiton of Saintonge+2016, Eq. 5. They use SDSS DR7 with 0.01 < z < 0.05."
   ],
   "metadata": {
    "collapsed": false
   }
  },
  {
   "cell_type": "markdown",
   "source": [
    "def GMS_Saintonge2016(logMstar):\n",
    "    '''computes the log10SFR for any given log10Mstar on Galaxy Main Seqence according to Saintonge+2016, Eq.5'''\n",
    "    return ((-2.332) * logMstar + 0.4156 * logMstar**2 - 0.01828 * logMstar**3)"
   ],
   "metadata": {
    "collapsed": false,
    "pycharm": {
     "name": "#%% md\n"
    }
   }
  },
  {
   "cell_type": "markdown",
   "source": [
    "### Helper function: compute SFR79 from SFR\n",
    "\n",
    "Generalised helper function, can be used for SDSS grid-style data and individual data points (in a 1-d grid). Computes the log SFR79 from the \"actual\" simulation SFR averages:\n",
    "\n",
    "$$\\mathrm{SFR79} = \\frac{\\mathrm{SFR}_\\mathrm{5 Myr}}{\\mathrm{SFR}_\\mathrm{800 Myr}}$$"
   ],
   "metadata": {
    "collapsed": false
   }
  },
  {
   "cell_type": "markdown",
   "source": [
    "def compute_SFR79_from_SFR(gal_a):\n",
    "    \"\"\"\n",
    "    Helper function to compute the star-formation change parameter SFR79 directly\n",
    "    from the SFR over time data\n",
    "\n",
    "    :param gal_a: numpy array of SiGMo.Snapshot objects over time. Can have arbitrary\n",
    "    shape, as long as the different Snapshots over time for each object are in the\n",
    "    last dimension\n",
    "    :return: SFR79_a: numpy array with same shape as gal_a except for the last\n",
    "    dimension; the time dimension is replaced by three summary values returned\n",
    "    in the new last dimension:\n",
    "     [0] average SFR over 5 Myr (in units of M_sol);\n",
    "     [1] average SFR over 800 Myr (in units of M_sol);\n",
    "     [2] log SFR 79 (being log10(avrgSFR_5Myr / avrgSFR_800Myr).\n",
    "    Example: if gal_a.shape = (10, 16, 4, 1999), then SFR79.shape = (10, 16, 4, 3)\n",
    "    \"\"\"\n",
    "    SFR79_a = np.empty(shape=(*gal_a.shape[:-1], 3), dtype=object)\n",
    "    SFR79_a_fl = SFR79_a.reshape(-1, *SFR79_a.shape[-1:])\n",
    "    gal_a_fl = gal_a.reshape(-1, *gal_a.shape[-1:])\n",
    "    for i, gal_seq in enumerate(tqdm(gal_a_fl)):\n",
    "        lookbacktime_a = np.array([gal.data[\"lookbacktime\"] for gal in gal_seq])\n",
    "        SFR_a = np.array([gal.data[\"SFR\"] for gal in gal_seq])\n",
    "\n",
    "        # avrg over 5 Myr\n",
    "        SFR7_a = SFR_a[lookbacktime_a <= 0.005]\n",
    "        SFR7_avg = np.sum(SFR7_a) / len(SFR7_a)\n",
    "        SFR79_a_fl[i, 0] = SFR7_avg\n",
    "        # print(SFR79_grid_fl[i, 0])\n",
    "\n",
    "        # avrg over 800 Myr\n",
    "        SFR9_a = SFR_a[lookbacktime_a <= 0.8]\n",
    "        SFR9_avg = np.sum(SFR9_a) / len(SFR9_a)\n",
    "        SFR79_a_fl[i, 1] = SFR9_avg\n",
    "        # print(SFR79_grid_fl[i, 1])\n",
    "\n",
    "        # log10(SFR_5Myr / SFR_800Myr)\n",
    "        SFR79_a_fl[i, 2] = np.log10(SFR7_avg / SFR9_avg)\n",
    "        # print(SFR79_grid_fl[i, 2])\n",
    "\n",
    "    return SFR79_a"
   ],
   "metadata": {
    "collapsed": false,
    "pycharm": {
     "name": "#%% md\n"
    }
   }
  },
  {
   "cell_type": "markdown",
   "source": [
    "### Helper function: read in all data from directory\n",
    "\n",
    "#### Version for *both*: huge numbers of single snapshots *or* one large multi snapshot per timestep\n",
    "single_snapshot(s) = True when making/writing the snaps ➡️ set single_snapshots = True\n",
    "single_snapshot(s) = False when making/writing the snaps ➡️ set single_snapshots = False"
   ],
   "metadata": {
    "collapsed": false
   }
  },
  {
   "cell_type": "raw",
   "source": [
    "def read_all_snapshots_from_dir(\n",
    "        snp_dir,\n",
    "        n_envs=None, n_halos=None, n_gals=None,\n",
    "        single_snapshots=False, n_steps=None,\n",
    "        fn_start = \"snp\",  # string elements to split and recognise file names by\n",
    "        fn_middle_gal = \"Galaxy\",\n",
    "        fn_middle_halo = \"Halo\",\n",
    "        fn_middle_env = \"Environment\",\n",
    "        fn_end = \"\",\n",
    "        fn_separator = \"_\"\n",
    "):\n",
    "    \"\"\"\n",
    "    Reads in all snapshot files from a specified directory\n",
    "\n",
    "    :param snp_dir: Input directory\n",
    "    :param n_envs: Number of Environment objects at any point in time during the simulation (usually: 1)\n",
    "    :param n_halos: Number of Halo objects at any point in time during the simulation\n",
    "    :param n_gals: Number of Galaxy objects at any point in time during the simulation\n",
    "    :param single_snapshots: Is the input individual snapshots for each object and time step (True),\n",
    "        or one per Environment and time step (False; default)\n",
    "    :param n_steps: Number of time steps in the simulation (or simulation output if wtd > 1)\n",
    "    :param fn_start: String element used to identify the beginning of snapshot file names\n",
    "    :param fn_middle_gal: String element used to identify the middle part of Galaxy snapshot file names\n",
    "    :param fn_middle_halo: String element used to identify the middle part of Halo snapshot file names\n",
    "    :param fn_middle_env: String element used to identify the middle part of Environment snapshot file names\n",
    "    :param fn_end: String element used to identify the end part of snapshot files (can be left empty)\n",
    "    :param fn_separator: The separator used to split the full file names in order to analyse/compare them\n",
    "    :return: env_grid, halo_grid, gal_grid: numpy arrays with the snapshots of all Environments,\n",
    "        Halos and Galaxies over all time steps of the simulation. Example with 2000 time steps, one Environment\n",
    "        and 379 Halos in it with one Galaxy each:\n",
    "        env_grid.shape=(1, 2000), halo_grid.shape=(379, 2000), gal_grid.shape=(379, 2000)\n",
    "    \"\"\"\n",
    "    # get all file names\n",
    "    print(f\"Reading all snapshots from directory '{snp_dir}'\")\n",
    "    file_iter = snp_dir.iterdir()\n",
    "    file_list = list(file_iter)\n",
    "    n_files = len(file_list)\n",
    "\n",
    "    # how many timesteps?\n",
    "    if single_snapshots:\n",
    "        # n_steps = 800\n",
    "        # n_steps = 799\n",
    "        if n_steps is None:\n",
    "            raise TypeError(\"'n_steps' has not been set, but is required for 'single_snapshots=True' mode\")\n",
    "    else:\n",
    "        n_steps = n_files\n",
    "\n",
    "    # How many envs, halos, gals if numbers not provided?\n",
    "    # if number of halos and galaxies is not (properly) provided\n",
    "    # WARNING::: this HARDCODES 1 Environment total and same number of Galaxies as Halos (one each)!\n",
    "    n_envs = n_envs if n_envs else 1\n",
    "    if (not n_halos) or (not n_gals):\n",
    "        # find an Environment snapshot file\n",
    "        _tmp_filepath = None\n",
    "        for _tmp_filepath in file_list:\n",
    "            if _tmp_filepath.resolve().name.split(fn_separator)[1] == fn_middle_env:\n",
    "                _tmp_snp = sgm.Snapshot.load_from_disk(_tmp_filepath)\n",
    "                break\n",
    "        # set number of Halos\n",
    "        if not n_halos:\n",
    "            # catch the case where the above didn't find an Environment snapshot file\n",
    "            try:\n",
    "                n_halos = len(_tmp_snp.data[\"halos\"])\n",
    "            except AttributeError:\n",
    "                print(f\"'n_halos' could not be set, because no Snapshot file with \"\n",
    "                      f\"'{fn_middle_env}' in it/in the right place could be found \"\n",
    "                      f\"in directory '{snp_dir}'\")\n",
    "        # set number of Galaxies\n",
    "        if not n_gals:\n",
    "            n_gals = n_halos\n",
    "\n",
    "    # make arrays here already\n",
    "    env_grid = np.empty(shape=(n_envs, n_steps), dtype=object)\n",
    "    halo_grid = np.empty(shape=(n_halos, n_steps), dtype=object)\n",
    "    gal_grid = np.empty(shape=(n_gals, n_steps), dtype=object)\n",
    "\n",
    "    # loop trough the files in the arbitrary order that they got in the iterator file_iter\n",
    "    for file in tqdm(file_list, total=n_files):\n",
    "        fn = file.name\n",
    "\n",
    "        # check that fn is regular snapshot of time evolution, not other file (e.g. \"final\" snapshot etc)\n",
    "        if fn.startswith(fn_start):\n",
    "            # split the file name (not the whole path)\n",
    "            fn_split = fn.split(fn_separator)\n",
    "\n",
    "            # assign the different elements from file name to different counters (time and object/param combination)\n",
    "            t = int(fn_split[0][len(fn_start):])\n",
    "            i = int(fn_split[2]) if len(fn_split) == 4 else 0\n",
    "            snp_type = fn_split[1]\n",
    "\n",
    "            # make full file path with directories\n",
    "            full_file_path = file.resolve()\n",
    "\n",
    "            # differentiate between Galaxy, Halo and Environment files\n",
    "            if snp_type == fn_middle_env:\n",
    "                env_grid[..., t].flat[i] = sgm.Snapshot.load_from_disk(full_file_path)\n",
    "            elif snp_type == fn_middle_halo:\n",
    "                if single_snapshots:\n",
    "                    halo_grid[..., t].flat[i] = sgm.Snapshot.load_from_disk(full_file_path)\n",
    "                else:\n",
    "                    warnings.warn(f\"The type '{snp_type}' of snapshot '{file}' is not yet supported for multi_snapshot \"\n",
    "                                  f\"read in!\\nSnapshot was not read in.\")\n",
    "            elif snp_type == fn_middle_gal:\n",
    "                if single_snapshots:\n",
    "                    gal_grid[..., t].flat[i] = sgm.Snapshot.load_from_disk(full_file_path)\n",
    "                else:\n",
    "                    warnings.warn(f\"The type '{snp_type}' of snapshot '{file}' is not yet supported for multi_snapshot \"\n",
    "                                  f\"read in!\\nSnapshot was not read in.\")\n",
    "            else:\n",
    "                warnings.warn(\n",
    "                    f\"The type '{snp_type}' of snapshot '{file}' was not recognised! Snapshot was not read in.\")\n",
    "\n",
    "    return env_grid, halo_grid, gal_grid"
   ],
   "metadata": {
    "collapsed": false,
    "pycharm": {
     "name": "#%% raw\n"
    }
   }
  },
  {
   "cell_type": "markdown",
   "source": [
    "### Define directories"
   ],
   "metadata": {
    "collapsed": false
   }
  },
  {
   "cell_type": "code",
   "source": [
    "project_dir = Path.cwd().parent\n",
    "sfr79_dir = project_dir / 'data' / \"SFR79_grids\"\n",
    "# snp_dir = project_dir / 'outputs' / '_tmp' / \"2022.03.08-17.52.38\" / \"0_forward_800Myr_1e-4\"  # forwards at higher than standard time res\n",
    "# snp_dir = project_dir / 'outputs' / '_tmp' / \"2022.03.08-17.52.38\" / \"1_backward_800Myr_1e-4\"  # backwards at higher than standard time res\n",
    "# snp_dir_SDSSsim = project_dir / 'outputs' / '_tmp' / \"2022.03.10-21.01.29\" / \"0_backward_2Gyr_1e-3\"\n",
    "\n",
    "\n",
    "# SDSS-based simulations\n",
    "# 2 Gyr backwards runs (new, June 22)\n",
    "\n",
    "# off-MS sMIR scaling basefactor: 0\n",
    "snp_dir_SDSSsim = project_dir / 'outputs' / '_tmp' / \"2022.06.22-11.41.56\" / \"0_backward_2Gyr_dt1e-3_sMIR_scaling_basefactor0.0\"\n",
    "# # off-MS sMIR scaling basefactor: 2\n",
    "# snp_dir_SDSSsim = project_dir / 'outputs' / '_tmp' / \"2022.06.22-19.32.36\" / \"0_backward_2Gyr_dt1e-3_sMIR_scaling_basefactor2.0\"\n",
    "# # off-MS sMIR scaling basefactor: 4\n",
    "# snp_dir_SDSSsim = project_dir / 'outputs' / '_tmp' / \"2022.06.22-20.52.43\" / \"0_backward_2Gyr_dt1e-3_sMIR_scaling_basefactor4.0\"\n",
    "# # off-MS sMIR scaling basefactor: 6\n",
    "# snp_dir_SDSSsim = project_dir / 'outputs' / '_tmp' / \"2022.06.22-21.32.20\" / \"0_backward_2Gyr_dt1e-3_sMIR_scaling_basefactor6.0\"\n",
    "# # off-MS sMIR scaling basefactor: 8\n",
    "# snp_dir_SDSSsim = project_dir / 'outputs' / '_tmp' / \"2022.06.22-22.08.31\" / \"0_backward_2Gyr_dt1e-3_sMIR_scaling_basefactor8.0\"\n",
    "# # off-MS sMIR scaling basefactor: 10\n",
    "# snp_dir_SDSSsim = project_dir / 'outputs' / '_tmp' / \"2022.06.22-22.40.42\" / \"0_backward_2Gyr_dt1e-3_sMIR_scaling_basefactor10.0\"\n",
    "\n",
    "\n",
    "# snp_dir_xCGsim = project_dir / 'outputs' / '_tmp' / \"2022.03.22-20.00.02\" / \"0_backward_2Gyr_dt1e-4_wtd10\"   # longer backwards at old standard time res\n",
    "# snp_dir_xCGsim = project_dir / 'outputs' / '_tmp' / \"2022.03.24-11.43.40\" / \"0_backward_2Gyr_dt1e-3\"   # longer backwards at old standard time res\n",
    "\n",
    "\n",
    "# xCOLD GASS-based simulations\n",
    "# 2 Gyr backwards runs (new, June 22)\n",
    "\n",
    "# off-MS sMIR scaling basefactor: 0\n",
    "snp_dir_xCGsim = project_dir / 'outputs' / '_tmp' / \"2022.06.22-14.13.10\" / \"0_backward_2Gyr_dt1e-3_sMIR_scaling_basefactor0.0\"\n",
    "# # off-MS sMIR scaling basefactor: 2\n",
    "# snp_dir_xCGsim = project_dir / 'outputs' / '_tmp' / \"2022.06.22-19.53.41\" / \"0_backward_2Gyr_dt1e-3_sMIR_scaling_basefactor2.0\"\n",
    "# # off-MS sMIR scaling basefactor: 4\n",
    "# snp_dir_xCGsim = project_dir / 'outputs' / '_tmp' / \"2022.06.22-21.02.00\" / \"0_backward_2Gyr_dt1e-3_sMIR_scaling_basefactor4.0\"\n",
    "# # off-MS sMIR scaling basefactor: 6\n",
    "# snp_dir_xCGsim = project_dir / 'outputs' / '_tmp' / \"2022.06.22-21.41.37\" / \"0_backward_2Gyr_dt1e-3_sMIR_scaling_basefactor6.0\"\n",
    "# # off-MS sMIR scaling basefactor: 8\n",
    "# snp_dir_xCGsim = project_dir / 'outputs' / '_tmp' / \"2022.06.22-22.19.06\" / \"0_backward_2Gyr_dt1e-3_sMIR_scaling_basefactor8.0\"\n",
    "# # off-MS sMIR scaling basefactor: 10\n",
    "# snp_dir_xCGsim = project_dir / 'outputs' / '_tmp' / \"2022.06.22-22.55.02\" / \"0_backward_2Gyr_dt1e-3_sMIR_scaling_basefactor10.0\"\n",
    "\n",
    "\n",
    "# ATTENTION! plotting directory is based on the xCG directory parent name/name here!\n",
    "plot_dir = project_dir / 'plots' / '_tmp' / snp_dir_xCGsim.parent.name / snp_dir_xCGsim.name   # plot dir has now same datetime name as output dir\n",
    "plot_dir.mkdir(exist_ok=True, parents=True)   # create plot dir only if necessary"
   ],
   "metadata": {
    "collapsed": false,
    "pycharm": {
     "name": "#%%\n"
    }
   },
   "execution_count": null,
   "outputs": []
  },
  {
   "cell_type": "markdown",
   "source": [
    "### Read-in: Observational Data (SDSS and xCG)"
   ],
   "metadata": {
    "collapsed": false
   }
  },
  {
   "cell_type": "code",
   "execution_count": null,
   "outputs": [],
   "source": [
    "# reading observational results\n",
    "\n",
    "# SDSS\n",
    "sfr79_medians = np.loadtxt(str(sfr79_dir / \"SFR79_2dhist_medians.txt\"))\n",
    "mstar_mesh =  np.loadtxt(str(sfr79_dir / \"SFR79_2dhist_binedges_mstar_mesh.txt\"))\n",
    "sfr_mesh = np.loadtxt(str(sfr79_dir / \"SFR79_2dhist_binedges_sfr_mesh.txt\"))\n",
    "n_binned = np.loadtxt(str(sfr79_dir / \"SFR79_2dhist_binnumbers.txt\"))\n",
    "\n",
    "# removing low-number bins (if wanted, as before when setting up the simulation)\n",
    "# if not wanted: comment the next two lines out!\n",
    "n_binned_min = 40\n",
    "sfr79_medians = np.where(n_binned >= n_binned_min, sfr79_medians, np.nan)\n",
    "\n",
    "# xCG\n",
    "xCG_df = pd.read_csv(sfr79_dir / \"xCOLD_GASS_with_SDSS_SFR79_df.csv\")\n",
    "xCG_minimal_selector = ((xCG_df.LOGMSTAR > -900) & (xCG_df.LOGSFR_BEST > -900) & (xCG_df.LOGMH2 > - 900))\n",
    "xCG_gasdetect_selector = (xCG_df.FLAG_CO == 1)\n",
    "xCG_sfr79 = np.squeeze(xCG_df.loc[xCG_minimal_selector & xCG_gasdetect_selector, \"SFR79values\"].to_numpy())"
   ],
   "metadata": {
    "collapsed": false,
    "pycharm": {
     "name": "#%%\n"
    }
   }
  },
  {
   "cell_type": "markdown",
   "source": [
    "### Read in SDSS-based grid-like simulation data (that was created using binned SDSS data as ICs)"
   ],
   "metadata": {
    "collapsed": false
   }
  },
  {
   "cell_type": "code",
   "execution_count": null,
   "outputs": [],
   "source": [
    "# setting the snapshot type flag! False -> from one big Env snap; True -> from many indiv. snaps\n",
    "single_snapshots = False"
   ],
   "metadata": {
    "collapsed": false,
    "pycharm": {
     "name": "#%%\n"
    }
   }
  },
  {
   "cell_type": "code",
   "execution_count": null,
   "outputs": [],
   "source": [
    "# how many objects per timestep?\n",
    "n_envs = 1\n",
    "# assuming same mstar-sfr pairs in the sims as in the obs\n",
    "n_halos = len(sfr79_medians.flat) - len(sfr79_medians[np.where(np.isnan(sfr79_medians))].flat)\n",
    "n_gals = n_halos\n",
    "\n",
    "# reading simulation results (SDSS)\n",
    "env_grid_SDSSsim, halo_grid_SDSSsim, gal_grid_SDSSsim = sgm.read_all_snapshots_from_dir(snp_dir=snp_dir_SDSSsim,\n",
    "                                                                                        n_envs=n_envs,\n",
    "                                                                                        n_halos=n_halos,\n",
    "                                                                                        n_gals=n_gals,\n",
    "                                                                                        single_snapshots=single_snapshots)"
   ],
   "metadata": {
    "collapsed": false,
    "pycharm": {
     "name": "#%%\n"
    }
   }
  },
  {
   "cell_type": "code",
   "execution_count": null,
   "outputs": [],
   "source": [
    "# re-create/populate halo_grid and galaxy_grid (for FIRST Environment only) if necessary\n",
    "if not single_snapshots:\n",
    "    for t, env_snp in enumerate(tqdm(env_grid_SDSSsim[0])):  # HARDCODED to 1st Environment only!\n",
    "        for i_halo, halo in enumerate(env_snp.data['halos']):\n",
    "            halo_grid_SDSSsim[i_halo, t] = sgm.Snapshot(halo)\n",
    "            for i_gal, gal in enumerate(halo['galaxies']):\n",
    "                gal_grid_SDSSsim[i_halo, t] = sgm.Snapshot(gal)  # HARDCODED to 1 Galaxy per Halo!!"
   ],
   "metadata": {
    "collapsed": false,
    "pycharm": {
     "name": "#%%\n"
    }
   }
  },
  {
   "cell_type": "markdown",
   "source": [
    "### SDSS-based sims: calculate SFR79 from SFRs\n",
    "\n",
    "Compute the log SFR79 from the \"actual\" simulation SFR averages:\n",
    "\n",
    "$$\\mathrm{SFR79} = \\frac{\\mathrm{SFR}_\\mathrm{5 Myr}}{\\mathrm{SFR}_\\mathrm{800 Myr}}$$"
   ],
   "metadata": {
    "collapsed": false
   }
  },
  {
   "cell_type": "code",
   "execution_count": null,
   "outputs": [],
   "source": [
    "SFR79_grid_SDSSsim = sgm.compute_SFR79_from_SFR(gal_grid_SDSSsim)\n",
    "\n",
    "print(\"SFR79_grid_SDSSsim:\\n\", SFR79_grid_SDSSsim)"
   ],
   "metadata": {
    "collapsed": false,
    "pycharm": {
     "name": "#%%\n"
    }
   }
  },
  {
   "cell_type": "markdown",
   "source": [
    "### Read in xCOLD GASS-based simulation data (that was created using individual xCG detections as ICs)"
   ],
   "metadata": {
    "collapsed": false
   }
  },
  {
   "cell_type": "code",
   "execution_count": null,
   "outputs": [],
   "source": [
    "# setting the snapshot type flag! False -> from one big Env snap; True -> from many indiv. snaps\n",
    "single_snapshots = False"
   ],
   "metadata": {
    "collapsed": false,
    "pycharm": {
     "name": "#%%# setting the snapshot type flag! False -> from one big Env snap; True -> from many indiv. snaps\n"
    }
   }
  },
  {
   "cell_type": "code",
   "execution_count": null,
   "outputs": [],
   "source": [
    "# how many objects per timestep?\n",
    "n_envs = 1\n",
    "# this is \"unknown\" unless looked up someplace else, but if 'None' will be determined from some Environment snapshot\n",
    "n_halos = None\n",
    "n_gals = None\n",
    "\n",
    "# reading simulation results (SDSS)\n",
    "env_grid_xCGsim, halo_grid_xCGsim, gal_grid_xCGsim = sgm.read_all_snapshots_from_dir(snp_dir=snp_dir_xCGsim,\n",
    "                                                                                        n_envs=n_envs,\n",
    "                                                                                        n_halos=n_halos,\n",
    "                                                                                        n_gals=n_gals,\n",
    "                                                                                        single_snapshots=single_snapshots)"
   ],
   "metadata": {
    "collapsed": false,
    "pycharm": {
     "name": "#%%\n"
    }
   }
  },
  {
   "cell_type": "code",
   "execution_count": null,
   "outputs": [],
   "source": [
    "# re-create/populate halo_grid and galaxy_grid (for FIRST Environment only) if necessary\n",
    "if not single_snapshots:\n",
    "    for t, env_snp in enumerate(tqdm(env_grid_xCGsim[0])):  # HARDCODED to 1st Environment only!\n",
    "        for i_halo, halo in enumerate(env_snp.data['halos']):\n",
    "            halo_grid_xCGsim[i_halo, t] = sgm.Snapshot(halo)\n",
    "            for i_gal, gal in enumerate(halo['galaxies']):\n",
    "                gal_grid_xCGsim[i_halo, t] = sgm.Snapshot(gal)  # HARDCODED to 1 Galaxy per Halo!!"
   ],
   "metadata": {
    "collapsed": false,
    "pycharm": {
     "name": "#%%\n"
    }
   }
  },
  {
   "cell_type": "markdown",
   "source": [
    "### xCOLD GASS-based sims: calculate SFR79 from SFRs\n",
    "\n",
    "Compute the log SFR79 from the \"actual\" simulation SFR averages:\n",
    "\n",
    "$$\\mathrm{SFR79} = \\frac{\\mathrm{SFR}_\\mathrm{5 Myr}}{\\mathrm{SFR}_\\mathrm{800 Myr}}$$"
   ],
   "metadata": {
    "collapsed": false,
    "pycharm": {
     "name": "#%% md\n"
    }
   }
  },
  {
   "cell_type": "code",
   "source": [
    "SFR79_grid_xCGsim = sgm.compute_SFR79_from_SFR(gal_grid_xCGsim)\n",
    "\n",
    "print(\"SFR79_grid_xCGsim:\\n\", SFR79_grid_xCGsim)"
   ],
   "metadata": {
    "collapsed": false,
    "pycharm": {
     "name": "#%%SFR79_grid = compute_SFR79_from_SFR(gal_grid)\n"
    }
   },
   "execution_count": null,
   "outputs": []
  },
  {
   "cell_type": "markdown",
   "source": [
    "### **SFR79 from observations vs from simulations**"
   ],
   "metadata": {
    "collapsed": false
   }
  },
  {
   "cell_type": "code",
   "execution_count": null,
   "outputs": [],
   "source": [
    "# sort simulation results into an array of same shape as observational results\n",
    "mstar_lower = 10**mstar_mesh[:-1, :-1]\n",
    "mstar_upper = 10**mstar_mesh[1:, 1:]\n",
    "sfr_lower = 10**(sfr_mesh[:-1, :-1]) * 10**9  # multiply by 10**9 because of 'pre yr' to 'per Gyr' conversion\n",
    "sfr_upper = 10**(sfr_mesh[1:, 1:]) * 10**9  # multiply by 10**9 because of 'pre yr' to 'per Gyr' conversion\n",
    "\n",
    "sfr79_SDSSsim_grid = np.full_like(sfr79_medians, np.nan)\n",
    "# for (sfr79, gal) in zip(SFR79_grid[:, -1], gal_grid[:, -1]):  # special setting if you want the shape at the end\n",
    "for (sfr79, gal) in zip(SFR79_grid_SDSSsim[:, -1], gal_grid_SDSSsim[:, 0]):  # regular setting when you want the shape from the start\n",
    "    w_mstar_lower = mstar_lower < gal.data['mstar']\n",
    "    w_mstar_upper = mstar_upper > gal.data['mstar']\n",
    "    w_sfr_lower = sfr_lower < gal.data['SFR']\n",
    "    w_sfr_upper = sfr_upper > gal.data['SFR']\n",
    "\n",
    "    w_mstar = w_mstar_lower & w_mstar_upper\n",
    "    w_sfr = w_sfr_lower & w_sfr_upper\n",
    "\n",
    "    w = w_mstar & w_sfr\n",
    "\n",
    "    sfr79_SDSSsim_grid[w] = sfr79"
   ],
   "metadata": {
    "collapsed": false,
    "pycharm": {
     "name": "#%%\n"
    }
   }
  },
  {
   "cell_type": "code",
   "execution_count": null,
   "outputs": [],
   "source": [
    "# print some statistics (also displayed in plot)\n",
    "print(\"min log SFR79 from sims\", np.nanmin(sfr79_SDSSsim_grid))\n",
    "print(\"max log SFR79 from sims\", np.nanmax(sfr79_SDSSsim_grid))"
   ],
   "metadata": {
    "collapsed": false,
    "pycharm": {
     "name": "#%%\n"
    }
   }
  },
  {
   "cell_type": "code",
   "execution_count": null,
   "outputs": [],
   "source": [
    "# colormap/norm etc. for scatter plot itself\n",
    "sfr79_range = (-2, 2)\n",
    "cmap = mpl.cm.RdBu\n",
    "norm = mpl.colors.Normalize(vmin=sfr79_range[0], vmax=sfr79_range[1])\n",
    "mapper = mpl.cm.ScalarMappable(norm=norm, cmap=cmap)\n",
    "\n",
    "# set up figure and axes\n",
    "fig, (ax_obs, ax_sims, ax_cbar) = plt.subplots(1, 3,\n",
    "                                               gridspec_kw={\n",
    "                                                   'width_ratios': (9, 9, 1),\n",
    "                                                   'hspace': 0.05\n",
    "                                               },\n",
    "                                               figsize=(21, 9))\n",
    "\n",
    "# plot observational data\n",
    "im_obs = ax_obs.pcolormesh(mstar_mesh, sfr_mesh,\n",
    "                           sfr79_medians,\n",
    "                           cmap=cmap, norm=norm)\n",
    "\n",
    "# plot simulation data\n",
    "im_sims = ax_sims.pcolormesh(mstar_mesh, sfr_mesh,\n",
    "                             sfr79_SDSSsim_grid,\n",
    "                             cmap=cmap, norm=norm)\n",
    "\n",
    "# plot colorbar\n",
    "fig.colorbar(mpl.cm.ScalarMappable(norm=norm, cmap=cmap),\n",
    "             ax=ax_cbar,\n",
    "             fraction=0.8,\n",
    "             extend='both',\n",
    "             anchor=(0.0, 0.0),\n",
    "             label='log SFR79')\n",
    "\n",
    "# adding the Galaxy Main Sequence on top (Saintonge+2016, Eq. 5)\n",
    "GMS_x = np.linspace(start=np.min(mstar_mesh),\n",
    "                    stop=np.max(mstar_mesh),\n",
    "                    num=1000,\n",
    "                    endpoint=True)\n",
    "for ax in [ax_obs, ax_sims]:\n",
    "    ax.plot(GMS_x, sgm.GMS_Saintonge2016(GMS_x),\n",
    "            color='xkcd:magenta', ls=':')\n",
    "\n",
    "# remove unnecessary axes\n",
    "ax_cbar.remove()\n",
    "\n",
    "# figure labelling etc\n",
    "for ax in [ax_obs, ax_sims]:\n",
    "    ax.set_xlabel(r'log $M_\\star$ [$M_\\odot$]')\n",
    "    ax.set_ylabel(r'log SFR [$M_\\odot \\, yr^{-1}$]')\n",
    "ax_sims.text(0.95, 0.05,\n",
    "             f\"min(log SFR79) = {np.nanmin(sfr79_SDSSsim_grid):.3f}\\n\"\n",
    "             f\"max(log SFR79) = {np.nanmax(sfr79_SDSSsim_grid):.3f}\",\n",
    "             transform=ax_sims.transAxes,\n",
    "             va='bottom', ha='right')"
   ],
   "metadata": {
    "collapsed": false,
    "pycharm": {
     "name": "#%%\n"
    }
   }
  },
  {
   "cell_type": "code",
   "execution_count": null,
   "outputs": [],
   "source": [
    "# add xCG observational and simulation SFR79\n",
    "\n",
    "# first: check that SFR79 arrays from sim and obs are SAME LENGTH!\n",
    "assert len(xCG_sfr79) == len(SFR79_grid_xCGsim[:, -1])\n",
    "\n",
    "# define which data to plot\n",
    "gal_grid = gal_grid_xCGsim\n",
    "halo_grid = halo_grid_xCGsim\n",
    "env_grid = env_grid_xCGsim\n",
    "\n",
    "# which snp is to be used for mstar-SFR values (aka position on the plot)?\n",
    "which_snp = 0  # intial mstar, SFR\n",
    "\n",
    "which_objects = range(0, len(gal_grid), 1)\n",
    "x_data = []\n",
    "y_data = []\n",
    "c_data_obs = []\n",
    "c_data_sim = []\n",
    "c_colours_obs = []\n",
    "c_colours_sim = []\n",
    "for i in tqdm(which_objects):\n",
    "    x_data.append([np.log10(gal_grid[i, which_snp].data['mstar'])])\n",
    "    y_data.append([np.log10(gal_grid[i, which_snp].data['SFR']) - 9.])  # -9. is for conversion from /Gyr to /yr\n",
    "    c_data_obs.append(xCG_sfr79[i])\n",
    "    c_data_sim.append(SFR79_grid_xCGsim[i, -1])\n",
    "    c_colours_obs.append(mapper.to_rgba(xCG_sfr79[i]))\n",
    "    c_colours_sim.append(mapper.to_rgba(SFR79_grid_xCGsim[i, -1]))\n",
    "\n",
    "# plotting the xCG obs data points\n",
    "ax_obs.scatter(x=x_data, y=y_data, c=c_colours_obs, cmap=cmap, norm=norm, edgecolors='xkcd:light grey')\n",
    "\n",
    "# plotting the xCG sim data points\n",
    "ax_sims.scatter(x=x_data, y=y_data, c=c_colours_sim, cmap=cmap, norm=norm, edgecolors='xkcd:light grey')"
   ],
   "metadata": {
    "collapsed": false,
    "pycharm": {
     "name": "#%%\n"
    }
   }
  },
  {
   "cell_type": "code",
   "execution_count": null,
   "outputs": [],
   "source": [
    "# save heat-map plot to disk\n",
    "fig.savefig(plot_dir / f'SFR79_obs_vs_sims_{datetime.now().strftime(\"%Y.%m.%d-%H.%M.%S\")}.png')"
   ],
   "metadata": {
    "collapsed": false,
    "pycharm": {
     "name": "#%%\n"
    }
   }
  },
  {
   "cell_type": "markdown",
   "source": [
    "### SDSS binned obs SFR79 with individual xCOLD GASS sims"
   ],
   "metadata": {
    "collapsed": false,
    "pycharm": {
     "name": "#%% md\n"
    }
   }
  },
  {
   "cell_type": "code",
   "execution_count": null,
   "outputs": [],
   "source": [
    "# colormap/norm etc. for scatter plot itself\n",
    "sfr79_range = (-2, 2)\n",
    "cmap = mpl.cm.RdBu\n",
    "norm = mpl.colors.Normalize(vmin=sfr79_range[0], vmax=sfr79_range[1])\n",
    "mapper = mpl.cm.ScalarMappable(norm=norm, cmap=cmap)\n",
    "\n",
    "# set up figure and axes\n",
    "fig, (ax_obs, ax_cbar) = plt.subplots(\n",
    "    1, 2,\n",
    "    gridspec_kw={\n",
    "       # 'width_ratios': (18, 1),\n",
    "       'width_ratios': (18, 1.2),\n",
    "       'hspace': 0.05\n",
    "    },\n",
    "    # figsize=(11, 9),\n",
    "    # figsize=(7.5, 4.5),\n",
    "    figsize=(7.2, 5.5),\n",
    "    # tight_layout=True\n",
    "    constrained_layout=True\n",
    ")\n",
    "\n",
    "# plot observational data\n",
    "im_obs = ax_obs.pcolormesh(\n",
    "    mstar_mesh, sfr_mesh,\n",
    "    sfr79_medians,\n",
    "    cmap=cmap,\n",
    "    norm=norm,\n",
    "    label=\"observational SFR79: SDSS\",\n",
    ")\n",
    "\n",
    "\n",
    "# plot colorbar\n",
    "fig.colorbar(mpl.cm.ScalarMappable(norm=norm, cmap=cmap),\n",
    "             cax=ax_cbar,\n",
    "             fraction=0.8,\n",
    "             extend='both',\n",
    "             # anchor=(0.0, 0.0),\n",
    "             label='log SFR79')\n",
    "\n",
    "# adding the Galaxy Main Sequence on top (Saintonge+2016, Eq. 5) <-- changed that to Saintonge+2022\n",
    "GMS_x = np.linspace(start=np.min(mstar_mesh),\n",
    "                    stop=np.max(mstar_mesh),\n",
    "                    num=1000,\n",
    "                    endpoint=True)\n",
    "for ax in [ax_obs]:\n",
    "    handle_GMS = ax.plot(GMS_x, sgm.GMS_Saintonge2022(GMS_x, log=True),\n",
    "            color='xkcd:magenta', ls='--', label=\"GMS: Saintonge & Catinella (2022)\")\n",
    "\n",
    "# remove unnecessary axes\n",
    "# ax_cbar.remove()\n",
    "\n",
    "# figure labelling etc\n",
    "for ax in [ax_obs]:\n",
    "    ax.set_xlabel(r'log $M_\\star$ [$M_\\odot$]')\n",
    "    ax.set_ylabel(r'log SFR [$M_\\odot \\, yr^{-1}$]')\n",
    "    # ax.set(xlim=(6.5, 12), ylim=(-4.5, 3.5))\n",
    "    # ax.set(xlim=(7, 12), ylim=(-2.5, 2))\n",
    "    ax.set(xlim=(8.45, 11.6), ylim=(-2.3, 1.8))\n",
    "    ax.tick_params(axis='both', which='both', direction='in', bottom=True, top=True, left=True, right=True)\n",
    "\n",
    "# ax_obs.text(0.95, 0.05,\n",
    "#              f\"min(log SFR79) = {np.nanmin(sfr79_SDSSsim_grid):.3f}\\n\"\n",
    "#              f\"max(log SFR79) = {np.nanmax(sfr79_SDSSsim_grid):.3f}\",\n",
    "#              transform=ax_obs.transAxes,\n",
    "#              va='bottom', ha='right')\n",
    "\n",
    "\n",
    "\n",
    "\n",
    "\n",
    "# add xCG observational and simulation SFR79\n",
    "\n",
    "# first: check that SFR79 arrays from sim and obs are SAME LENGTH!\n",
    "assert len(xCG_sfr79) == len(SFR79_grid_xCGsim[:, -1])\n",
    "\n",
    "# define which data to plot\n",
    "gal_grid = gal_grid_xCGsim\n",
    "halo_grid = halo_grid_xCGsim\n",
    "env_grid = env_grid_xCGsim\n",
    "\n",
    "# which snp is to be used for mstar-SFR values (aka position on the plot)?\n",
    "which_snp = 0  # intial mstar, SFR\n",
    "\n",
    "which_objects = range(0, len(gal_grid), 1)\n",
    "x_data = []\n",
    "y_data = []\n",
    "c_data_obs = []\n",
    "c_data_sim = []\n",
    "c_colours_obs = []\n",
    "c_colours_sim = []\n",
    "for i in tqdm(which_objects):\n",
    "    x_data.append([np.log10(gal_grid[i, which_snp].data['mstar'])])\n",
    "    y_data.append([np.log10(gal_grid[i, which_snp].data['SFR']) - 9.])  # -9. is for conversion from /Gyr to /yr\n",
    "    c_data_obs.append(xCG_sfr79[i])\n",
    "    c_data_sim.append(SFR79_grid_xCGsim[i, -1])\n",
    "    c_colours_obs.append(mapper.to_rgba(xCG_sfr79[i]))\n",
    "    c_colours_sim.append(mapper.to_rgba(SFR79_grid_xCGsim[i, -1]))\n",
    "\n",
    "# plotting the xCG sim data points\n",
    "handle_scatter = ax_obs.scatter(\n",
    "    x=x_data,\n",
    "    y=y_data,\n",
    "    s=(mpl.rcParams['lines.markersize']*2)**2,\n",
    "    c=c_colours_sim,\n",
    "    cmap=cmap,\n",
    "    norm=norm,\n",
    "    edgecolors='xkcd:light grey',\n",
    "    label=\"simulated SFR79: xCOLD GASS\",\n",
    ")\n",
    "\n",
    "\n",
    "# make the legend markers for scatter plot\n",
    "handle_scatter_custom = (\n",
    "    # mpl.lines.Line2D([0], [0], color=cmap(0.1), ls='', marker='o', markeredgecolor=handle_scatter._edgecolors[0], markersize=np.sqrt(handle_scatter._sizes[0])),\n",
    "    mpl.lines.Line2D([0], [0], color=cmap(.75), ls='', marker='o', markeredgecolor=handle_scatter._edgecolors[0], markersize=np.sqrt(handle_scatter._sizes[0])),\n",
    "    mpl.lines.Line2D([0], [0], color=cmap(.5), ls='', marker='o', markeredgecolor=handle_scatter._edgecolors[0], markersize=np.sqrt(handle_scatter._sizes[0])),\n",
    "    mpl.lines.Line2D([0], [0], color=cmap(.25), ls='', marker='o', markeredgecolor=handle_scatter._edgecolors[0], markersize=np.sqrt(handle_scatter._sizes[0])),\n",
    "    # mpl.lines.Line2D([0], [0], color=cmap(0.9), ls='', marker='o', markeredgecolor=handle_scatter._edgecolors[0], markersize=np.sqrt(handle_scatter._sizes[0])),\n",
    ")\n",
    "\n",
    "handle_pcolormesh_custom =(\n",
    "    # mpl.patches.Patch(facecolor=cmap(0.25)),\n",
    "    # mpl.lines.Line2D([0], [0], color=cmap(.75), ls='', marker='s', markersize=0.9*np.sqrt(handle_scatter._sizes[0])),\n",
    "    mpl.lines.Line2D([0], [0], color=cmap(.65), ls='', marker='s', markersize=np.sqrt(handle_scatter._sizes[0])),\n",
    "    # mpl.lines.Line2D([0], [0], color=cmap(.5), ls='', marker='s', markersize=0.9*np.sqrt(handle_scatter._sizes[0])),\n",
    "    mpl.lines.Line2D([0], [0], color=cmap(.45), ls='', marker='s', markersize=np.sqrt(handle_scatter._sizes[0])),\n",
    "    # mpl.lines.Line2D([0], [0], color=cmap(.25), ls='', marker='s', markersize=0.9*np.sqrt(handle_scatter._sizes[0])),\n",
    "    # mpl.lines.Line2D([0], [0], color=cmap(.7), ls='', marker='s', markersize=1.25*np.sqrt(handle_scatter._sizes[0])),\n",
    ")\n",
    "\n",
    "handle_GMS_custom = (\n",
    "    mpl.lines.Line2D([0], [0], color=handle_GMS[0]._color, linestyle=handle_GMS[0]._linestyle)\n",
    ")\n",
    "\n",
    "\n",
    "ax_obs.legend(\n",
    "    [handle_pcolormesh_custom, handle_scatter_custom, handle_GMS_custom],\n",
    "    [(im_obs._label), (handle_scatter._label), (handle_GMS[0]._label)],\n",
    "    handler_map={tuple: mpl.legend_handler.HandlerTuple(ndivide=None)},\n",
    "    # loc='upper left',\n",
    "    loc='lower right',\n",
    "    # handlelength=1,\n",
    "    # handleheight=1,\n",
    "    framealpha=0.87,\n",
    ")"
   ],
   "metadata": {
    "collapsed": false,
    "pycharm": {
     "name": "#%%\n"
    }
   }
  },
  {
   "cell_type": "code",
   "execution_count": null,
   "outputs": [],
   "source": [
    "# save heat-map plot to disk\n",
    "fig.savefig(plot_dir / f'SFR79_SDSSobs_vs_xCGsims_{datetime.now().strftime(\"%Y.%m.%d-%H.%M.%S\")}.png', dpi=300)"
   ],
   "metadata": {
    "collapsed": false,
    "pycharm": {
     "name": "#%%\n"
    }
   }
  },
  {
   "cell_type": "markdown",
   "source": [
    "### **select galaxies/halos: plot quantities and differences for individual param combinations over time**"
   ],
   "metadata": {
    "collapsed": false
   }
  },
  {
   "cell_type": "code",
   "execution_count": null,
   "outputs": [],
   "source": [
    "# define which data to plot\n",
    "gal_grid = gal_grid_xCGsim\n",
    "\n",
    "# define what to plot\n",
    "x_type = 'lookbacktime'\n",
    "y_type = 'SFR'\n",
    "# which_objects = [0, 100, 200, 300, 400, 500, 600, 700, 800]\n",
    "# which_objects = [0, 50, 100, 150, 200, 250, 300]\n",
    "which_objects = [0, 50, 100, 150, 200, 250, -1]\n",
    "\n",
    "# grab plotting data\n",
    "x_data = []\n",
    "y_data = []\n",
    "label_l = []\n",
    "for i in tqdm(which_objects):\n",
    "    x_data.append([gal.data[x_type] for gal in gal_grid[i][:]])\n",
    "    y_data.append([gal.data[y_type] for gal in gal_grid[i][:]])\n",
    "    # y_data.append([halo.data[y_type] for halo in halo_grid[i][:]])\n",
    "    label_l.append(r\"$\\mathrm{M}_\\star$\" + f\"= {gal_grid[i, 0].data['mstar']:.2e} \\t SFR = {gal_grid[i, 0].data['SFR'] / 10 ** 9:.2e}\")\n",
    "\n",
    "# initialise plot\n",
    "fig, ax = plt.subplots(nrows=2, figsize=(9, 9), constrained_layout=True)\n",
    "\n",
    "# plot actual values\n",
    "for i, (x, y, label) in enumerate(zip(x_data, y_data, label_l)):\n",
    "    ax[0].plot(x, y, label=label)\n",
    "\n",
    "\n",
    "# plot one quantity like SFR79\n",
    "for i, label in zip(which_objects, label_l):\n",
    "    ax[1].plot(i, SFR79_grid_xCGsim[i, -1], 'o', label=label)\n",
    "\n",
    "# additional fig and axes config\n",
    "fig.suptitle(f'{y_type}: comparing {len(which_objects)} simulated galaxies', fontsize=16)\n",
    "\n",
    "ax[0].invert_xaxis()\n",
    "ax[0].set_xlabel(x_type)\n",
    "ax[0].set_yscale('log')\n",
    "ax[0].set_ylabel(y_type)\n",
    "\n",
    "ax[1].set_xlabel('simulation number (arb. index)')\n",
    "ax[1].set_ylabel(f'log SFR79')\n",
    "\n",
    "ax[1].legend()\n",
    "\n",
    "# save to disk\n",
    "fig.savefig(plot_dir / f'comparing_{y_type}_of_{len(which_objects)}_simulated_galaxies'\n",
    "                       f'_{datetime.now().strftime(\"%Y.%m.%d-%H.%M.%S\")}.png')"
   ],
   "metadata": {
    "collapsed": false,
    "pycharm": {
     "name": "#%%\n"
    }
   }
  },
  {
   "cell_type": "markdown",
   "source": [
    "### **all galaxies/halos: plot quantities and differences for individual param combinations over time**"
   ],
   "metadata": {
    "collapsed": false
   }
  },
  {
   "cell_type": "code",
   "execution_count": null,
   "outputs": [],
   "source": [
    "# define which data to plot\n",
    "gal_grid = gal_grid_xCGsim\n",
    "halo_grid = halo_grid_xCGsim\n",
    "env_grid = env_grid_xCGsim\n",
    "\n",
    "# # define which data to plot\n",
    "# gal_grid = gal_grid_SDSSsim\n",
    "# halo_grid = halo_grid_SDSSsim\n",
    "# env_grid = env_grid_SDSSsim\n",
    "\n",
    "# define what to plot\n",
    "x_type = 'lookbacktime'\n",
    "y_type = 'SFR'\n",
    "# c_type = 'mtot'\n",
    "# c_type = 'mtot_over_mstar'\n",
    "c_type = 'mtot_over_mgas'\n",
    "c_snp = 0\n",
    "# c_snp = -1\n",
    "c_alpha = 0.25\n",
    "which_objects = range(0, len(gal_grid), 1)\n",
    "\n",
    "# grab plotting data\n",
    "x_data = []\n",
    "y_data = []\n",
    "c_data = []\n",
    "label_l = []\n",
    "for i in tqdm(which_objects):\n",
    "    x_data.append([gal.data[x_type] for gal in gal_grid[i][:]])\n",
    "    y_data.append([gal.data[y_type] for gal in gal_grid[i][:]])\n",
    "    # y_data.append([halo.data[y_type] for halo in halo_grid[i][:]])\n",
    "    if gal_grid[i][c_snp].data['mgas'] == 0 and halo_grid[i][c_snp].data['mtot'] != 0:\n",
    "        _c_data_i = [np.nan]\n",
    "    else:\n",
    "        _c_data_i = [halo_grid[i][c_snp].data['mtot'] / gal_grid[i][c_snp].data['mgas']]\n",
    "    # c_data.append([halo_grid[i][c_snp].data[c_type]])\n",
    "    c_data.append(_c_data_i)\n",
    "    label_l.append(r\"$\\mathrm{M}_\\star$\" + f\"= {gal_grid[i, 0].data['mstar']:.2e} \\t SFR = {gal_grid[i, 0].data['SFR'] / 10 ** 9:.2e}\")\n",
    "\n",
    "\n",
    "# normalise the colour data to make colour the data according to it (e.g. total halo mass mtot)\n",
    "c_data_range = (np.nanmin(c_data), np.nanmax(c_data))\n",
    "cmap = mpl.cm.viridis_r\n",
    "norm = mpl.colors.LogNorm(vmin=c_data_range[0], vmax=c_data_range[1])\n",
    "mapper = mpl.cm.ScalarMappable(norm=norm, cmap=cmap)\n",
    "\n",
    "\n",
    "# initialise plot\n",
    "fig, ax = plt.subplots(nrows=2, figsize=(9, 9), constrained_layout=True)\n",
    "\n",
    "# plot actual values\n",
    "for i, (x, y, c, label) in enumerate(zip(x_data, y_data, c_data, label_l)):\n",
    "    c_mapped = mapper.to_rgba(c)\n",
    "    c_mapped[:, -1] = c_alpha\n",
    "    ax[0].plot(x, y, c=c_mapped, label=label)\n",
    "\n",
    "\n",
    "# plot one quantity like SFR79\n",
    "for i, c, label in zip(which_objects, c_data, label_l):\n",
    "    c_mapped = mapper.to_rgba(c)\n",
    "    c_mapped[:, -1] = c_alpha\n",
    "    ax[1].plot(c_data[i], SFR79_grid_xCGsim[i, -1], c=c_mapped, marker='o', label=label)\n",
    "\n",
    "\n",
    "# additional fig and axes config\n",
    "fig.suptitle(f'{y_type}: comparing {len(which_objects)} simulated galaxies', fontsize=16)\n",
    "\n",
    "\n",
    "ax[0].invert_xaxis()\n",
    "ax[0].set_xlabel(x_type)\n",
    "ax[0].set_yscale('log')\n",
    "ax[0].set_ylabel(y_type)\n",
    "\n",
    "ax[1].set_xscale('log')\n",
    "ax[1].set_xlabel(c_type)\n",
    "ax[1].set_ylabel(f'log SFR79')\n",
    "ax[1].text(0.95, 0.05,\n",
    "           f\"{c_type} at lookbacktime = {env_grid[0, c_snp].data['lookbacktime']:.3f}\",\n",
    "           transform=ax[1].transAxes,\n",
    "           va='bottom', ha='right')\n"
   ],
   "metadata": {
    "collapsed": false,
    "pycharm": {
     "name": "#%%\n"
    }
   }
  },
  {
   "cell_type": "code",
   "execution_count": null,
   "outputs": [],
   "source": [
    "# save to disk\n",
    "fig.savefig(plot_dir / f'comparing_{y_type}_of_{len(which_objects)}_simulated_galaxies'\n",
    "                       f'_{datetime.now().strftime(\"%Y.%m.%d-%H.%M.%S\")}.png')"
   ],
   "metadata": {
    "collapsed": false,
    "pycharm": {
     "name": "#%%\n"
    }
   }
  },
  {
   "cell_type": "markdown",
   "source": [
    "### Residuals between xCG SFR79 from observations and from simulations"
   ],
   "metadata": {
    "collapsed": false
   }
  },
  {
   "cell_type": "code",
   "execution_count": null,
   "outputs": [],
   "source": [
    "xCG_df"
   ],
   "metadata": {
    "collapsed": false,
    "pycharm": {
     "name": "#%%\n"
    }
   }
  },
  {
   "cell_type": "code",
   "execution_count": null,
   "outputs": [],
   "source": [
    "x_data_a = np.array(x_data)\n",
    "y_data_a = np.array(y_data)\n",
    "c_data_obs_a = np.array(c_data_obs)\n",
    "c_data_sim_a = np.array(c_data_sim)\n",
    "\n",
    "xCG_gas_mass_fraction = np.squeeze(xCG_df.loc[xCG_minimal_selector & xCG_gasdetect_selector, \"gas_mass_fraction\"].to_numpy())\n",
    "xCG_SFRexcessGMS = np.squeeze(xCG_df.loc[xCG_minimal_selector & xCG_gasdetect_selector, \"SFRexcessGMS\"].to_numpy())\n",
    "xCG_median_SFR79_in_bin = np.squeeze(xCG_df.loc[xCG_minimal_selector & xCG_gasdetect_selector, \"median_SFR79_in_bin\"].to_numpy())\n"
   ],
   "metadata": {
    "collapsed": false,
    "pycharm": {
     "name": "#%%\n"
    }
   }
  },
  {
   "cell_type": "code",
   "execution_count": null,
   "outputs": [],
   "source": [
    "fig, ax = plt.subplots(2, 1, figsize=(12, 12), constrained_layout=True)\n",
    "\n",
    "c_data_plot_a = c_data_obs_a - c_data_sim_a\n",
    "\n",
    "cmap = mpl.cm.viridis\n",
    "norm = mpl.colors.Normalize(vmin=min(xCG_SFRexcessGMS), vmax=max(xCG_SFRexcessGMS))\n",
    "mapper = mpl.cm.ScalarMappable(norm=norm, cmap=cmap)\n",
    "ax[0].scatter(xCG_gas_mass_fraction, c_data_plot_a, c=xCG_SFRexcessGMS, cmap=cmap, norm=norm, marker='o', s=50)\n",
    "ax[0].set_xlabel(\"Gas Mass Fraction $\\log(M_\\mathrm{H2} \\; / \\; M_{\\star})$\")\n",
    "fig.colorbar(mapper, ax=ax[0], label=r\"Δ SFR [dex] above/below GMS\")\n",
    "# poly fit\n",
    "exp_fit = np.polyfit(x=xCG_gas_mass_fraction, y=c_data_plot_a, deg=1)\n",
    "p = np.poly1d(exp_fit)\n",
    "x_lin = np.linspace(min(xCG_gas_mass_fraction), max(xCG_gas_mass_fraction), 1000)\n",
    "ax[0].plot(x_lin, p(x_lin), zorder=-10, c='xkcd:grey', ls='--')\n",
    "\n",
    "cmap = mpl.cm.magma\n",
    "norm = mpl.colors.Normalize(vmin=min(xCG_gas_mass_fraction), vmax=max(xCG_gas_mass_fraction))\n",
    "mapper = mpl.cm.ScalarMappable(norm=norm, cmap=cmap)\n",
    "ax[1].scatter(xCG_SFRexcessGMS, c_data_plot_a, c=xCG_gas_mass_fraction, cmap=mpl.cm.magma, marker='o', s=50)\n",
    "ax[1].set_xlabel(r\"Δ SFR [dex] above/below GMS\")\n",
    "fig.colorbar(mapper, ax=ax[1], label=\"Gas Mass Fraction $\\log(M_\\mathrm{H2} \\; / \\; M_{\\star})$\")\n",
    "# poly fit\n",
    "exp_fit = np.polyfit(x=xCG_SFRexcessGMS, y=c_data_plot_a, deg=1)\n",
    "p = np.poly1d(exp_fit)\n",
    "x_lin = np.linspace(min(xCG_SFRexcessGMS), max(xCG_SFRexcessGMS), 1000)\n",
    "ax[1].plot(x_lin, p(x_lin), zorder=-10, c='xkcd:grey', ls='--')\n",
    "\n",
    "ylim_vals = (None, 2.6)\n",
    "for ax_i in ax:\n",
    "    ax_i.set_ylabel(r'log(SFR79$_\\mathrm{obs}$) - log(SFR79$_\\mathrm{sim}$)')\n",
    "    ax_i.set_ylim(*ylim_vals)\n",
    "    out_of_plot = 0\n",
    "    out_of_plot_up = 0\n",
    "    out_of_plot_down = 0\n",
    "    if not ylim_vals[0] is None:\n",
    "        if np.any(c_data_plot_a < ylim_vals[0]):\n",
    "            out_of_plot_down = np.sum(c_data_plot_a < ylim_vals[0])\n",
    "            out_of_plot += out_of_plot_down\n",
    "    if not ylim_vals[1] is None:\n",
    "        if np.any(c_data_plot_a > ylim_vals[1]):\n",
    "            out_of_plot_up = np.sum(c_data_plot_a > ylim_vals[1])\n",
    "            out_of_plot += out_of_plot_up\n",
    "    ax_i.text(0.03, 0.94,\n",
    "              (f\"data points out of plot: {out_of_plot} ({out_of_plot_up}\" +\n",
    "               r'$\\uparrow$ + ' + f\"{out_of_plot_down}\" + r'$\\downarrow$)'),\n",
    "              transform=ax_i.transAxes,\n",
    "              va='top', ha='left')"
   ],
   "metadata": {
    "collapsed": false,
    "pycharm": {
     "name": "#%%\n"
    }
   }
  },
  {
   "cell_type": "code",
   "execution_count": null,
   "outputs": [],
   "source": [
    "# save residuals plot to disk\n",
    "fig.savefig(plot_dir / f'residuals_SFR79_obs_vs_sims_{datetime.now().strftime(\"%Y.%m.%d-%H.%M.%S\")}.png')"
   ],
   "metadata": {
    "collapsed": false,
    "pycharm": {
     "name": "#%%\n"
    }
   }
  },
  {
   "cell_type": "code",
   "execution_count": null,
   "outputs": [],
   "source": [
    "fig, ax = plt.subplots(figsize=(12, 9), constrained_layout=True)\n",
    "\n",
    "sfr79_range = (-2, 2)\n",
    "cmap = mpl.cm.RdBu\n",
    "norm = mpl.colors.Normalize(vmin=sfr79_range[0], vmax=sfr79_range[1])\n",
    "mapper = mpl.cm.ScalarMappable(norm=norm, cmap=cmap)\n",
    "\n",
    "ax.scatter(xCG_gas_mass_fraction, xCG_SFRexcessGMS, c=c_data_obs_a, cmap=cmap, norm=norm, marker='o', edgecolor='xkcd:grey', s=50)\n",
    "fig.colorbar(mapper, ax=ax, label=r\"log SFR79 (obs)\", extend='both')\n",
    "# ax.set_facecolor('xkcd:grey')\n",
    "\n",
    "# poly fit\n",
    "exp_fit = np.polyfit(x=xCG_gas_mass_fraction, y=xCG_SFRexcessGMS, deg=1)\n",
    "p = np.poly1d(exp_fit)\n",
    "x_lin = np.linspace(min(xCG_gas_mass_fraction), max(xCG_gas_mass_fraction), 1000)\n",
    "ax.plot(x_lin, p(x_lin), zorder=-10, c='xkcd:grey', ls='--')\n",
    "\n",
    "# formatting to figure\n",
    "ax.set_xlabel(\"Gas Mass Fraction $\\log(M_\\mathrm{H2} \\; / \\; M_{\\star})$\")\n",
    "ax.set_ylabel(r\"Δ SFR [dex] above/below GMS\")"
   ],
   "metadata": {
    "collapsed": false,
    "pycharm": {
     "name": "#%%\n"
    }
   }
  },
  {
   "cell_type": "code",
   "execution_count": null,
   "outputs": [],
   "source": [
    "# save residuals plot to disk\n",
    "fig.savefig(plot_dir / f'correlation_gasmassfrac_to_deltaSFR_cc_SFR79obs_{datetime.now().strftime(\"%Y.%m.%d-%H.%M.%S\")}.png')"
   ],
   "metadata": {
    "collapsed": false,
    "pycharm": {
     "name": "#%%\n"
    }
   }
  },
  {
   "cell_type": "code",
   "execution_count": null,
   "outputs": [],
   "source": [],
   "metadata": {
    "collapsed": false,
    "pycharm": {
     "name": "#%%\n"
    }
   }
  }
 ],
 "metadata": {
  "kernelspec": {
   "display_name": "Python 3",
   "language": "python",
   "name": "python3"
  },
  "language_info": {
   "codemirror_mode": {
    "name": "ipython",
    "version": 2
   },
   "file_extension": ".py",
   "mimetype": "text/x-python",
   "name": "python",
   "nbconvert_exporter": "python",
   "pygments_lexer": "ipython2",
   "version": "2.7.6"
  }
 },
 "nbformat": 4,
 "nbformat_minor": 0
}