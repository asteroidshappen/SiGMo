{
 "cells": [
  {
   "cell_type": "markdown",
   "metadata": {
    "collapsed": true,
    "pycharm": {
     "name": "#%% md\n"
    }
   },
   "source": [
    "# Quick plotting for SFR79 from Observations and Simulations"
   ]
  },
  {
   "cell_type": "markdown",
   "source": [
    "### Imports"
   ],
   "metadata": {
    "collapsed": false
   }
  },
  {
   "cell_type": "code",
   "execution_count": null,
   "outputs": [],
   "source": [
    "import numpy as np\n",
    "\n",
    "from pathlib import Path\n",
    "from datetime import datetime\n",
    "import warnings\n",
    "\n",
    "import matplotlib as mpl\n",
    "import matplotlib.pyplot as plt\n",
    "\n",
    "from tqdm.notebook import tqdm, trange\n",
    "\n",
    "import SiGMo as sgm"
   ],
   "metadata": {
    "collapsed": false,
    "pycharm": {
     "name": "#%%\n"
    }
   }
  },
  {
   "cell_type": "markdown",
   "source": [
    "### Defining Star-forming Galaxy Main Sequence\n",
    "\n",
    "Follows the definiton of Saintonge+2016, Eq. 5. They use SDSS DR7 with 0.01 < z < 0.05."
   ],
   "metadata": {
    "collapsed": false
   }
  },
  {
   "cell_type": "code",
   "execution_count": null,
   "outputs": [],
   "source": [
    "def GMS_Saintonge2016(logMstar):\n",
    "    '''computes the log10SFR for any given log10Mstar on Galaxy Main Seqence according to Saintonge+2016, Eq.5'''\n",
    "    return ((-2.332) * logMstar + 0.4156 * logMstar**2 - 0.01828 * logMstar**3)"
   ],
   "metadata": {
    "collapsed": false,
    "pycharm": {
     "name": "#%%\n"
    }
   }
  },
  {
   "cell_type": "markdown",
   "source": [
    "### Read-in"
   ],
   "metadata": {
    "collapsed": false
   }
  },
  {
   "cell_type": "code",
   "execution_count": null,
   "outputs": [],
   "source": [
    "project_dir = Path.cwd().parent\n",
    "sfr79_dir = project_dir / 'data' / \"SFR79_grids\"\n",
    "# snp_dir = project_dir / 'outputs' / '_tmp' / \"2022.02.01-12.44.47\"   # sim with mgas == SFR (also initially)\n",
    "# snp_dir = project_dir / 'outputs' / '_tmp' / \"2022.02.04-01.48.44\"   # sim with mgas from sSFR (initially)\n",
    "# snp_dir = project_dir / 'outputs' / '_tmp' / \"backward\"   # vintage mode simulation with full grid and mgas == SFR (also initially)\n",
    "# snp_dir = project_dir / 'outputs' / '_tmp' / \"2022.02.08-08.50.16\"   # sim with MLF=0.05, and mgas from sSFR (initially)\n",
    "# snp_dir = project_dir / 'outputs' / '_tmp' / \"2022.02.08-10.25.14\"   # sim with MLF=0.2, and mgas from sSFR (initially)\n",
    "# snp_dir = project_dir / 'outputs' / '_tmp' / \"2022.02.08-16.18.04\"   # sim with MLF=0.2, and mgas from sSFR (initially)\n",
    "# snp_dir = project_dir / 'outputs' / '_tmp' / \"2022.02.08-19.07.38\"   # sim with MLF=0.2, and mgas from sSFR (initially)\n",
    "# snp_dir = project_dir / 'outputs' / '_tmp' / \"2022.02.14-14.54.07\"   # sim with MLF=0.2, and mgas from sSFR (initially)\n",
    "# snp_dir = project_dir / 'outputs' / '_tmp' / \"2022.02.15-12.00.38\"   # sim with MLF=0.2, and mgas from sSFR (initially)\n",
    "# snp_dir = project_dir / 'outputs' / '_tmp' / \"2022.02.16-19.44.57\"   # sim with MLF=0.2, and mgas from sSFR (initially)\n",
    "# snp_dir = project_dir / 'outputs' / '_tmp' / \"2022.02.17-12.22.07\" / \"0_forward_800Myr\"   # sim with MLF=0.2, and mgas from sSFR (initially)\n",
    "# snp_dir = project_dir / 'outputs' / '_tmp' / \"2022.02.17-12.22.07\" / \"1_backward_800Myr\"   # sim with MLF=0.2, and mgas from sSFR (initially)\n",
    "# snp_dir = project_dir / 'outputs' / '_tmp' / \"2022.02.17-20.51.25\" / \"0_forward_800Myr\"   # sim with MLF=0.2, and mgas from sSFR (initially)\n",
    "# snp_dir = project_dir / 'outputs' / '_tmp' / \"2022.02.17-20.51.25\" / \"1_backward_800Myr\"   # sim with MLF=0.2, and mgas from sSFR (initially)\n",
    "# snp_dir = project_dir / 'outputs' / '_tmp' / \"2022.03.02-14.55.48\" / \"0_forward_800Myr\"   # sim with MLF=0.2, and mgas from sSFR (initially)\n",
    "# snp_dir = project_dir / 'outputs' / '_tmp' / \"2022.03.02-14.55.48\" / \"1_backward_800Myr\"   # sim with MLF=0.2, and mgas from sSFR (initially)\n",
    "# snp_dir = project_dir / 'outputs' / '_tmp' / \"2022.03.08-17.52.38\" / \"0_forward_800Myr_1e-4\"   # sim with MLF=0.2, and mgas from sSFR (initially)\n",
    "# snp_dir = project_dir / 'outputs' / '_tmp' / \"2022.03.08-17.52.38\" / \"1_backward_800Myr_1e-4\"   # sim with MLF=0.2, and mgas from sSFR (initially)\n",
    "snp_dir = project_dir / 'outputs' / '_tmp' / \"2022.03.10-21.01.29\" / \"0_backward_2Gyr_1e-3\"   # sim with MLF=0.2, and mgas from sSFR (initially)\n",
    "# plot_dir = project_dir / 'plots' / '_tmp' / snp_dir.name   # plot dir has now same datetime name as output dir\n",
    "plot_dir = project_dir / 'plots' / '_tmp' / snp_dir.parent.name / snp_dir.name   # plot dir has now same datetime name as output dir\n",
    "plot_dir.mkdir(exist_ok=True, parents=True)   # create plot dir only if necessary\n",
    "\n",
    "\n",
    "# reading observational results\n",
    "sfr79_medians = np.loadtxt(str(sfr79_dir / \"SFR79_2dhist_medians.txt\"))\n",
    "mstar_mesh =  np.loadtxt(str(sfr79_dir / \"SFR79_2dhist_binedges_mstar_mesh.txt\"))\n",
    "sfr_mesh = np.loadtxt(str(sfr79_dir / \"SFR79_2dhist_binedges_sfr_mesh.txt\"))\n",
    "n_binned = np.loadtxt(str(sfr79_dir / \"SFR79_2dhist_binnumbers.txt\"))\n",
    "\n",
    "# removing low-number bins (if wanted, as before when setting up the simulation)\n",
    "# if not wanted: comment the next two lines out!\n",
    "n_binned_min = 40\n",
    "sfr79_medians = np.where(n_binned >= n_binned_min, sfr79_medians, np.nan)"
   ],
   "metadata": {
    "collapsed": false,
    "pycharm": {
     "name": "#%%\n"
    }
   }
  },
  {
   "cell_type": "markdown",
   "source": [
    "#### Version for huge numbers of single snapshots per timestep\n",
    "➡️ single_snapshot(s) = True when making/writing the snapshots"
   ],
   "metadata": {
    "collapsed": false,
    "pycharm": {
     "name": "#%% md\n"
    }
   }
  },
  {
   "cell_type": "raw",
   "source": [
    "\n",
    "# reading simulation results\n",
    "\n",
    "# how many timesteps?\n",
    "n_snaps = 799\n",
    "# n_snaps = 800\n",
    "\n",
    "# how many objects per timestep?\n",
    "n_envs = 1\n",
    "n_halos = len(sfr79_medians.flat) - len(sfr79_medians[np.where(np.isnan(sfr79_medians))].flat)  # assuming same mstar-sfr pairs in the sims as in the obs\n",
    "# n_halos = 347\n",
    "# n_halos = 856\n",
    "# n_halos = 1600\n",
    "n_gals = n_halos\n",
    "\n",
    "# make arrays here already\n",
    "env_grid = np.empty(shape=(n_envs, n_snaps), dtype=object)\n",
    "halo_grid = np.empty(shape=(n_halos, n_snaps), dtype=object)\n",
    "gal_grid = np.empty(shape=(n_gals, n_snaps), dtype=object)\n",
    "\n",
    "# string elements to split and recognise file names\n",
    "fn_start = \"snp\"\n",
    "fn_middle_gal = \"Galaxy\"\n",
    "fn_middle_halo = \"Halo\"\n",
    "fn_middle_env = \"Environment\"\n",
    "fn_end = \"\"\n",
    "fn_separator = \"_\"\n",
    "\n",
    "# get all file names\n",
    "file_iter = snp_dir.iterdir()\n",
    "\n",
    "# loop trough the files in the arbitrary order that they got in the iterator file_iter\n",
    "for file in tqdm(file_iter, total=(n_envs + n_halos + n_gals) * n_snaps):\n",
    "    fn = file.name\n",
    "\n",
    "    # check that fn is regular snapshot of time evolution, not other file (e.g. \"final\" snapshot etc)\n",
    "    if fn.startswith(fn_start):\n",
    "        # split the file name (not the whole path)\n",
    "        fn_split = fn.split(fn_separator)\n",
    "\n",
    "        # assign the different elements from file name to different counters (time and object/param combination)\n",
    "        t = int(fn_split[0][len(fn_start):])\n",
    "        i = int(fn_split[2]) if len(fn_split) == 4 else 0\n",
    "        snp_type = fn_split[1]\n",
    "\n",
    "        # make full file path with directories\n",
    "        full_file_path = file.resolve()\n",
    "\n",
    "        # differentiate between Galaxy, Halo and Environment files\n",
    "        if snp_type == fn_middle_env:\n",
    "            env_grid[...,t].flat[i] = sgm.Snapshot.load_from_disk(full_file_path)\n",
    "        elif snp_type == fn_middle_halo:\n",
    "            halo_grid[...,t].flat[i] = sgm.Snapshot.load_from_disk(full_file_path)\n",
    "        elif snp_type == fn_middle_gal:\n",
    "            gal_grid[...,t].flat[i] = sgm.Snapshot.load_from_disk(full_file_path)\n",
    "        else:\n",
    "            warnings.warn(f\"The type '{snp_type}' of snapshot '{file}' was not recognised! Snapshot was not read in.\")\n"
   ],
   "metadata": {
    "collapsed": false,
    "pycharm": {
     "name": "#%% raw\n"
    }
   }
  },
  {
   "cell_type": "markdown",
   "source": [
    "#### Version for one large multi snapshot per timestep\n",
    "➡️ single_snapshot(s) = False when making/writing the snapshots"
   ],
   "metadata": {
    "collapsed": false
   }
  },
  {
   "cell_type": "raw",
   "source": [
    "\n",
    "# reading simulation results\n",
    "\n",
    "# how many timesteps?\n",
    "n_snaps = 799\n",
    "# n_snaps = 800\n",
    "\n",
    "# how many objects per timestep?\n",
    "n_envs = 1\n",
    "n_halos = len(sfr79_medians.flat) - len(sfr79_medians[np.where(np.isnan(sfr79_medians))].flat)  # assuming same mstar-sfr pairs in the sims as in the obs\n",
    "n_gals = n_halos\n",
    "\n",
    "# make arrays here already\n",
    "env_grid = np.empty(shape=(n_envs, n_snaps), dtype=object)\n",
    "halo_grid = np.empty(shape=(n_halos, n_snaps), dtype=object)\n",
    "gal_grid = np.empty(shape=(n_gals, n_snaps), dtype=object)\n",
    "\n",
    "# string elements to split and recognise file names\n",
    "fn_start = \"snp\"\n",
    "fn_middle_env = \"Environment\"\n",
    "fn_end = \"\"\n",
    "fn_separator = \"_\"\n",
    "\n",
    "# get all file names\n",
    "file_iter = snp_dir.iterdir()\n",
    "\n",
    "# loop trough the files in the arbitrary order that they got in the iterator file_iter\n",
    "for file in tqdm(file_iter, total=n_envs * n_snaps):\n",
    "    fn = file.name\n",
    "\n",
    "    # check that fn is regular snapshot of time evolution, not other file (e.g. \"final\" snapshot etc)\n",
    "    if fn.startswith(fn_start):\n",
    "        # split the file name (not the whole path)\n",
    "        fn_split = fn.split(fn_separator)\n",
    "\n",
    "        # assign the different elements from file name to different counters (time and object/param combination)\n",
    "        t = int(fn_split[0][len(fn_start):])\n",
    "        i = int(fn_split[2]) if len(fn_split) == 4 else 0\n",
    "        snp_type = fn_split[1]\n",
    "\n",
    "        # make full file path with directories\n",
    "        full_file_path = file.resolve()\n",
    "\n",
    "        # differentiate between Galaxy, Halo and Environment files\n",
    "        if snp_type == fn_middle_env:\n",
    "            env_grid[...,t].flat[i] = sgm.Snapshot.load_from_disk(full_file_path)\n",
    "        elif snp_type == fn_middle_halo:\n",
    "            # halo_grid[...,t].flat[i] = sgm.Snapshot.load_from_disk(full_file_path)\n",
    "            warnings.warn(f\"The type '{snp_type}' of snapshot '{file}' is not yet supported for multi_snapshot read \"\n",
    "                          f\"in!\\nSnapshot was not read in.\")\n",
    "        elif snp_type == fn_middle_gal:\n",
    "            # gal_grid[...,t].flat[i] = sgm.Snapshot.load_from_disk(full_file_path)\n",
    "            warnings.warn(f\"The type '{snp_type}' of snapshot '{file}' is not yet supported for multi_snapshot read \"\n",
    "                          f\"in!\\nSnapshot was not read in.\")\n",
    "        else:\n",
    "            warnings.warn(f\"The type '{snp_type}' of snapshot '{file}' was not recognised! Snapshot was not read in.\")\n"
   ],
   "metadata": {
    "collapsed": false,
    "pycharm": {
     "name": "#%% raw\n"
    }
   }
  },
  {
   "cell_type": "raw",
   "source": [
    "\n",
    "# re-create/populate halo_grid and galaxy_grid (for first Environment only)\n",
    "for t, env_snp in enumerate(env_grid[0]):\n",
    "    for i_halo, halo in enumerate(env_snp.data['halos']):\n",
    "        halo_grid[i_halo, t] = sgm.Snapshot(halo)\n",
    "        for i_gal, gal in enumerate(halo['galaxies']):\n",
    "            gal_grid[i_gal, t] = sgm.Snapshot(gal)\n"
   ],
   "metadata": {
    "collapsed": false,
    "pycharm": {
     "name": "#%% raw\n"
    }
   }
  },
  {
   "cell_type": "markdown",
   "source": [
    "#### Version for *both*: huge numbers of single snapshots *or* one large multi snapshot per timestep\n",
    "single_snapshot(s) = True when making/writing the snaps ➡️ set single_snapshots = True\n",
    "single_snapshot(s) = False when making/writing the snaps ➡️ set single_snapshots = False"
   ],
   "metadata": {
    "collapsed": false
   }
  },
  {
   "cell_type": "code",
   "execution_count": null,
   "outputs": [],
   "source": [
    "# setting the snapshot type flag! False -> from one big Env snap; True -> from many indiv. snaps\n",
    "single_snapshots = False\n",
    "\n",
    "# reading simulation results\n",
    "\n",
    "# get all file names\n",
    "file_iter = snp_dir.iterdir()\n",
    "file_list = list(file_iter)\n",
    "n_files = len(file_list)\n",
    "\n",
    "# how many timesteps?\n",
    "if single_snapshots:\n",
    "    # n_steps = 800\n",
    "    n_steps = 799\n",
    "else:\n",
    "    n_steps = n_files\n",
    "\n",
    "# how many objects per timestep?\n",
    "n_envs = 1\n",
    "n_halos = len(sfr79_medians.flat) - len(sfr79_medians[np.where(np.isnan(sfr79_medians))].flat)  # assuming same mstar-sfr pairs in the sims as in the obs\n",
    "n_gals = n_halos\n",
    "\n",
    "# make arrays here already\n",
    "env_grid = np.empty(shape=(n_envs, n_steps), dtype=object)\n",
    "halo_grid = np.empty(shape=(n_halos, n_steps), dtype=object)\n",
    "gal_grid = np.empty(shape=(n_gals, n_steps), dtype=object)\n",
    "\n",
    "# string elements to split and recognise file names\n",
    "fn_start = \"snp\"\n",
    "fn_middle_gal = \"Galaxy\"\n",
    "fn_middle_halo = \"Halo\"\n",
    "fn_middle_env = \"Environment\"\n",
    "fn_end = \"\"\n",
    "fn_separator = \"_\"\n",
    "\n",
    "# # get all file names  (I do this earlier now, with len(list(file_iter))\n",
    "# file_iter = snp_dir.iterdir()\n",
    "# n_files = n_envs * n_steps if not single_snapshots else (n_envs + n_halos + n_gals) * n_steps  #hardcoded to Environment\n",
    "\n",
    "# loop trough the files in the arbitrary order that they got in the iterator file_iter\n",
    "# for file in tqdm(file_iter, total=(n_envs + n_halos + n_gals) * n_steps):\n",
    "for file in tqdm(file_list, total=n_files):\n",
    "    fn = file.name\n",
    "\n",
    "    # check that fn is regular snapshot of time evolution, not other file (e.g. \"final\" snapshot etc)\n",
    "    if fn.startswith(fn_start):\n",
    "        # split the file name (not the whole path)\n",
    "        fn_split = fn.split(fn_separator)\n",
    "\n",
    "        # assign the different elements from file name to different counters (time and object/param combination)\n",
    "        t = int(fn_split[0][len(fn_start):])\n",
    "        i = int(fn_split[2]) if len(fn_split) == 4 else 0\n",
    "        snp_type = fn_split[1]\n",
    "\n",
    "        # make full file path with directories\n",
    "        full_file_path = file.resolve()\n",
    "\n",
    "        # differentiate between Galaxy, Halo and Environment files\n",
    "        if snp_type == fn_middle_env:\n",
    "            env_grid[...,t].flat[i] = sgm.Snapshot.load_from_disk(full_file_path)\n",
    "        elif snp_type == fn_middle_halo:\n",
    "            if single_snapshots:\n",
    "                halo_grid[...,t].flat[i] = sgm.Snapshot.load_from_disk(full_file_path)\n",
    "            else:\n",
    "                warnings.warn(f\"The type '{snp_type}' of snapshot '{file}' is not yet supported for multi_snapshot \"\n",
    "                              f\"read in!\\nSnapshot was not read in.\")\n",
    "        elif snp_type == fn_middle_gal:\n",
    "            if single_snapshots:\n",
    "                gal_grid[...,t].flat[i] = sgm.Snapshot.load_from_disk(full_file_path)\n",
    "            else:\n",
    "                warnings.warn(f\"The type '{snp_type}' of snapshot '{file}' is not yet supported for multi_snapshot \"\n",
    "                              f\"read in!\\nSnapshot was not read in.\")\n",
    "        else:\n",
    "            warnings.warn(f\"The type '{snp_type}' of snapshot '{file}' was not recognised! Snapshot was not read in.\")"
   ],
   "metadata": {
    "collapsed": false,
    "pycharm": {
     "name": "#%%\n"
    }
   }
  },
  {
   "cell_type": "code",
   "execution_count": null,
   "outputs": [],
   "source": [
    "# re-create/populate halo_grid and galaxy_grid (for FIRST Environment only) if necessary\n",
    "if not single_snapshots:\n",
    "    for t, env_snp in enumerate(tqdm(env_grid[0])):  # HARDCODED to 1st Environment only!\n",
    "        for i_halo, halo in enumerate(env_snp.data['halos']):\n",
    "            halo_grid[i_halo, t] = sgm.Snapshot(halo)\n",
    "            for i_gal, gal in enumerate(halo['galaxies']):\n",
    "                gal_grid[i_halo, t] = sgm.Snapshot(gal)  # HARDCODED to 1 Galaxy per Halo!!"
   ],
   "metadata": {
    "collapsed": false,
    "pycharm": {
     "name": "#%%\n"
    }
   }
  },
  {
   "cell_type": "raw",
   "source": [
    "#debug\n",
    "\n",
    "print(len(env_grid[0, 0].data['halos']))\n",
    "print(gal_grid.shape)\n"
   ],
   "metadata": {
    "collapsed": false,
    "pycharm": {
     "name": "#%% raw\n"
    }
   }
  },
  {
   "cell_type": "markdown",
   "source": [
    "### SFR79\n",
    "\n",
    "Compute the log SFR79 from the \"actual\" simulation SFR averages:\n",
    "\n",
    "$$\\mathrm{SFR79} = \\frac{\\mathrm{SFR}_\\mathrm{5 Myr}}{\\mathrm{SFR}_\\mathrm{800 Myr}}$$"
   ],
   "metadata": {
    "collapsed": false,
    "pycharm": {
     "name": "#%% md\n"
    }
   }
  },
  {
   "cell_type": "code",
   "execution_count": null,
   "outputs": [],
   "source": [
    "SFR79_grid = np.empty(shape=(*gal_grid.shape[:-1], 3), dtype=object)\n",
    "\n",
    "SFR79_grid_fl = SFR79_grid.reshape(-1, *SFR79_grid.shape[-1:])\n",
    "gal_grid_fl = gal_grid.reshape(-1, *gal_grid.shape[-1:])\n",
    "\n",
    "for i, gal_seq in enumerate(tqdm(gal_grid_fl)):\n",
    "    # SFR79_grid_fl[i, 0] = np.sum(gal_grid_fl[i,:][gal_grid_fl[i,:].data['lookbacktime'] <= 0.005]['SFR'])\n",
    "    # print(gal_grid_fl[i,:][gal_grid_fl[i,:].data['lookbacktime'] <= 0.005]['SFR'])\n",
    "    lookbacktime_a = np.array([gal.data[\"lookbacktime\"] for gal in gal_seq])\n",
    "    SFR_a = np.array([gal.data[\"SFR\"] for gal in gal_seq])\n",
    "\n",
    "    # avrg over 5 Myr\n",
    "    SFR7_a = SFR_a[lookbacktime_a <= 0.005]\n",
    "    SFR7_avg = np.sum(SFR7_a) / len(SFR7_a)\n",
    "    SFR79_grid_fl[i, 0] = SFR7_avg\n",
    "    # print(SFR79_grid_fl[i, 0])\n",
    "\n",
    "    # avrg over 800 Myr\n",
    "    SFR9_a = SFR_a[lookbacktime_a <= 0.8]\n",
    "    SFR9_avg = np.sum(SFR9_a) / len(SFR9_a)\n",
    "    SFR79_grid_fl[i, 1] = SFR9_avg\n",
    "    # print(SFR79_grid_fl[i, 1])\n",
    "\n",
    "    # log10(SFR_5Myr / SFR_800Myr)\n",
    "    SFR79_grid_fl[i, 2] = np.log10(SFR7_avg / SFR9_avg)\n",
    "    # print(SFR79_grid_fl[i, 2])\n",
    "\n",
    "print(SFR79_grid)"
   ],
   "metadata": {
    "collapsed": false,
    "pycharm": {
     "name": "#%%\n"
    }
   }
  },
  {
   "cell_type": "markdown",
   "source": [
    "**select galaxies/halos: plot quantities and differences for individual param combinations over time**"
   ],
   "metadata": {
    "collapsed": false
   }
  },
  {
   "cell_type": "code",
   "execution_count": null,
   "outputs": [],
   "source": [
    "# define what to plot\n",
    "x_type = 'lookbacktime'\n",
    "y_type = 'SFR'\n",
    "# which_objects = [0, 100, 200, 300, 400, 500, 600, 700, 800]\n",
    "which_objects = [0, 50, 100, 150, 200, 250, 300]\n",
    "\n",
    "# grab plotting data\n",
    "x_data = []\n",
    "y_data = []\n",
    "label_l = []\n",
    "for i in tqdm(which_objects):\n",
    "    x_data.append([gal.data[x_type] for gal in gal_grid[i][:]])\n",
    "    y_data.append([gal.data[y_type] for gal in gal_grid[i][:]])\n",
    "    # y_data.append([halo.data[y_type] for halo in halo_grid[i][:]])\n",
    "    label_l.append(r\"$\\mathrm{M}_\\star$\"+ f\"= {gal_grid[i, 0].data['mstar']:.2e} \\t SFR = {gal_grid[i, 0].data['SFR']/10**9:.2e}\")\n",
    "\n",
    "# initialise plot\n",
    "fig, ax = plt.subplots(nrows=2, figsize=(9, 9), constrained_layout=True)\n",
    "\n",
    "# plot actual values\n",
    "for i, (x, y, label) in enumerate(zip(x_data, y_data, label_l)):\n",
    "    ax[0].plot(x, y, label=label)\n",
    "\n",
    "\n",
    "# plot one quantity like SFR79\n",
    "for i, label in zip(which_objects, label_l):\n",
    "    ax[1].plot(i, SFR79_grid[i, -1], 'o', label=label)\n",
    "# # plot residual of directions[0] and directions[1]\n",
    "# ax[1].plot(x,\n",
    "#            [(2*(f - b)/(f + b)) if f+b != 0 else 0 for f, b in zip(y_data[0], y_data[1])])\n",
    "# ax[1].axhline(0, ls=':')\n",
    "\n",
    "# additional fig and axes config\n",
    "# fig.suptitle(f'{y_type}: forward vs backward', fontsize=16)\n",
    "fig.suptitle(f'{y_type}: comparing {len(which_objects)} simulated galaxies', fontsize=16)\n",
    "\n",
    "# for a in ax:\n",
    "#     a.invert_xaxis()\n",
    "#     a.set_xlabel(x_type)\n",
    "ax[0].invert_xaxis()\n",
    "ax[0].set_xlabel(x_type)\n",
    "ax[0].set_yscale('log')\n",
    "ax[0].set_ylabel(y_type)\n",
    "\n",
    "ax[1].set_xlabel('simulation number (arb. index)')\n",
    "# ax[1].set_ylabel(f'Δ{y_type}(t) / mean({y_type}' + r'$_\\mathrm{fw}$, ' + f'{y_type}' + r'$_\\mathrm{bw}$)')\n",
    "ax[1].set_ylabel(f'log SFR79')\n",
    "\n",
    "ax[1].legend()\n",
    "\n",
    "\n",
    "# fig.savefig(project_dir / f'/plots/_tmp/{y_type}_forward_vs_backward_comparison.png')\n",
    "fig.savefig(plot_dir / f'comparing_{y_type}_of_{len(which_objects)}_simulated_galaxies'\n",
    "                       f'_{datetime.now().strftime(\"%Y.%m.%d-%H.%M.%S\")}.png')"
   ],
   "metadata": {
    "collapsed": false,
    "pycharm": {
     "name": "#%%\n"
    }
   }
  },
  {
   "cell_type": "markdown",
   "source": [
    "**all galaxies/halos: plot quantities and differences for individual param combinations over time**"
   ],
   "metadata": {
    "collapsed": false
   }
  },
  {
   "cell_type": "code",
   "execution_count": null,
   "outputs": [],
   "source": [
    "# define what to plot\n",
    "x_type = 'lookbacktime'\n",
    "y_type = 'SFR'\n",
    "# c_type = 'mtot'\n",
    "# c_type = 'mtot_over_mstar'\n",
    "c_type = 'mtot_over_mgas'\n",
    "c_snp = 0\n",
    "# c_snp = -1\n",
    "c_alpha = 0.25\n",
    "# which_objects = [0, 100, 200, 300, 400, 500, 600, 700, 800]\n",
    "which_objects = range(0, len(gal_grid), 1)\n",
    "\n",
    "# grab plotting data\n",
    "x_data = []\n",
    "y_data = []\n",
    "c_data = []\n",
    "label_l = []\n",
    "for i in tqdm(which_objects):\n",
    "    x_data.append([gal.data[x_type] for gal in gal_grid[i][:]])\n",
    "    y_data.append([gal.data[y_type] for gal in gal_grid[i][:]])\n",
    "    # y_data.append([halo.data[y_type] for halo in halo_grid[i][:]])\n",
    "    if gal_grid[i][c_snp].data['mgas'] == 0 and halo_grid[i][c_snp].data['mtot'] != 0:\n",
    "        _c_data_i = [np.nan]\n",
    "    else:\n",
    "        _c_data_i = [halo_grid[i][c_snp].data['mtot'] / gal_grid[i][c_snp].data['mgas']]\n",
    "    # c_data.append([halo_grid[i][c_snp].data[c_type]])\n",
    "    # c_data.append([halo_grid[i][c_snp].data['mtot'] / gal_grid[i][c_snp].data['mstar']])\n",
    "    c_data.append(_c_data_i)\n",
    "    label_l.append(r\"$\\mathrm{M}_\\star$\"+ f\"= {gal_grid[i, 0].data['mstar']:.2e} \\t SFR = {gal_grid[i, 0].data['SFR']/10**9:.2e}\")\n",
    "\n",
    "\n",
    "# normalise the colour data to make colour the data according to it (e.g. total halo mass mtot)\n",
    "c_data_range = (np.nanmin(c_data), np.nanmax(c_data))\n",
    "cmap = mpl.cm.viridis_r\n",
    "# cmap = mpl.cm.tab20b\n",
    "norm = mpl.colors.LogNorm(vmin=c_data_range[0], vmax=c_data_range[1])\n",
    "mapper = mpl.cm.ScalarMappable(norm=norm, cmap=cmap)\n",
    "\n",
    "\n",
    "# initialise plot\n",
    "fig, ax = plt.subplots(nrows=2, figsize=(9, 9), constrained_layout=True)\n",
    "\n",
    "# plot actual values\n",
    "for i, (x, y, c, label) in enumerate(zip(x_data, y_data, c_data, label_l)):\n",
    "    c_mapped = mapper.to_rgba(c)\n",
    "    c_mapped[:, -1] = c_alpha\n",
    "    ax[0].plot(x, y, c=c_mapped, label=label)\n",
    "\n",
    "\n",
    "# plot one quantity like SFR79\n",
    "for i, c, label in zip(which_objects, c_data, label_l):\n",
    "    c_mapped = mapper.to_rgba(c)\n",
    "    c_mapped[:, -1] = c_alpha\n",
    "    # ax[1].plot(i, SFR79_grid[i, -1], c=c_mapped, marker='o', label=label)\n",
    "    ax[1].plot(c_data[i], SFR79_grid[i, -1], c=c_mapped, marker='o', label=label)\n",
    "\n",
    "# # plot residual of directions[0] and directions[1]\n",
    "# ax[1].plot(x,\n",
    "#            [(2*(f - b)/(f + b)) if f+b != 0 else 0 for f, b in zip(y_data[0], y_data[1])])\n",
    "# ax[1].axhline(0, ls=':')\n",
    "\n",
    "# additional fig and axes config\n",
    "# fig.suptitle(f'{y_type}: forward vs backward', fontsize=16)\n",
    "fig.suptitle(f'{y_type}: comparing {len(which_objects)} simulated galaxies', fontsize=16)\n",
    "\n",
    "# for a in ax:\n",
    "#     a.invert_xaxis()\n",
    "#     a.set_xlabel(x_type)\n",
    "ax[0].invert_xaxis()\n",
    "ax[0].set_xlabel(x_type)\n",
    "ax[0].set_yscale('log')\n",
    "ax[0].set_ylabel(y_type)\n",
    "\n",
    "ax[1].set_xscale('log')\n",
    "# ax[1].set_xlabel('simulation number (arb. index)')\n",
    "ax[1].set_xlabel(c_type)\n",
    "# ax[1].set_ylabel(f'Δ{y_type}(t) / mean({y_type}' + r'$_\\mathrm{fw}$, ' + f'{y_type}' + r'$_\\mathrm{bw}$)')\n",
    "ax[1].set_ylabel(f'log SFR79')\n",
    "ax[1].text(0.95, 0.05,\n",
    "           f\"{c_type} at lookbacktime = {env_grid[0, c_snp].data['lookbacktime']:.3f}\",\n",
    "           transform=ax[1].transAxes,\n",
    "           va='bottom', ha='right')\n",
    "\n",
    "# ax[1].legend()"
   ],
   "metadata": {
    "collapsed": false,
    "pycharm": {
     "name": "#%%\n"
    }
   }
  },
  {
   "cell_type": "code",
   "execution_count": null,
   "outputs": [],
   "source": [
    "fig.savefig(plot_dir / f'comparing_{y_type}_of_{len(which_objects)}_simulated_galaxies'\n",
    "                       f'_{datetime.now().strftime(\"%Y.%m.%d-%H.%M.%S\")}.png')"
   ],
   "metadata": {
    "collapsed": false,
    "pycharm": {
     "name": "#%%\n"
    }
   }
  },
  {
   "cell_type": "markdown",
   "source": [
    "**SFR79 from observations vs from simulations**"
   ],
   "metadata": {
    "collapsed": false,
    "pycharm": {
     "name": "#%% md\n"
    }
   },
   "execution_count": 57
  },
  {
   "cell_type": "code",
   "execution_count": null,
   "outputs": [],
   "source": [
    "# sort simulation results into an array of same shape as observational results\n",
    "mstar_lower = 10**mstar_mesh[:-1, :-1]\n",
    "mstar_upper = 10**mstar_mesh[1:, 1:]\n",
    "sfr_lower = 10**(sfr_mesh[:-1, :-1]) * 10**9  # multiply by 10**9 because of 'pre yr' to 'per Gyr' conversion\n",
    "sfr_upper = 10**(sfr_mesh[1:, 1:]) * 10**9  # multiply by 10**9 because of 'pre yr' to 'per Gyr' conversion\n",
    "\n",
    "sfr79_sims_grid = np.full_like(sfr79_medians, np.nan)\n",
    "# for (sfr79, gal) in zip(SFR79_grid[:, -1], gal_grid[:, -1]):  # special setting if you want the shape at the end\n",
    "for (sfr79, gal) in zip(SFR79_grid[:, -1], gal_grid[:, 0]):  # regular setting when you want the shape from the start\n",
    "    w_mstar_lower = mstar_lower < gal.data['mstar']\n",
    "    w_mstar_upper = mstar_upper > gal.data['mstar']\n",
    "    w_sfr_lower = sfr_lower < gal.data['SFR']\n",
    "    w_sfr_upper = sfr_upper > gal.data['SFR']\n",
    "\n",
    "    w_mstar = w_mstar_lower & w_mstar_upper\n",
    "    w_sfr = w_sfr_lower & w_sfr_upper\n",
    "\n",
    "    w = w_mstar & w_sfr\n",
    "\n",
    "    # w = (mstar_lower < gal.data['mstar'] &\n",
    "    #      mstar_upper > gal.data['mstar'] &\n",
    "    #      sfr_lower < gal.data['SFR'] &\n",
    "    #      sfr_upper > gal.data['SFR'])\n",
    "    sfr79_sims_grid[w] = sfr79\n",
    "    # sfr79_sims_grid[w_mstar, w_sfr] = sfr79\n",
    "    # pass\n"
   ],
   "metadata": {
    "collapsed": false,
    "pycharm": {
     "name": "#%%\n"
    }
   }
  },
  {
   "cell_type": "code",
   "execution_count": null,
   "outputs": [],
   "source": [
    "# colormap/norm etc. for scatter plot itself\n",
    "sfr79_range = (-2, 2)\n",
    "cmap = mpl.cm.RdBu\n",
    "norm = mpl.colors.Normalize(vmin=sfr79_range[0], vmax=sfr79_range[1])\n",
    "\n",
    "# set up figure and axes\n",
    "fig, (ax_obs, ax_sims, ax_cbar) = plt.subplots(1, 3,\n",
    "                                               gridspec_kw={\n",
    "                                                   'width_ratios': (9, 9, 1),\n",
    "                                                   'hspace': 0.05\n",
    "                                               },\n",
    "                                               figsize=(21, 9))\n",
    "\n",
    "# plot observational data\n",
    "im_obs = ax_obs.pcolormesh(mstar_mesh, sfr_mesh,\n",
    "                           sfr79_medians,\n",
    "                           cmap=cmap, norm=norm)\n",
    "\n",
    "# plot simulation data\n",
    "im_sims = ax_sims.pcolormesh(mstar_mesh, sfr_mesh,\n",
    "                            sfr79_sims_grid,\n",
    "                            cmap=cmap, norm=norm)\n",
    "\n",
    "# plot colorbar\n",
    "fig.colorbar(mpl.cm.ScalarMappable(norm=norm, cmap=cmap),\n",
    "             ax=ax_cbar,\n",
    "             fraction=0.8,\n",
    "             extend='both',\n",
    "             anchor=(0.0, 0.0),\n",
    "             label='log SFR79')\n",
    "\n",
    "# adding the Galaxy Main Sequence on top (Saintonge+2016, Eq. 5)\n",
    "GMS_x = np.linspace(start=np.min(mstar_mesh),\n",
    "                    stop=np.max(mstar_mesh),\n",
    "                    num=1000,\n",
    "                    endpoint=True)\n",
    "for ax in [ax_obs, ax_sims]:\n",
    "    ax.plot(GMS_x, GMS_Saintonge2016(GMS_x),\n",
    "            color='xkcd:magenta', ls=':')\n",
    "\n",
    "# remove unnecessary axes\n",
    "ax_cbar.remove()\n",
    "\n",
    "# figure labelling etc\n",
    "for ax in [ax_obs, ax_sims]:\n",
    "    ax.set_xlabel(r'log $M_\\star$ [$M_\\odot$]')\n",
    "    ax.set_ylabel(r'log SFR [$M_\\odot \\, yr^{-1}$]')\n",
    "ax_sims.text(0.95, 0.05,\n",
    "             f\"min(log SFR79) = {np.nanmin(sfr79_sims_grid):.3f}\\n\"\n",
    "             f\"max(log SFR79) = {np.nanmax(sfr79_sims_grid):.3f}\",\n",
    "             transform=ax_sims.transAxes,\n",
    "             va='bottom', ha='right')"
   ],
   "metadata": {
    "collapsed": false,
    "pycharm": {
     "name": "#%%\n"
    }
   }
  },
  {
   "cell_type": "code",
   "execution_count": null,
   "outputs": [],
   "source": [
    "print(\"min log SFR79 from sims\", np.nanmin(sfr79_sims_grid))\n",
    "print(\"max log SFR79 from sims\", np.nanmax(sfr79_sims_grid))"
   ],
   "metadata": {
    "collapsed": false,
    "pycharm": {
     "name": "#%%\n"
    }
   }
  },
  {
   "cell_type": "code",
   "execution_count": null,
   "outputs": [],
   "source": [
    "# save heat-map plot\n",
    "\n",
    "fig.savefig(plot_dir / f'SFR79_obs_vs_sims_{datetime.now().strftime(\"%Y.%m.%d-%H.%M.%S\")}.png')"
   ],
   "metadata": {
    "collapsed": false,
    "pycharm": {
     "name": "#%%\n"
    }
   }
  },
  {
   "cell_type": "code",
   "execution_count": null,
   "outputs": [],
   "source": [],
   "metadata": {
    "collapsed": false,
    "pycharm": {
     "name": "#%%\n"
    }
   }
  }
 ],
 "metadata": {
  "kernelspec": {
   "display_name": "Python 3",
   "language": "python",
   "name": "python3"
  },
  "language_info": {
   "codemirror_mode": {
    "name": "ipython",
    "version": 2
   },
   "file_extension": ".py",
   "mimetype": "text/x-python",
   "name": "python",
   "nbconvert_exporter": "python",
   "pygments_lexer": "ipython2",
   "version": "2.7.6"
  }
 },
 "nbformat": 4,
 "nbformat_minor": 0
}